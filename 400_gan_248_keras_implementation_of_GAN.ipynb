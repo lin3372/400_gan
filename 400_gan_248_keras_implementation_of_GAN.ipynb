{
  "nbformat": 4,
  "nbformat_minor": 0,
  "metadata": {
    "colab": {
      "name": "400_gan.248_keras_implementation_of_GAN.ipynb",
      "provenance": [],
      "collapsed_sections": [
        "oTBxg9KtUaOi"
      ],
      "mount_file_id": "19E70GR9EOW1HHP50KgzuiycTkzWEcd8h",
      "authorship_tag": "ABX9TyOCkKq/HTM9tATQT7LntW61",
      "include_colab_link": true
    },
    "kernelspec": {
      "name": "python3",
      "display_name": "Python 3"
    },
    "language_info": {
      "name": "python"
    },
    "accelerator": "GPU"
  },
  "cells": [
    {
      "cell_type": "markdown",
      "metadata": {
        "id": "view-in-github",
        "colab_type": "text"
      },
      "source": [
        "<a href=\"https://colab.research.google.com/github/lin3372/400_gan/blob/main/400_gan_248_keras_implementation_of_GAN.ipynb\" target=\"_parent\"><img src=\"https://colab.research.google.com/assets/colab-badge.svg\" alt=\"Open In Colab\"/></a>"
      ]
    },
    {
      "cell_type": "code",
      "execution_count": 21,
      "metadata": {
        "id": "1dwpvVuXTVrY"
      },
      "outputs": [],
      "source": [
        ""
      ]
    },
    {
      "cell_type": "markdown",
      "source": [
        "[Machinelearningmastery - How to Develop a GAN to Generate CIFAR10 Small Color Photographs](https://machinelearningmastery.com/how-to-develop-a-generative-adversarial-network-for-a-cifar-10-small-object-photographs-from-scratch/)\n",
        "\n",
        "[github(bnsreenu) - 248_keras_implementation_of_GAN](https://github.com/bnsreenu/python_for_microscopists/blob/master/248_keras_implementation_of_GAN/248-cifar_GAN.py)\n",
        "\n",
        "[youtube (31min) - 248_keras_implementation_of_GAN](https://www.youtube.com/watch?v=TXy5wZknie8)"
      ],
      "metadata": {
        "id": "hVxEjxoKTYS6"
      }
    },
    {
      "cell_type": "markdown",
      "source": [
        "# Library, Parameters"
      ],
      "metadata": {
        "id": "jLzEh7YuZHZO"
      }
    },
    {
      "cell_type": "code",
      "source": [
        "import numpy as np\n",
        "import tensorflow as tf\n",
        "import random as rand\n",
        "from numpy import zeros\n",
        "from numpy import ones\n",
        "from numpy.random import randn\n",
        "from numpy.random import randint\n",
        "from tensorflow.keras.datasets.cifar10 import load_data\n",
        "from tensorflow.keras.optimizers import Adam\n",
        "from tensorflow.keras.models import Sequential\n",
        "from tensorflow.keras.layers import Dense\n",
        "from tensorflow.keras.layers import Reshape\n",
        "from tensorflow.keras.layers import Flatten\n",
        "from tensorflow.keras.layers import Conv2D\n",
        "from tensorflow.keras.layers import Conv2DTranspose\n",
        "from tensorflow.keras.layers import LeakyReLU\n",
        "from tensorflow.keras.layers import Dropout\n",
        "from tensorflow.keras.utils import  plot_model\n",
        "\n",
        "from matplotlib import pyplot\n",
        "from matplotlib import pyplot as plt\n",
        "from matplotlib.pyplot import figure\n",
        "\n",
        "from google.colab import files"
      ],
      "metadata": {
        "id": "EG80R8VhT5hE"
      },
      "execution_count": 22,
      "outputs": []
    },
    {
      "cell_type": "code",
      "source": [
        "FIG_SIZE=(6,6)\n",
        "INPUT_IMG_SZ=(32,32,3)"
      ],
      "metadata": {
        "id": "rVa1aF3e3JCF"
      },
      "execution_count": 23,
      "outputs": []
    },
    {
      "cell_type": "markdown",
      "source": [
        "# Topics of Content"
      ],
      "metadata": {
        "id": "gKyRFWrfy5dP"
      }
    },
    {
      "cell_type": "markdown",
      "source": [
        "Topics in this tutorials:\n",
        "0. GAN Introduction\n",
        "1. CIFAR-10 Small Object Photograph Dataset\n",
        "2. How to Define and Train the Discriminator Model\n",
        "3. How to Define and Use the Generator Model\n",
        "4. How to Evaluate GAN Model Performance\n",
        "5. How to Train the Generator Model\n",
        "6. Complete Example of GAN for CIFAR-10\n",
        "7. How to Use the Final Generator Model to Generate Images"
      ],
      "metadata": {
        "id": "dDrZhnXBya-Q"
      }
    },
    {
      "cell_type": "markdown",
      "source": [
        "# **0. GAN (Generative Adversarial Networks)** Introduction - Basic ideas"
      ],
      "metadata": {
        "id": "W1mm1Vqnw0w5"
      }
    },
    {
      "cell_type": "markdown",
      "source": [
        "Generative Adversarial Networks, or GANs, are an architecture for training generative models, such as deep convolutional neural networks for generating images.\n",
        "\n",
        "Developing a GAN for generating images requires both \n",
        "1. **Discriminator** convolutional neural network model for classifying whether a given image is real or generated, and \n",
        "2.  **Generator** model that uses inverse convolutional layers to transform an input to a full two-dimensional image of pixel values.\n",
        "\n",
        "It can be challenging to understand both how GANs work and how deep convolutional neural network models can be trained in a GAN architecture for image generation. A good starting point for beginners is to practice developing and using GANs on standard image datasets used in the field of computer vision, such as the CIFAR small object photograph dataset. The code by **Jason Brownlee** from his blogs on https://machinelearningmastery.com/\n",
        "\n",
        "* Regular **GAN** that generates images using a random latent vector as input.\n",
        "* While it works great we do not know the mapping of latent vector to the generated image.\n",
        "* **Conditional GANs** can be used to supply a label during taining so the latent vector can be associated with a specific label - making the generation of images predictable. \n"
      ],
      "metadata": {
        "id": "9V-sZ5Hpw5v_"
      }
    },
    {
      "cell_type": "markdown",
      "source": [
        "Expected Takeaway:\n",
        "\n",
        "1. How to define and train the standalone **Discriminator model** for learning the difference between real and fake images.\n",
        "2. How to define the standalone **Generator model** and train the composite generator and discriminator model.\n",
        "3. How to evaluate the performance of the GAN and use the final standalone generator model to generate new images."
      ],
      "metadata": {
        "id": "HlpMXEEsx2Ap"
      }
    },
    {
      "cell_type": "markdown",
      "source": [
        "# **1. CIFAR-10 Small Object Photograph Dataset**\n",
        "\n"
      ],
      "metadata": {
        "id": "oBZYyggAT_9x"
      }
    },
    {
      "cell_type": "markdown",
      "source": [
        "**CIFAR* is an acronym for the Canadian Institute For Advanced Research and the CIFAR-10 dataset was developed along with the CIFAR-100 dataset by researchers at the CIFAR institute.\n",
        "\n",
        "The dataset is comprised of 60,000 32×32 pixel color photographs of objects from 10 classes, such as frogs, birds, cats, ships, airplanes, etc.\n",
        "\n",
        "Keras provides access to the CIFAR10 dataset via the **cifar10.load_dataset()** function. It returns two tuples, one with the input and output elements for the standard training dataset, and another with the input and output elements for the standard test dataset."
      ],
      "metadata": {
        "id": "ZqnfIy_X0GHt"
      }
    },
    {
      "cell_type": "markdown",
      "source": [
        "## Load Cifar10 and plot to get a quick understanding\n",
        "Note: the first time you load the dataset, Keras will automatically download a compressed version of the images and save them under your home directory in **~/.keras/datasets**\n",
        "\n",
        "CIFAR10 classes are: airplane, automobile, bird, cat, deer, dog, frog, horse, ship, truck"
      ],
      "metadata": {
        "id": "oTBxg9KtUaOi"
      }
    },
    {
      "cell_type": "code",
      "source": [
        "# example of loading the cifar10 dataset\n",
        "from keras.datasets.cifar10 import load_data\n",
        "from keras.datasets.cifar10 import load_data\n",
        "from matplotlib import pyplot\n",
        "\n",
        "# CIFAR10 classes are: airplane, automobile, bird, cat, deer, dog, frog, horse,\n",
        "# load the images into memory\n",
        "(trainX, trainy), (testX, testy) = load_data()\n",
        "\n",
        "# summarize the shape of the dataset\n",
        "print('Train', trainX.shape, trainy.shape)\n",
        "print('Test', testX.shape, testy.shape)\n",
        "\n",
        "# plot images from the training dataset\n",
        "figure(figsize=FIG_SIZE, dpi=80)\n",
        "for i in range(49):\n",
        "\t# define subplot\n",
        "\tpyplot.subplot(7, 7, 1 + i)\n",
        "\t# turn off axis\n",
        "\tpyplot.axis('off')\n",
        "\t# plot raw pixel data\n",
        "\tpyplot.imshow(trainX[i])\n",
        " \n",
        "pyplot.show()"
      ],
      "metadata": {
        "colab": {
          "base_uri": "https://localhost:8080/",
          "height": 430
        },
        "id": "oIhWM2OgUV0C",
        "outputId": "2b7c74d0-44a1-40c8-9bf9-53636e6e9a23"
      },
      "execution_count": 24,
      "outputs": [
        {
          "output_type": "stream",
          "name": "stdout",
          "text": [
            "Train (50000, 32, 32, 3) (50000, 1)\n",
            "Test (10000, 32, 32, 3) (10000, 1)\n"
          ]
        },
        {
          "output_type": "display_data",
          "data": {
            "image/png": "[encoded data removed]",
            "text/plain": [
              "<Figure size 480x480 with 49 Axes>"
            ]
          },
          "metadata": {
            "needs_background": "light"
          }
        }
      ]
    },
    {
      "cell_type": "markdown",
      "source": [
        "#**Generator**, **Discriminator**, **GAN**, **Train()** and other **Helper** functions\n",
        "Using Sequential method from Keras as it makes the definition of models easy.\n",
        "\n",
        "We will use functional way of defining the model for the conditional gan but sequential for descriminator and generator as they are straightforward.\n"
      ],
      "metadata": {
        "id": "Rq41LP_jVBj0"
      }
    },
    {
      "cell_type": "markdown",
      "source": [
        "# **1. Discriminator Model** - How to Define and Train"
      ],
      "metadata": {
        "id": "JpgTcRrhFDs5"
      }
    },
    {
      "cell_type": "markdown",
      "source": [
        "The model must take a sample image from our dataset as input and output a classification prediction as to whether the sample is real or fake. This is a **binary classification** problem.\n",
        "\n",
        "* Inputs: Image with three color channel and 32×32 pixels in size.\n",
        "* Outputs: Binary classification, likelihood the sample is real (or fake)."
      ],
      "metadata": {
        "id": "gYrQ_zzQFUam"
      }
    },
    {
      "cell_type": "markdown",
      "source": [
        "## **Discriminator** model definition\n",
        "Given an input image, the Discriminator outputs the likelihood of the image being real.\n",
        "\n",
        "\n"
      ],
      "metadata": {
        "id": "trkyWz5XVi8E"
      }
    },
    {
      "cell_type": "markdown",
      "source": [
        "The discriminator model has \n",
        "1. a normal convolutional layer \n",
        "2. followed by three convolutional layers using a stride of 2×2 to downsample the input image. \n",
        "3. The model has no pooling layers, and  \n",
        "4. a single node in the output layer with the sigmoid activation function to predict whether the input sample is real or fake. \n",
        "5. The model is trained to minimize the **binary cross entropy loss function**, appropriate for binary classification.\n",
        "> Binary classification - true or false (1 or 0). So using sigmoid activation.\n",
        "\n"
      ],
      "metadata": {
        "id": "wF93bN7lF0XO"
      }
    },
    {
      "cell_type": "code",
      "source": [
        "def define_discriminator(in_shape=INPUT_IMG_SZ):\n",
        "\tmodel = Sequential()\n",
        "\t\n",
        "\tmodel.add(Conv2D(128, (3,3), strides=(2,2), padding='same', input_shape=in_shape)) \n",
        "\tmodel.add(LeakyReLU(alpha=0.2))\n",
        "  # outputs become 16x16x128\n",
        "\t\n",
        "\tmodel.add(Conv2D(128, (3,3), strides=(2,2), padding='same')) # 8x8x128\n",
        "\tmodel.add(LeakyReLU(alpha=0.2))\n",
        "  # output become 8x8x128\n",
        "\t\n",
        "\tmodel.add(Flatten()) #shape of 8192\n",
        "\tmodel.add(Dropout(0.4))\n",
        "\tmodel.add(Dense(1, activation='sigmoid')) #shape of 1\n",
        "\n",
        "\t# compile model\n",
        "\topt = Adam(learning_rate=0.0002, beta_1=0.5)\n",
        "\tmodel.compile(loss='binary_crossentropy', optimizer=opt, metrics=['accuracy'])\n",
        " \n",
        "\t# summarize the model\n",
        "\tmodel.summary()\n",
        "\t\n",
        "\t# plot the model\n",
        "\tplot_model(model, to_file='discriminator_plot.png', show_shapes=True, show_layer_names=True)\n",
        "\n",
        "\treturn model\n",
        "\n",
        "test_discr = define_discriminator()\n",
        "print(test_discr.summary())\n",
        "plot_model(test_discr, to_file='discriminator_plot.png', show_shapes=True, show_layer_names=True)\n",
        "\n",
        "\n",
        "### print(test_discr.summary())\n",
        "### define model\n",
        "### model = define_discriminator()\n",
        "### summarize the model\n",
        "### model.summary()\n",
        "### plot the model\n",
        "### plot_model(model, to_file='discriminator_plot.png', show_shapes=True, show_layer_names=True)\n",
        "###"
      ],
      "metadata": {
        "colab": {
          "base_uri": "https://localhost:8080/",
          "height": 1000
        },
        "id": "DUBn0ncjVuhh",
        "outputId": "b409b064-9859-4814-bc54-73cfe1306a7a"
      },
      "execution_count": 25,
      "outputs": [
        {
          "output_type": "stream",
          "name": "stdout",
          "text": [
            "Model: \"sequential_10\"\n",
            "_________________________________________________________________\n",
            " Layer (type)                Output Shape              Param #   \n",
            "=================================================================\n",
            " conv2d_12 (Conv2D)          (None, 16, 16, 128)       3584      \n",
            "                                                                 \n",
            " leaky_re_lu_20 (LeakyReLU)  (None, 16, 16, 128)       0         \n",
            "                                                                 \n",
            " conv2d_13 (Conv2D)          (None, 8, 8, 128)         147584    \n",
            "                                                                 \n",
            " leaky_re_lu_21 (LeakyReLU)  (None, 8, 8, 128)         0         \n",
            "                                                                 \n",
            " flatten_4 (Flatten)         (None, 8192)              0         \n",
            "                                                                 \n",
            " dropout_4 (Dropout)         (None, 8192)              0         \n",
            "                                                                 \n",
            " dense_8 (Dense)             (None, 1)                 8193      \n",
            "                                                                 \n",
            "=================================================================\n",
            "Total params: 159,361\n",
            "Trainable params: 159,361\n",
            "Non-trainable params: 0\n",
            "_________________________________________________________________\n",
            "Model: \"sequential_10\"\n",
            "_________________________________________________________________\n",
            " Layer (type)                Output Shape              Param #   \n",
            "=================================================================\n",
            " conv2d_12 (Conv2D)          (None, 16, 16, 128)       3584      \n",
            "                                                                 \n",
            " leaky_re_lu_20 (LeakyReLU)  (None, 16, 16, 128)       0         \n",
            "                                                                 \n",
            " conv2d_13 (Conv2D)          (None, 8, 8, 128)         147584    \n",
            "                                                                 \n",
            " leaky_re_lu_21 (LeakyReLU)  (None, 8, 8, 128)         0         \n",
            "                                                                 \n",
            " flatten_4 (Flatten)         (None, 8192)              0         \n",
            "                                                                 \n",
            " dropout_4 (Dropout)         (None, 8192)              0         \n",
            "                                                                 \n",
            " dense_8 (Dense)             (None, 1)                 8193      \n",
            "                                                                 \n",
            "=================================================================\n",
            "Total params: 159,361\n",
            "Trainable params: 159,361\n",
            "Non-trainable params: 0\n",
            "_________________________________________________________________\n",
            "None\n"
          ]
        },
        {
          "output_type": "execute_result",
          "data": {
            "image/png": "[encoded data removed]",
            "text/plain": [
              "<IPython.core.display.Image object>"
            ]
          },
          "metadata": {},
          "execution_count": 25
        }
      ]
    },
    {
      "cell_type": "markdown",
      "source": [
        "## **Images for Discriminator training** \n",
        "> **half real images and half fake images for each batch**\n",
        "\n",
        "Pick a batch of random real samples to train the GAN\n",
        "\n",
        "In fact, we will train the GAN on a half batch of real images (label 1) and another half batch of fake images (label 0) "
      ],
      "metadata": {
        "id": "o6seXzxs262n"
      }
    },
    {
      "cell_type": "markdown",
      "source": [
        "### ***real images*** samples from loaded cifar10 image database"
      ],
      "metadata": {
        "id": "CPH9aC8LYocW"
      }
    },
    {
      "cell_type": "markdown",
      "source": [
        "We must scale the pixel values from the range of unsigned integers in [0,255] to the normalized range of [-1,1].\n",
        "\n",
        "The generator model will generate images with pixel values in the range [-1,1] as it will use the  *$tanh()$*  activation function, a best practice."
      ],
      "metadata": {
        "id": "GZ9EbWKbZMu4"
      }
    },
    {
      "cell_type": "markdown",
      "source": [
        "*generate_real_samples():*\n",
        "* The *generate_real_samples()* function will take the training dataset as an argument and will select a random subsample of images; \n",
        "* It will also return class labels for the sample, specifically a class label of 1, to indicate real images."
      ],
      "metadata": {
        "id": "JJXKfKxR3mc9"
      }
    },
    {
      "cell_type": "code",
      "source": [
        "# load cifar training images\n",
        "def load_real_samples():\n",
        "\t(trainX, _), (_, _) = load_data()\n",
        " \n",
        "\t# convert from unsigned ints to floats\n",
        "\tX = trainX.astype('float32')\n",
        " \n",
        "\t# scale from [0,255] to [-1,1]\n",
        "\tX = (X - 127.5) / 127.5  \n",
        "  #Generator uses tanh activation so rescale original images to -1 to 1 to match the output of generator.\n",
        "\treturn X"
      ],
      "metadata": {
        "id": "HKtuo601Xz_K"
      },
      "execution_count": 26,
      "outputs": []
    },
    {
      "cell_type": "markdown",
      "source": [
        "The model will be updated in batches, specifically with a collection of real samples and a collection of generated samples. \n",
        "> On training, an epoch is defined as one pass through the entire training dataset.\n",
        "\n",
        "We could systematically enumerate all samples in the training dataset, and that is a good approach, but ,\n",
        "> good training via **stochastic gradient descent** requires that the training dataset be shuffled prior to each epoch. \n",
        "> A simpler approach is to select random samples of images from the training dataset."
      ],
      "metadata": {
        "id": "XiveYyUoZpee"
      }
    },
    {
      "cell_type": "code",
      "source": [
        "def generate_real_samples(dataset, n_samples):\n",
        "\t# choose random images\n",
        "\tix = randint(0, dataset.shape[0], n_samples)\n",
        "\t# select the random images and assign it to X\n",
        "\tX = dataset[ix]\n",
        "\t# generate class labels and assign to y\n",
        "\ty = ones((n_samples, 1)) ##Label=1 indicating they are real\n",
        "\treturn X, y"
      ],
      "metadata": {
        "id": "8So9X9SdaG-h"
      },
      "execution_count": 27,
      "outputs": []
    },
    {
      "cell_type": "markdown",
      "source": [
        "### ***fake image*** samples for Discriminator training"
      ],
      "metadata": {
        "id": "NBLKY0Ss5Axs"
      }
    },
    {
      "cell_type": "markdown",
      "source": [
        "We can generate images comprised of random pixel values, specifically random pixel values in the range [0,1], then scaled to the range [-1, 1] like our scaled real images. The generator model will generate images with pixel values in the range [-1,1] as it will use the  **$tanh()$**  activation function, a best practice.\n",
        "\n",
        "The ***generate_fake_samples()*** function below implements this behavior and generates images of random pixel values and their associated class label of 0, for fake."
      ],
      "metadata": {
        "id": "CP_nVtVk48Vd"
      }
    },
    {
      "cell_type": "code",
      "source": [
        "# generate n fake samples with class labels\n",
        "def generate_fake_samples(n_samples):\n",
        "\t# generate uniform random numbers in [0,1]\n",
        "\tX = np.random.rand(32 * 32 * 3 * n_samples)\n",
        " \n",
        "\t# update to have the range [-1, 1]\n",
        "\tX = -1 + X * 2\n",
        "\n",
        "\t# reshape into a batch of color images\n",
        "\tX = X.reshape((n_samples, 32, 32, 3))\n",
        " \n",
        "\t# generate 'fake' class labels (0)\n",
        "\ty = zeros((n_samples, 1))\n",
        "\n",
        "\treturn X, y"
      ],
      "metadata": {
        "id": "cK7kOzrv6lN2"
      },
      "execution_count": 28,
      "outputs": []
    },
    {
      "cell_type": "code",
      "source": [
        "#### testing code for random numbers \n",
        "\"\"\"\n",
        "x = random.uniform(0,1)\n",
        "print(x)\n",
        "\n",
        "T = np.random.rand(3 * 3 * 2)\n",
        "print(f\"T={T}\")\n",
        "\"\"\""
      ],
      "metadata": {
        "colab": {
          "base_uri": "https://localhost:8080/",
          "height": 35
        },
        "id": "aGGrCsxp_Q2J",
        "outputId": "4c21577b-a0b7-47d8-a2ce-e0445955ca85"
      },
      "execution_count": 29,
      "outputs": [
        {
          "output_type": "execute_result",
          "data": {
            "application/vnd.google.colaboratory.intrinsic+json": {
              "type": "string"
            },
            "text/plain": [
              "'\\nx = random.uniform(0,1)\\nprint(x)\\n\\nT = np.random.rand(3 * 3 * 2)\\nprint(f\"T={T}\")\\n'"
            ]
          },
          "metadata": {},
          "execution_count": 29
        }
      ]
    },
    {
      "cell_type": "markdown",
      "source": [
        "## **Discriminator** model training"
      ],
      "metadata": {
        "id": "lebxItwC69Kk"
      }
    },
    {
      "cell_type": "markdown",
      "source": [
        "The model will learn to discriminate between real and fake (randomly generated) images rapidly.\n",
        "\n",
        "The **train_discriminator()** function implements this, using a batch size of 128 images, where 64 are real and 64 are fake each iteration.\n",
        "\n",
        "We update the discriminator separately for real and fake examples so that we can calculate the accuracy of the model on each sample prior to the update. This gives insight into how the discriminator model is performing over time."
      ],
      "metadata": {
        "id": "enwjaKb47OOM"
      }
    },
    {
      "cell_type": "code",
      "source": [
        "def train_discriminator(model, dataset, n_iter=20, n_batch=128):\n",
        "\thalf_batch = int(n_batch / 2)\n",
        " \n",
        "\t# manually enumerate epochs\n",
        "\tfor i in range(n_iter):\n",
        "\t\t# get randomly selected 'real' samples and update discriminator on real samples\n",
        "\t\tX_real, y_real = generate_real_samples(dataset, half_batch)\n",
        "\t\t_, real_acc = model.train_on_batch(X_real, y_real)\n",
        "  \n",
        "\t\t# generate 'fake' examples and update discriminator on fake samples\n",
        "\t\tX_fake, y_fake = generate_fake_samples(half_batch)\n",
        "\t\t_, fake_acc = model.train_on_batch(X_fake, y_fake)\n",
        "\n",
        "\t\t# summarize performance\n",
        "\t\tprint('>%d real=%.0f%% fake=%.0f%%' % (i+1, real_acc*100, fake_acc*100))"
      ],
      "metadata": {
        "id": "v-qtkrSK7vR0"
      },
      "execution_count": 30,
      "outputs": []
    },
    {
      "cell_type": "code",
      "source": [
        "# define the discriminator model\n",
        "model = define_discriminator()\n",
        "# load image data\n",
        "dataset = load_real_samples()\n",
        "# fit the model\n",
        "train_discriminator(model, dataset)"
      ],
      "metadata": {
        "colab": {
          "base_uri": "https://localhost:8080/"
        },
        "id": "-v3cLL0D9m9r",
        "outputId": "b403c772-65e1-4e31-f45d-6681c411232e"
      },
      "execution_count": 31,
      "outputs": [
        {
          "output_type": "stream",
          "name": "stdout",
          "text": [
            "Model: \"sequential_11\"\n",
            "_________________________________________________________________\n",
            " Layer (type)                Output Shape              Param #   \n",
            "=================================================================\n",
            " conv2d_14 (Conv2D)          (None, 16, 16, 128)       3584      \n",
            "                                                                 \n",
            " leaky_re_lu_22 (LeakyReLU)  (None, 16, 16, 128)       0         \n",
            "                                                                 \n",
            " conv2d_15 (Conv2D)          (None, 8, 8, 128)         147584    \n",
            "                                                                 \n",
            " leaky_re_lu_23 (LeakyReLU)  (None, 8, 8, 128)         0         \n",
            "                                                                 \n",
            " flatten_5 (Flatten)         (None, 8192)              0         \n",
            "                                                                 \n",
            " dropout_5 (Dropout)         (None, 8192)              0         \n",
            "                                                                 \n",
            " dense_9 (Dense)             (None, 1)                 8193      \n",
            "                                                                 \n",
            "=================================================================\n",
            "Total params: 159,361\n",
            "Trainable params: 159,361\n",
            "Non-trainable params: 0\n",
            "_________________________________________________________________\n",
            ">1 real=67% fake=30%\n",
            ">2 real=78% fake=31%\n",
            ">3 real=75% fake=55%\n",
            ">4 real=91% fake=66%\n",
            ">5 real=95% fake=81%\n",
            ">6 real=88% fake=83%\n",
            ">7 real=86% fake=86%\n",
            ">8 real=91% fake=98%\n",
            ">9 real=89% fake=100%\n",
            ">10 real=91% fake=98%\n",
            ">11 real=91% fake=100%\n",
            ">12 real=91% fake=100%\n",
            ">13 real=92% fake=100%\n",
            ">14 real=89% fake=100%\n",
            ">15 real=94% fake=100%\n",
            ">16 real=89% fake=100%\n",
            ">17 real=98% fake=100%\n",
            ">18 real=95% fake=100%\n",
            ">19 real=88% fake=100%\n",
            ">20 real=95% fake=100%\n"
          ]
        }
      ]
    },
    {
      "cell_type": "markdown",
      "source": [
        "# **2. Generator** Model - How to Define and Use the Generator Model\n",
        "Given input of **latent vector**, the Generator produces an image.(here: 32x32) ***latent_dim***, for example, can be 100, 1D array of size 100 \n",
        "\n",
        "* Inputs: Point in latent space, e.g. a 100-element vector of Gaussian random numbers.\n",
        "* Outputs: Two-dimensional square color image (3 channels) of 32 x 32 pixels with pixel values in [-1,1].\n",
        "\n",
        "   "
      ],
      "metadata": {
        "id": "LNHppoipV-8o"
      }
    },
    {
      "cell_type": "markdown",
      "source": [
        "## **Generator** model definition"
      ],
      "metadata": {
        "id": "QCtQY1XCKcUO"
      }
    },
    {
      "cell_type": "markdown",
      "source": [
        "The generator model is responsible for creating new, fake, but plausible small photographs of objects.\n",
        "\n",
        "It does this by taking a point from the latent space as input and outputting a square color image.\n",
        "\n",
        "The **latent space** is an arbitrarily defined vector space of **Gaussian-distributed** values, e.g. 100 dimensions. \n",
        "\n",
        "It has no meaning, but by drawing points from this space randomly and providing them to the generator model during training, the generator model will assign meaning to the latent points and, in turn, the latent space, until, at the end of training, the latent vector space represents a compressed representation of the output space, CIFAR-10 images, that only the generator knows how to turn into plausible CIFAR-10 images.\n"
      ],
      "metadata": {
        "id": "0gFEeBRiDS1B"
      }
    },
    {
      "cell_type": "markdown",
      "source": [
        "Here we are only using Dense and conv2d layers. But network can be complicated based on the application. For example, you can use VGG for super res. GAN."
      ],
      "metadata": {
        "id": "ci14EwVaDuGJ"
      }
    },
    {
      "cell_type": "code",
      "source": [
        "def define_generator(latent_dim):    \n",
        "  #latent_dim is the dimension of the latent vector (e.g., 100)\n",
        "\tmodel = Sequential()\n",
        "\t# We will reshape input latent vector into 8x8 image as a starting point. \n",
        "  # So n_nodes for the Dense layer can be 128x8x8 so when we reshape the output \n",
        "  # it would be 8x8x128 and that can be slowly upscaled to 32x32 image for output.\n",
        "\n",
        "\tn_nodes = 128*8*8   #8192 nodes\n",
        "\t# Dense layer so we can work with 1D latent vector\n",
        "\tmodel.add(Dense(n_nodes, input_dim=latent_dim)) \n",
        "\tmodel.add(LeakyReLU(alpha=0.2))\n",
        "  # 8x8x128 dataset from the latent vector.\n",
        "\tmodel.add(Reshape((8, 8, 128)))   \n",
        "\t\n",
        "  # upsample to 16x16\n",
        "\tmodel.add(Conv2DTranspose(128, (4,4), strides=(2,2), padding='same')) #16x16x128\n",
        "\tmodel.add(LeakyReLU(alpha=0.2))\n",
        "\t# upsample to 32x32\n",
        "\tmodel.add(Conv2DTranspose(128, (4,4), strides=(2,2), padding='same')) #32x32x128\n",
        "\tmodel.add(LeakyReLU(alpha=0.2))\n",
        "\t# generate\n",
        "\tmodel.add(Conv2D(3, (8,8), activation='tanh', padding='same')) #32x32x3\n",
        "\n",
        "\t# summarize the model\n",
        "\tmodel.summary()\n",
        "\t# plot the model\n",
        "\tplot_model(model, to_file='generator_plot.png', show_shapes=True, show_layer_names=True)\n",
        "\n",
        "\t# Model not compiled as it is not directly trained like the discriminator.\n",
        "\t# Generator is trained via GAN combined model. \n",
        "\treturn model  \n",
        "\n",
        "test_gen = define_generator(100)\n",
        "plot_model(test_gen, to_file='generator_plot.png', show_shapes=True, show_layer_names=True)\n",
        "##print(test_gen.summary())"
      ],
      "metadata": {
        "colab": {
          "base_uri": "https://localhost:8080/",
          "height": 1000
        },
        "id": "Ff3SFSgfWZYC",
        "outputId": "928f0c79-e983-4a1f-8fff-19cf1e192c1f"
      },
      "execution_count": 32,
      "outputs": [
        {
          "output_type": "stream",
          "name": "stdout",
          "text": [
            "Model: \"sequential_12\"\n",
            "_________________________________________________________________\n",
            " Layer (type)                Output Shape              Param #   \n",
            "=================================================================\n",
            " dense_10 (Dense)            (None, 8192)              827392    \n",
            "                                                                 \n",
            " leaky_re_lu_24 (LeakyReLU)  (None, 8192)              0         \n",
            "                                                                 \n",
            " reshape_4 (Reshape)         (None, 8, 8, 128)         0         \n",
            "                                                                 \n",
            " conv2d_transpose_8 (Conv2DT  (None, 16, 16, 128)      262272    \n",
            " ranspose)                                                       \n",
            "                                                                 \n",
            " leaky_re_lu_25 (LeakyReLU)  (None, 16, 16, 128)       0         \n",
            "                                                                 \n",
            " conv2d_transpose_9 (Conv2DT  (None, 32, 32, 128)      262272    \n",
            " ranspose)                                                       \n",
            "                                                                 \n",
            " leaky_re_lu_26 (LeakyReLU)  (None, 32, 32, 128)       0         \n",
            "                                                                 \n",
            " conv2d_16 (Conv2D)          (None, 32, 32, 3)         24579     \n",
            "                                                                 \n",
            "=================================================================\n",
            "Total params: 1,376,515\n",
            "Trainable params: 1,376,515\n",
            "Non-trainable params: 0\n",
            "_________________________________________________________________\n"
          ]
        },
        {
          "output_type": "execute_result",
          "data": {
            "image/png": "[encoded data removed]",
            "text/plain": [
              "<IPython.core.display.Image object>"
            ]
          },
          "metadata": {},
          "execution_count": 32
        }
      ]
    },
    {
      "cell_type": "markdown",
      "source": [
        "**Note**: the generator model is not compiled and does not specify a loss function or optimization algorithm. This is because the generator is not trained directly. "
      ],
      "metadata": {
        "id": "VDBpxtp1IJbI"
      }
    },
    {
      "cell_type": "markdown",
      "source": [
        "## image generation for **Generator** model"
      ],
      "metadata": {
        "id": "6N9BL-EwMWlv"
      }
    },
    {
      "cell_type": "markdown",
      "source": [
        "### **latent vectors** generation as input to the generator\n",
        "Generate n_samples number of latent vectors as input for the generator\n"
      ],
      "metadata": {
        "id": "0t1QRxNKbTdK"
      }
    },
    {
      "cell_type": "markdown",
      "source": [
        "The first step is to generate new points in the latent space. We can achieve this by calling the ***randn()*** NumPy function for generating arrays of random numbers drawn from a standard Gaussian.\n",
        "\n",
        "The array of random numbers can then be reshaped into samples, that is n rows with 100 elements per row. "
      ],
      "metadata": {
        "id": "n-eNM4SUJYPH"
      }
    },
    {
      "cell_type": "code",
      "source": [
        "def generate_latent_points(latent_dim, n_samples):\n",
        "\t# generate points in the latent space\n",
        "\tx_input = randn(latent_dim * n_samples)\n",
        "\t# reshape into a batch of inputs for the network\n",
        "\tx_input = x_input.reshape(n_samples, latent_dim)\n",
        "\treturn x_input"
      ],
      "metadata": {
        "id": "AHmOv-AXbYrY"
      },
      "execution_count": 33,
      "outputs": []
    },
    {
      "cell_type": "markdown",
      "source": [
        "### ***generate_fake_samples()*** updated to generate the required number of points in latent space"
      ],
      "metadata": {
        "id": "grePPWaQMEyt"
      }
    },
    {
      "cell_type": "markdown",
      "source": [
        "Next, we can use the generated points as input to the generator model to generate new samples, then plot the samples.\n",
        "\n",
        "***generate_fake_samples()*** function is updated to take the generator model as an argument and use it to generate the desired number of samples by first calling the generate_latent_points() function to generate the required number of points in latent space as input to the model.\n"
      ],
      "metadata": {
        "id": "aPJA0XNNLnVW"
      }
    },
    {
      "cell_type": "code",
      "source": [
        "# use the generator to generate n fake examples, with class labels\n",
        "def generate_fake_samples(g_model, latent_dim, n_samples):\n",
        "\t# generate points in latent space\n",
        "\tx_input = generate_latent_points(latent_dim, n_samples)\n",
        "\t# predict outputs\n",
        "\tX = g_model.predict(x_input)\n",
        "\t# create 'fake' class labels (0)\n",
        "\ty = zeros((n_samples, 1))\n",
        "\treturn X, y"
      ],
      "metadata": {
        "id": "jf1OGyV9L93O"
      },
      "execution_count": 34,
      "outputs": []
    },
    {
      "cell_type": "code",
      "source": [
        "# size of the latent space\n",
        "latent_dim = 100\n",
        "# define the discriminator model\n",
        "model = define_generator(latent_dim)\n",
        "# generate samples\n",
        "n_samples = 49\n",
        "X, _ = generate_fake_samples(model, latent_dim, n_samples)\n",
        "# scale pixel values from [-1,1] to [0,1]\n",
        "X = (X + 1) / 2.0\n",
        "# plot the generated samples\n",
        "figure(figsize=FIG_SIZE, dpi=80)\n",
        "for i in range(n_samples):\n",
        "\t# define subplot\n",
        "\tpyplot.subplot(7, 7, 1 + i)\n",
        "\t# turn off axis labels\n",
        "\tpyplot.axis('off')\n",
        "\t# plot single image\n",
        "\tpyplot.imshow(X[i])\n",
        "# show the figure\n",
        "pyplot.show()\n",
        "\n"
      ],
      "metadata": {
        "colab": {
          "base_uri": "https://localhost:8080/",
          "height": 863
        },
        "id": "B0JGbJyTMwod",
        "outputId": "44610afd-3f2d-40fa-f6d1-7d4db594d87e"
      },
      "execution_count": 35,
      "outputs": [
        {
          "output_type": "stream",
          "name": "stdout",
          "text": [
            "Model: \"sequential_13\"\n",
            "_________________________________________________________________\n",
            " Layer (type)                Output Shape              Param #   \n",
            "=================================================================\n",
            " dense_11 (Dense)            (None, 8192)              827392    \n",
            "                                                                 \n",
            " leaky_re_lu_27 (LeakyReLU)  (None, 8192)              0         \n",
            "                                                                 \n",
            " reshape_5 (Reshape)         (None, 8, 8, 128)         0         \n",
            "                                                                 \n",
            " conv2d_transpose_10 (Conv2D  (None, 16, 16, 128)      262272    \n",
            " Transpose)                                                      \n",
            "                                                                 \n",
            " leaky_re_lu_28 (LeakyReLU)  (None, 16, 16, 128)       0         \n",
            "                                                                 \n",
            " conv2d_transpose_11 (Conv2D  (None, 32, 32, 128)      262272    \n",
            " Transpose)                                                      \n",
            "                                                                 \n",
            " leaky_re_lu_29 (LeakyReLU)  (None, 32, 32, 128)       0         \n",
            "                                                                 \n",
            " conv2d_17 (Conv2D)          (None, 32, 32, 3)         24579     \n",
            "                                                                 \n",
            "=================================================================\n",
            "Total params: 1,376,515\n",
            "Trainable params: 1,376,515\n",
            "Non-trainable params: 0\n",
            "_________________________________________________________________\n"
          ]
        },
        {
          "output_type": "display_data",
          "data": {
            "image/png": "[encoded data removed]",
            "text/plain": [
              "<Figure size 480x480 with 49 Axes>"
            ]
          },
          "metadata": {
            "needs_background": "light"
          }
        }
      ]
    },
    {
      "cell_type": "markdown",
      "source": [
        "As the model is not trained, the generated images are completely random pixel values in [-1, 1], rescaled to [0, 1]. As we might expect, the images look like a mess of gray."
      ],
      "metadata": {
        "id": "oVx6pRsINNsG"
      }
    },
    {
      "cell_type": "markdown",
      "source": [
        "# **3. GAN - Combined Generator and Discriminator** - Define and Train the Model\n",
        "**zero-sum or adversarial relationship between these two models**\n"
      ],
      "metadata": {
        "id": "bLRkt6cdXF-a"
      }
    },
    {
      "cell_type": "markdown",
      "source": [
        "The weights in the Generator model are updated based on the performance of the Discriminator model.\n",
        "\n",
        "> When the Discriminator is good at detecting fake samples, the Generator is updated more, and when the Discriminator model is relatively poor or confused when detecting fake samples, the Generator model is updated less.\n",
        "\n",
        "This defines the **zero-sum or adversarial relationship between these two models**.\n",
        "\n",
        "The simplest approach implement is to create a new model that combines the Generator and Discriminator models.\n",
        "\n",
        "Specifically, a new GAN model can be defined that stacks the Generator and Discriminator such that the Generator receives as input random points in the latent space and generates samples that are fed into the Discriminator model directly, classified, and the output of this larger model can be used to update the model weights of the Generator."
      ],
      "metadata": {
        "id": "PuIbZ3OXOMYs"
      }
    },
    {
      "cell_type": "markdown",
      "source": [
        "* **Discriminator**: Only the Discriminator is concerned with distinguishing between real and fake examples, therefore the Discriminator model can be trained in a standalone manner on examples of each, as we did in the section on the Discriminator model above.\n",
        "\n",
        "* **Generator**: The Generator model is *only concerned with the Discriminator performance on fake examples. Therefore, we will mark all of the layers in the Discriminator as not trainable when it is part of the GAN model* so that they can not be updated and overtrained on fake examples.\n",
        "\n",
        "When training the Generator via this logical GAN model, there is one more important change. We want the Discriminator to think that the samples output by the Generator are real, not fake. Therefore, when the Generator is trained as part of the GAN model, we will mark the generated samples as real (class 1)."
      ],
      "metadata": {
        "id": "2TYj5CO6PZG3"
      }
    },
    {
      "cell_type": "markdown",
      "source": [
        "## **GAN** - definition"
      ],
      "metadata": {
        "id": "VMsVglYrN9R_"
      }
    },
    {
      "cell_type": "markdown",
      "source": [
        "We can imagine that the discriminator will then classify the generated samples as not real (class 0) or a low probability of being real (0.3 or 0.5). \n",
        "\n",
        "The backpropagation process used to update the model weights will see this as a large error and will update the model weights (i.e. only the weights in the Generator) to correct for this error, in turn making the Generator better at generating good fake samples."
      ],
      "metadata": {
        "id": "kPJnLfufQqaQ"
      }
    },
    {
      "cell_type": "markdown",
      "source": [
        "* Inputs: Point in latent space, e.g. a 100-element vector of Gaussian random numbers.\n",
        "* Outputs: Binary classification, likelihood the sample is real (or fake).\n",
        "\n",
        "The GAN model uses the same binary cross entropy loss function as the Discriminator and the efficient [Adam version of stochastic gradient descent](https://machinelearningmastery.com/adam-optimization-algorithm-for-deep-learning/) with the *learning rate* of 0.0002 and *momentum* of 0.5, recommended when training deep convolutional GANs."
      ],
      "metadata": {
        "id": "ChSrMkrWTUe_"
      }
    },
    {
      "cell_type": "code",
      "source": [
        "def define_gan(generator, discriminator):\n",
        "\t#Discriminator is trained separately. So set to not trainable.\n",
        "\tdiscriminator.trainable = False  \n",
        "\n",
        "\t# connect generator and discriminator\n",
        "\tmodel = Sequential()\n",
        "\tmodel.add(generator)\n",
        "\tmodel.add(discriminator)\n",
        "\t\n",
        "\t# compile model\n",
        "\topt = Adam(learning_rate=0.0002, beta_1=0.5)\n",
        "\tmodel.compile(loss='binary_crossentropy', optimizer=opt)\n",
        " \n",
        "\treturn model"
      ],
      "metadata": {
        "id": "SdeiNUTNXYyY"
      },
      "execution_count": 36,
      "outputs": []
    },
    {
      "cell_type": "markdown",
      "source": [
        "The trainable property impacts the model after it is compiled. \n",
        "The **Discriminator** model was compiled with trainable layers, therefore the model weights in those layers will be updated when the standalone model is updated via calls to the ***train_on_batch()*** function.\n",
        "\n",
        "This change in the trainable property does not impact the training of the standalone discriminator model."
      ],
      "metadata": {
        "id": "TpYd11NjUT5r"
      }
    },
    {
      "cell_type": "code",
      "source": [
        "# size of the latent space\n",
        "latent_dim = 100\n",
        "# create the discriminator\n",
        "d_model = define_discriminator()\n",
        "# create the generator\n",
        "g_model = define_generator(latent_dim)\n",
        "# create the gan\n",
        "gan_model = define_gan(g_model, d_model)\n",
        "# summarize gan model\n",
        "gan_model.summary()\n",
        "# plot gan model\n",
        "plot_model(gan_model, to_file='gan_plot.png', show_shapes=True, show_layer_names=True)"
      ],
      "metadata": {
        "colab": {
          "base_uri": "https://localhost:8080/",
          "height": 1000
        },
        "id": "ySmk1CRAVm66",
        "outputId": "a3f32551-7596-49d4-a394-5fa8adbb4de8"
      },
      "execution_count": 37,
      "outputs": [
        {
          "output_type": "stream",
          "name": "stdout",
          "text": [
            "Model: \"sequential_14\"\n",
            "_________________________________________________________________\n",
            " Layer (type)                Output Shape              Param #   \n",
            "=================================================================\n",
            " conv2d_18 (Conv2D)          (None, 16, 16, 128)       3584      \n",
            "                                                                 \n",
            " leaky_re_lu_30 (LeakyReLU)  (None, 16, 16, 128)       0         \n",
            "                                                                 \n",
            " conv2d_19 (Conv2D)          (None, 8, 8, 128)         147584    \n",
            "                                                                 \n",
            " leaky_re_lu_31 (LeakyReLU)  (None, 8, 8, 128)         0         \n",
            "                                                                 \n",
            " flatten_6 (Flatten)         (None, 8192)              0         \n",
            "                                                                 \n",
            " dropout_6 (Dropout)         (None, 8192)              0         \n",
            "                                                                 \n",
            " dense_12 (Dense)            (None, 1)                 8193      \n",
            "                                                                 \n",
            "=================================================================\n",
            "Total params: 159,361\n",
            "Trainable params: 159,361\n",
            "Non-trainable params: 0\n",
            "_________________________________________________________________\n",
            "Model: \"sequential_15\"\n",
            "_________________________________________________________________\n",
            " Layer (type)                Output Shape              Param #   \n",
            "=================================================================\n",
            " dense_13 (Dense)            (None, 8192)              827392    \n",
            "                                                                 \n",
            " leaky_re_lu_32 (LeakyReLU)  (None, 8192)              0         \n",
            "                                                                 \n",
            " reshape_6 (Reshape)         (None, 8, 8, 128)         0         \n",
            "                                                                 \n",
            " conv2d_transpose_12 (Conv2D  (None, 16, 16, 128)      262272    \n",
            " Transpose)                                                      \n",
            "                                                                 \n",
            " leaky_re_lu_33 (LeakyReLU)  (None, 16, 16, 128)       0         \n",
            "                                                                 \n",
            " conv2d_transpose_13 (Conv2D  (None, 32, 32, 128)      262272    \n",
            " Transpose)                                                      \n",
            "                                                                 \n",
            " leaky_re_lu_34 (LeakyReLU)  (None, 32, 32, 128)       0         \n",
            "                                                                 \n",
            " conv2d_20 (Conv2D)          (None, 32, 32, 3)         24579     \n",
            "                                                                 \n",
            "=================================================================\n",
            "Total params: 1,376,515\n",
            "Trainable params: 1,376,515\n",
            "Non-trainable params: 0\n",
            "_________________________________________________________________\n",
            "Model: \"sequential_16\"\n",
            "_________________________________________________________________\n",
            " Layer (type)                Output Shape              Param #   \n",
            "=================================================================\n",
            " sequential_15 (Sequential)  (None, 32, 32, 3)         1376515   \n",
            "                                                                 \n",
            " sequential_14 (Sequential)  (None, 1)                 159361    \n",
            "                                                                 \n",
            "=================================================================\n",
            "Total params: 1,535,876\n",
            "Trainable params: 1,376,515\n",
            "Non-trainable params: 159,361\n",
            "_________________________________________________________________\n"
          ]
        },
        {
          "output_type": "execute_result",
          "data": {
            "image/png": "[encoded data removed]",
            "text/plain": [
              "<IPython.core.display.Image object>"
            ]
          },
          "metadata": {},
          "execution_count": 37
        }
      ]
    },
    {
      "cell_type": "markdown",
      "source": [
        "# **4. GAN model performance evaluation**"
      ],
      "metadata": {
        "id": "tQKLn1SByAXg"
      }
    },
    {
      "cell_type": "markdown",
      "source": [
        "Generally, there are no objective ways to evaluate the performance of a GAN model.\n",
        "\n",
        "Instead, images must be subjectively evaluated for quality by human. The adversarial nature of the training process means that the Generator is changing after every batch, meaning that once “good enough” images can be generated, the subjective quality of the images may then begin to vary, improve, or even degrade with subsequent updates.\n",
        "\n",
        "There are three ways to handle this complex training situation.\n",
        "\n",
        "1. Periodically evaluate the classification accuracy of the discriminator on real and fake images.\n",
        "2. Periodically generate many images and save them to file for subjective review.\n",
        "3. Periodically save the generator model.\n",
        "\n",
        "All three of these actions can be performed at the same time for a given training epoch, such as every 10 training epochs. The result will be a saved generator model for which we have a way of subjectively assessing the quality of its output and objectively knowing how well the discriminator was fooled at the time the model was saved."
      ],
      "metadata": {
        "id": "S-yHYi9_RY6i"
      }
    },
    {
      "cell_type": "markdown",
      "source": [
        "### plot of the generated samples"
      ],
      "metadata": {
        "id": "E2A6nQbllrwY"
      }
    },
    {
      "cell_type": "markdown",
      "source": [
        "function to create a plot of the generated samples.\n",
        "\n",
        "As we are evaluating the discriminator on 100 generated CIFAR-10 images, we can plot about half, or 49, as a 7 by 7 grid."
      ],
      "metadata": {
        "id": "MDT17WSnlPm4"
      }
    },
    {
      "cell_type": "code",
      "source": [
        "from google.colab import files\n",
        "\n",
        "# create and save a plot of generated images\n",
        "def save_plot(examples, epoch, n=7):\n",
        "  # scale from [-1,1] to [0,1]\n",
        "  examples = (examples + 1) / 2.0\n",
        "\n",
        "  # plot the generated samples\n",
        "  figure(figsize=FIG_SIZE, dpi=80)\n",
        "\n",
        "  # plot images\n",
        "  for i in range(n * n):\n",
        "    # define subplot\n",
        "    pyplot.subplot(n, n, 1 + i)\n",
        "    # turn off axis\n",
        "    pyplot.axis('off')\n",
        "    # plot raw pixel data\n",
        "    pyplot.imshow(examples[i])\n",
        "  # save plot to file\n",
        "  filename = 'generated_plot_e%03d.png' % (epoch+1)\n",
        "  pyplot.savefig(filename)\n",
        "  files.download(filename)\n",
        "  pyplot.close()"
      ],
      "metadata": {
        "id": "Nqe5cw07krP8"
      },
      "execution_count": 38,
      "outputs": []
    },
    {
      "cell_type": "markdown",
      "source": [
        "### performance summarization"
      ],
      "metadata": {
        "id": "oXvWht7qlctJ"
      }
    },
    {
      "cell_type": "markdown",
      "source": [
        "Training the GAN over many epochs, such as hundreds or thousands of epochs, will result in many snapshots of the model that can be inspected, and from which specific outputs and models can be cherry-picked for later use.\n",
        "\n",
        "First, we can define a function called ***summarize_performance()*** that will summarize the performance of the Discriminator model. It does this by retrieving a sample of real CIFAR-10 images, as well as generating the same number of fake CIFAR-10 images with the generator model, then evaluating the classification accuracy of the Discriminator model on each sample, and reporting these scores."
      ],
      "metadata": {
        "id": "9ECflf9-SeIH"
      }
    },
    {
      "cell_type": "code",
      "source": [
        "from google.colab import files\n",
        "\n",
        "# evaluate the discriminator, plot generated images, save generator model\n",
        "def summarize_performance(epoch, g_model, d_model, dataset, latent_dim, n_samples=150):\n",
        "  # prepare real samples\n",
        "  X_real, y_real = generate_real_samples(dataset, n_samples)\n",
        "  # evaluate discriminator on real examples\n",
        "  _, acc_real = d_model.evaluate(X_real, y_real, verbose=0)\n",
        "  # prepare fake examples\n",
        "  x_fake, y_fake = generate_fake_samples(g_model, latent_dim, n_samples)\n",
        "  # evaluate discriminator on fake examples\n",
        "  _, acc_fake = d_model.evaluate(x_fake, y_fake, verbose=0)\n",
        "  # summarize discriminator performance\n",
        "  print('>Accuracy real: %.1f%%, fake: %.1f%%' % (acc_real*100, acc_fake*100))\n",
        "\n",
        "  # save plot\n",
        "  save_plot(x_fake, epoch)\n",
        "\n",
        "  # save the Generator/Discriminator model tile file\n",
        "  filename = 'generator_model_%03d.h5' % (epoch+1)\n",
        "  g_model.save(filename)\n",
        "  files.download(filename)  \n",
        "\n",
        "  filename = 'descriminator_model_%03d.h5' % (epoch+1)\n",
        "  d_model.save(filename)\n",
        "  files.download(filename)    "
      ],
      "metadata": {
        "id": "3xQPadsDyrEk"
      },
      "execution_count": 40,
      "outputs": []
    },
    {
      "cell_type": "markdown",
      "source": [
        "# **5. GAN training - for Generator and Discriminator**\n",
        "\n"
      ],
      "metadata": {
        "id": "y_lo02Jcd0CA"
      }
    },
    {
      "cell_type": "markdown",
      "source": [
        "## Training the composite model"
      ],
      "metadata": {
        "id": "P31HDSc4m9-8"
      }
    },
    {
      "cell_type": "markdown",
      "source": [
        "Training the composite model involves generating a batch worth of points in the latent space via the ***generate_latent_points()*** function, and class=1 labels and calling the ***train_on_batch()*** function.\n",
        "\n",
        "The ***train_gan()*** function below demonstrates this, although it is pretty simple as only the generator will be updated each epoch, leaving the discriminator with default model weights."
      ],
      "metadata": {
        "id": "-NYb-E_tamHS"
      }
    },
    {
      "cell_type": "code",
      "source": [
        "# train the composite model\n",
        "def train_gan(gan_model, latent_dim, n_epochs=200, n_batch=128):\n",
        "\t# manually enumerate epochs\n",
        "\tfor i in range(n_epochs):\n",
        "\t\t# prepare points in latent space as input for the generator\n",
        "\t\tx_gan = generate_latent_points(latent_dim, n_batch)\n",
        "  \n",
        "\t\t# create inverted labels for the fake samples\n",
        "\t\ty_gan = ones((n_batch, 1))\n",
        "\t\t# update the generator via the discriminator's error\n",
        "    \n",
        "\t\tgan_model.train_on_batch(x_gan, y_gan)"
      ],
      "metadata": {
        "id": "-VMMoKWXa7Ri"
      },
      "execution_count": 41,
      "outputs": []
    },
    {
      "cell_type": "markdown",
      "source": [
        "## complete ***train()*** function"
      ],
      "metadata": {
        "id": "4u3L-lE3oeUC"
      }
    },
    {
      "cell_type": "markdown",
      "source": [
        "Instead, what is required is that we \n",
        "1. first update the Discriminator model with real and fake samples, \n",
        "2. then update the Generator via the composite model.\n",
        "\n",
        "This requires combining elements from the ***train_discriminator()*** function defined in the discriminator section, and the ***train_gan()*** function. It also requires that we enumerate over both epochs and batches within in an epoch."
      ],
      "metadata": {
        "id": "6XlyrM89bagp"
      }
    },
    {
      "cell_type": "markdown",
      "source": [
        "\n",
        "1. the number of batches within an epoch is defined by how many times the batch size divides into the training dataset. \n",
        "> We have a dataset size of 50K samples, so with rounding down, there are 390 batches per epoch.\n",
        "\n",
        "2. Discriminator model is updated twice per batch, once with real samples and once with fake samples\n",
        "> best practice as opposed to combining the samples and performing a single update.\n",
        "\n",
        "3. ***loss*** is reported at each batch. It is critical to keep an eye on the loss over batches. \n",
        "> A crash in the Discriminator loss indicates that the Generator model has started generating rubbish examples that the discriminator can easily discriminate.\n",
        "\n",
        "4. Monitor the **Discriminator loss** and expect it to hover around **0.5 to 0.8** per batch. The **Generator loss** is less critical and may hover between 0.5 and 2 or higher. \n",
        "> A clever programmer might even attempt to detect the crashing loss of the discriminator, halt, and then restart the training process."
      ],
      "metadata": {
        "id": "bWqKqmeKc1mo"
      }
    },
    {
      "cell_type": "markdown",
      "source": [
        "The complete train function for updating the discriminator model and the generator (via the composite model) is listed below.\n",
        "\n",
        "* looping through a number of epochs to train our Discriminator by \n",
        "\n",
        "> 1.   Selecting a random batch of images from our true/real dataset\n",
        "> 2.   Generating a set of images using the generator\n",
        "> 3.   Feed both set of images into the Discriminator\n",
        "> 4.   Set the loss parameters for both the real and fake images, as well as the combined loss."
      ],
      "metadata": {
        "id": "mU5GrQ3gWPdi"
      }
    },
    {
      "cell_type": "code",
      "source": [
        "def train(g_model, d_model, gan_model, dataset, latent_dim, n_epochs=200, n_batch=128, f_model=\"gan_model\"):\n",
        "\tbat_per_epo = int(dataset.shape[0] / n_batch)\n",
        "\thalf_batch = int(n_batch / 2)   \n",
        "\t\n",
        "  # manually enumerate epochs and bacthes. \n",
        "\tfor i in range(n_epochs):\n",
        "\t\t# enumerate batches over the training set\n",
        "\t\tfor j in range(bat_per_epo):\n",
        "    \n",
        "      # ================== Discriminator ==================\n",
        "      # Discriminator model is updated with a batch = half real samples + half fake samples\n",
        "      # Train the discriminator on real and fake images, separately (half batch each)\n",
        "      # Research showed that separate training is more effective. \n",
        "\t\t\t\n",
        "      # randomly selected 'real' samples, train_on_batch to update weights based on real samples\n",
        "\t\t\t# update discriminator model weights, just capture loss and ignore accuracy value      \n",
        "\t\t\tX_real, y_real = generate_real_samples(dataset, half_batch)\n",
        "\t\t\td_loss_real, _ = d_model.train_on_batch(X_real, y_real) \n",
        "\t\t\t\n",
        "      # generate 'fake' examples and update discriminator model weights\n",
        "\t\t\tX_fake, y_fake = generate_fake_samples(g_model, latent_dim, half_batch)\n",
        "\t\t\td_loss_fake, _ = d_model.train_on_batch(X_fake, y_fake)\n",
        "\n",
        "      # Average loss if you want to report single..            \n",
        "      #d_loss = 0.5 * np.add(d_loss_real, d_loss_fake) \n",
        "\n",
        "      # ================== Generator ==================\n",
        "\t\t\t# X_gan: prepare points in latent space as input for the generator\n",
        "      # y_gan: create inverted labels for the fake samples\n",
        "      #   The Generator wants the Discriminator to label the generated samples as valid (ones)\n",
        "      #   The Generator is trying to trick Discriminator in believing the generated image is true \n",
        "      #                 (hence value of 1 for y)\t\t\t    \n",
        "      # update the generator via the discriminator's error        \n",
        "\t\t\tX_gan = generate_latent_points(latent_dim, n_batch)\t\t\n",
        "\t\t\ty_gan = ones((n_batch, 1))\n",
        "\t\t\tg_loss = gan_model.train_on_batch(X_gan, y_gan)   \n",
        "            \n",
        "      # Generator is part of combined model where it got directly linked with the discriminator\n",
        "      # Train the generator with latent_dim as x and 1 as y. \n",
        "\t\t\t\n",
        "      # Print losses on this batch\n",
        "\t\t\tif ((j+1) % (int(bat_per_epo/10)) == 0):\n",
        "\t\t\t  print('Epoch>%d, Batch %3d%%, d1=%.3f, d2=%.3f g=%.3f' \\\n",
        "          %(i+1, int((j+1)*100/bat_per_epo), d_loss_real, d_loss_fake, g_loss))\n",
        "\n",
        "\t\t# evaluate the model performance, sometimes\n",
        "\t\tif (i+1) % 10 == 0:\n",
        "\t\t\tsummarize_performance(i, g_model, d_model, dataset, latent_dim)\n",
        "   \n",
        "    # save the model after each epoch\n",
        "    # g_model.save('cifar_generator_2epochs.h5')\n",
        "\t\tg_model.save(f\"{f_model}.{i+1}_{n_epochs}.h5\")\n",
        "\n",
        "\t# save the generator model\n",
        "\tg_model.save(f\"{f_model}_final.h5\")\n",
        "\t#g_model.save('cifar_generator_2epochs.h5')"
      ],
      "metadata": {
        "id": "N1q-le_42eri"
      },
      "execution_count": 42,
      "outputs": []
    },
    {
      "cell_type": "markdown",
      "source": [
        "### Note"
      ],
      "metadata": {
        "id": "YqGiQ4Wkc5o3"
      }
    },
    {
      "cell_type": "markdown",
      "source": [
        "# **6. GAN for CIFAR-10** Complete Example of "
      ],
      "metadata": {
        "id": "fyz9mAQdaBoE"
      }
    },
    {
      "cell_type": "markdown",
      "source": [
        "The chosen configuration results in the stable training of both the generative and discriminative model.\n",
        "\n",
        "The model performance is reported every batch, including the loss of both the Discriminative (d_model) and Generative (g_model) models."
      ],
      "metadata": {
        "id": "FHQPLHvynyeK"
      }
    },
    {
      "cell_type": "markdown",
      "source": [
        "### Example"
      ],
      "metadata": {
        "id": "4pNUmhIgofsP"
      }
    },
    {
      "cell_type": "code",
      "source": [
        "# size of the latent space\n",
        "latent_dim = 100\n",
        "# create the discriminator\n",
        "d_model = define_discriminator()\n",
        "# create the generator\n",
        "g_model = define_generator(latent_dim)\n",
        "# create the gan\n",
        "gan_model = define_gan(g_model, d_model)\n",
        "# load image data\n",
        "dataset = load_real_samples()\n",
        "# train model\n",
        "train(g_model, d_model, gan_model, dataset, latent_dim, n_epochs=500, f_model=\"cifar_gan\")"
      ],
      "metadata": {
        "colab": {
          "base_uri": "https://localhost:8080/",
          "height": 1000
        },
        "id": "knlvG9ZEaNUF",
        "outputId": "36dc50af-8702-4fae-8b3f-8a82b5d39eb6"
      },
      "execution_count": null,
      "outputs": [
        {
          "output_type": "stream",
          "name": "stdout",
          "text": [
            "Model: \"sequential_17\"\n",
            "_________________________________________________________________\n",
            " Layer (type)                Output Shape              Param #   \n",
            "=================================================================\n",
            " conv2d_21 (Conv2D)          (None, 16, 16, 128)       3584      \n",
            "                                                                 \n",
            " leaky_re_lu_35 (LeakyReLU)  (None, 16, 16, 128)       0         \n",
            "                                                                 \n",
            " conv2d_22 (Conv2D)          (None, 8, 8, 128)         147584    \n",
            "                                                                 \n",
            " leaky_re_lu_36 (LeakyReLU)  (None, 8, 8, 128)         0         \n",
            "                                                                 \n",
            " flatten_7 (Flatten)         (None, 8192)              0         \n",
            "                                                                 \n",
            " dropout_7 (Dropout)         (None, 8192)              0         \n",
            "                                                                 \n",
            " dense_14 (Dense)            (None, 1)                 8193      \n",
            "                                                                 \n",
            "=================================================================\n",
            "Total params: 159,361\n",
            "Trainable params: 159,361\n",
            "Non-trainable params: 0\n",
            "_________________________________________________________________\n",
            "Model: \"sequential_18\"\n",
            "_________________________________________________________________\n",
            " Layer (type)                Output Shape              Param #   \n",
            "=================================================================\n",
            " dense_15 (Dense)            (None, 8192)              827392    \n",
            "                                                                 \n",
            " leaky_re_lu_37 (LeakyReLU)  (None, 8192)              0         \n",
            "                                                                 \n",
            " reshape_7 (Reshape)         (None, 8, 8, 128)         0         \n",
            "                                                                 \n",
            " conv2d_transpose_14 (Conv2D  (None, 16, 16, 128)      262272    \n",
            " Transpose)                                                      \n",
            "                                                                 \n",
            " leaky_re_lu_38 (LeakyReLU)  (None, 16, 16, 128)       0         \n",
            "                                                                 \n",
            " conv2d_transpose_15 (Conv2D  (None, 32, 32, 128)      262272    \n",
            " Transpose)                                                      \n",
            "                                                                 \n",
            " leaky_re_lu_39 (LeakyReLU)  (None, 32, 32, 128)       0         \n",
            "                                                                 \n",
            " conv2d_23 (Conv2D)          (None, 32, 32, 3)         24579     \n",
            "                                                                 \n",
            "=================================================================\n",
            "Total params: 1,376,515\n",
            "Trainable params: 1,376,515\n",
            "Non-trainable params: 0\n",
            "_________________________________________________________________\n",
            "Epoch>1, Batch  10%, d1=0.756, d2=0.785 g=0.815\n",
            "Epoch>1, Batch  20%, d1=0.405, d2=0.385 g=1.372\n",
            "Epoch>1, Batch  30%, d1=0.346, d2=0.418 g=1.402\n",
            "Epoch>1, Batch  40%, d1=0.484, d2=0.193 g=2.371\n",
            "Epoch>1, Batch  50%, d1=0.760, d2=0.386 g=2.105\n",
            "Epoch>1, Batch  60%, d1=0.685, d2=0.487 g=1.267\n",
            "Epoch>1, Batch  70%, d1=0.591, d2=0.752 g=0.863\n",
            "Epoch>1, Batch  80%, d1=0.826, d2=0.670 g=1.002\n",
            "Epoch>1, Batch  90%, d1=0.818, d2=0.436 g=1.289\n",
            "Epoch>1, Batch 100%, d1=0.767, d2=0.726 g=0.789\n",
            "WARNING:tensorflow:Compiled the loaded model, but the compiled metrics have yet to be built. `model.compile_metrics` will be empty until you train or evaluate the model.\n",
            "Epoch>2, Batch  10%, d1=0.743, d2=0.512 g=1.083\n",
            "Epoch>2, Batch  20%, d1=0.663, d2=0.661 g=0.840\n",
            "Epoch>2, Batch  30%, d1=0.613, d2=0.641 g=0.822\n",
            "Epoch>2, Batch  40%, d1=0.565, d2=0.667 g=0.786\n",
            "Epoch>2, Batch  50%, d1=0.563, d2=0.659 g=0.840\n",
            "Epoch>2, Batch  60%, d1=0.757, d2=0.522 g=1.053\n",
            "Epoch>2, Batch  70%, d1=0.685, d2=0.737 g=0.760\n",
            "Epoch>2, Batch  80%, d1=0.675, d2=0.567 g=0.954\n",
            "Epoch>2, Batch  90%, d1=0.534, d2=0.810 g=0.726\n",
            "Epoch>2, Batch 100%, d1=0.672, d2=0.559 g=0.912\n",
            "WARNING:tensorflow:Compiled the loaded model, but the compiled metrics have yet to be built. `model.compile_metrics` will be empty until you train or evaluate the model.\n",
            "Epoch>3, Batch  10%, d1=0.666, d2=0.692 g=0.722\n",
            "Epoch>3, Batch  20%, d1=0.608, d2=0.564 g=0.965\n",
            "Epoch>3, Batch  30%, d1=0.640, d2=0.703 g=0.725\n",
            "Epoch>3, Batch  40%, d1=0.644, d2=0.745 g=0.765\n",
            "Epoch>3, Batch  50%, d1=0.708, d2=0.627 g=0.856\n",
            "Epoch>3, Batch  60%, d1=0.725, d2=0.680 g=0.740\n",
            "Epoch>3, Batch  70%, d1=0.683, d2=0.638 g=0.854\n",
            "Epoch>3, Batch  80%, d1=0.676, d2=0.647 g=0.882\n",
            "Epoch>3, Batch  90%, d1=0.681, d2=0.750 g=0.707\n",
            "Epoch>3, Batch 100%, d1=0.728, d2=0.747 g=0.729\n",
            "WARNING:tensorflow:Compiled the loaded model, but the compiled metrics have yet to be built. `model.compile_metrics` will be empty until you train or evaluate the model.\n",
            "Epoch>4, Batch  10%, d1=0.712, d2=0.685 g=0.776\n",
            "Epoch>4, Batch  20%, d1=0.668, d2=0.678 g=0.785\n",
            "Epoch>4, Batch  30%, d1=0.684, d2=0.666 g=0.766\n",
            "Epoch>4, Batch  40%, d1=0.710, d2=0.646 g=0.825\n",
            "Epoch>4, Batch  50%, d1=0.657, d2=0.599 g=0.832\n",
            "Epoch>4, Batch  60%, d1=0.614, d2=0.625 g=0.936\n",
            "Epoch>4, Batch  70%, d1=0.682, d2=0.667 g=0.752\n",
            "Epoch>4, Batch  80%, d1=0.742, d2=0.663 g=0.766\n",
            "Epoch>4, Batch  90%, d1=0.663, d2=0.734 g=0.697\n",
            "Epoch>4, Batch 100%, d1=0.708, d2=0.655 g=0.777\n",
            "WARNING:tensorflow:Compiled the loaded model, but the compiled metrics have yet to be built. `model.compile_metrics` will be empty until you train or evaluate the model.\n",
            "Epoch>5, Batch  10%, d1=0.710, d2=0.670 g=0.758\n",
            "Epoch>5, Batch  20%, d1=0.700, d2=0.674 g=0.782\n",
            "Epoch>5, Batch  30%, d1=0.719, d2=0.746 g=0.705\n",
            "Epoch>5, Batch  40%, d1=0.686, d2=0.650 g=0.761\n",
            "Epoch>5, Batch  50%, d1=0.665, d2=0.734 g=0.738\n",
            "Epoch>5, Batch  60%, d1=0.683, d2=0.833 g=0.623\n",
            "Epoch>5, Batch  70%, d1=0.689, d2=0.682 g=0.764\n",
            "Epoch>5, Batch  80%, d1=0.691, d2=0.752 g=0.709\n",
            "Epoch>5, Batch  90%, d1=0.596, d2=0.794 g=0.640\n",
            "Epoch>5, Batch 100%, d1=0.732, d2=0.590 g=0.903\n",
            "WARNING:tensorflow:Compiled the loaded model, but the compiled metrics have yet to be built. `model.compile_metrics` will be empty until you train or evaluate the model.\n",
            "Epoch>6, Batch  10%, d1=0.656, d2=0.687 g=0.755\n",
            "Epoch>6, Batch  20%, d1=0.651, d2=0.699 g=0.677\n",
            "Epoch>6, Batch  30%, d1=0.676, d2=0.778 g=0.669\n",
            "Epoch>6, Batch  40%, d1=0.696, d2=0.676 g=0.785\n",
            "Epoch>6, Batch  50%, d1=0.667, d2=0.668 g=0.752\n",
            "Epoch>6, Batch  60%, d1=0.681, d2=0.637 g=0.831\n",
            "Epoch>6, Batch  70%, d1=0.677, d2=0.592 g=0.864\n",
            "Epoch>6, Batch  80%, d1=0.710, d2=0.578 g=0.928\n",
            "Epoch>6, Batch  90%, d1=0.709, d2=0.665 g=0.770\n",
            "Epoch>6, Batch 100%, d1=0.715, d2=0.707 g=0.717\n",
            "WARNING:tensorflow:Compiled the loaded model, but the compiled metrics have yet to be built. `model.compile_metrics` will be empty until you train or evaluate the model.\n",
            "Epoch>7, Batch  10%, d1=0.667, d2=0.731 g=0.696\n",
            "Epoch>7, Batch  20%, d1=0.719, d2=0.573 g=0.992\n",
            "Epoch>7, Batch  30%, d1=0.749, d2=0.622 g=0.836\n",
            "Epoch>7, Batch  40%, d1=0.688, d2=0.480 g=1.064\n",
            "Epoch>7, Batch  50%, d1=0.611, d2=0.624 g=0.861\n",
            "Epoch>7, Batch  60%, d1=0.569, d2=0.758 g=0.688\n",
            "Epoch>7, Batch  70%, d1=0.825, d2=0.583 g=0.918\n",
            "Epoch>7, Batch  80%, d1=0.395, d2=0.873 g=0.594\n",
            "Epoch>7, Batch  90%, d1=0.645, d2=0.692 g=0.725\n",
            "Epoch>7, Batch 100%, d1=0.760, d2=0.617 g=1.014\n",
            "WARNING:tensorflow:Compiled the loaded model, but the compiled metrics have yet to be built. `model.compile_metrics` will be empty until you train or evaluate the model.\n",
            "Epoch>8, Batch  10%, d1=0.625, d2=0.698 g=0.767\n",
            "Epoch>8, Batch  20%, d1=0.761, d2=0.861 g=0.682\n",
            "Epoch>8, Batch  30%, d1=0.732, d2=0.818 g=0.684\n",
            "Epoch>8, Batch  40%, d1=0.641, d2=0.669 g=0.755\n",
            "Epoch>8, Batch  50%, d1=0.643, d2=0.773 g=0.790\n",
            "Epoch>8, Batch  60%, d1=0.881, d2=0.712 g=0.764\n",
            "Epoch>8, Batch  70%, d1=0.567, d2=0.822 g=0.630\n",
            "Epoch>8, Batch  80%, d1=0.650, d2=0.694 g=0.777\n",
            "Epoch>8, Batch  90%, d1=0.656, d2=0.645 g=0.793\n",
            "Epoch>8, Batch 100%, d1=0.623, d2=0.732 g=0.736\n",
            "WARNING:tensorflow:Compiled the loaded model, but the compiled metrics have yet to be built. `model.compile_metrics` will be empty until you train or evaluate the model.\n",
            "Epoch>9, Batch  10%, d1=0.618, d2=0.739 g=0.738\n",
            "Epoch>9, Batch  20%, d1=0.598, d2=0.629 g=0.908\n",
            "Epoch>9, Batch  30%, d1=0.689, d2=0.762 g=0.694\n",
            "Epoch>9, Batch  40%, d1=0.677, d2=0.730 g=0.755\n",
            "Epoch>9, Batch  50%, d1=0.609, d2=0.691 g=0.976\n",
            "Epoch>9, Batch  60%, d1=0.483, d2=0.864 g=0.709\n",
            "Epoch>9, Batch  70%, d1=0.791, d2=0.578 g=0.823\n",
            "Epoch>9, Batch  80%, d1=0.623, d2=0.656 g=0.807\n",
            "Epoch>9, Batch  90%, d1=0.743, d2=0.763 g=0.792\n",
            "Epoch>9, Batch 100%, d1=0.745, d2=0.639 g=0.800\n",
            "WARNING:tensorflow:Compiled the loaded model, but the compiled metrics have yet to be built. `model.compile_metrics` will be empty until you train or evaluate the model.\n",
            "Epoch>10, Batch  10%, d1=0.681, d2=0.700 g=0.760\n",
            "Epoch>10, Batch  20%, d1=0.664, d2=0.818 g=0.659\n",
            "Epoch>10, Batch  30%, d1=0.676, d2=0.641 g=0.787\n",
            "Epoch>10, Batch  40%, d1=0.817, d2=0.563 g=1.132\n",
            "Epoch>10, Batch  50%, d1=0.726, d2=0.623 g=0.797\n",
            "Epoch>10, Batch  60%, d1=0.665, d2=0.687 g=0.750\n",
            "Epoch>10, Batch  70%, d1=0.726, d2=0.700 g=0.754\n",
            "Epoch>10, Batch  80%, d1=0.690, d2=0.728 g=0.697\n",
            "Epoch>10, Batch  90%, d1=0.663, d2=0.711 g=0.724\n",
            "Epoch>10, Batch 100%, d1=0.686, d2=0.696 g=0.729\n",
            ">Accuracy real: 60.0%, fake: 63.3%\n"
          ]
        },
        {
          "output_type": "display_data",
          "data": {
            "application/javascript": [
              "\n",
              "    async function download(id, filename, size) {\n",
              "      if (!google.colab.kernel.accessAllowed) {\n",
              "        return;\n",
              "      }\n",
              "      const div = document.createElement('div');\n",
              "      const label = document.createElement('label');\n",
              "      label.textContent = `Downloading \"${filename}\": `;\n",
              "      div.appendChild(label);\n",
              "      const progress = document.createElement('progress');\n",
              "      progress.max = size;\n",
              "      div.appendChild(progress);\n",
              "      document.body.appendChild(div);\n",
              "\n",
              "      const buffers = [];\n",
              "      let downloaded = 0;\n",
              "\n",
              "      const channel = await google.colab.kernel.comms.open(id);\n",
              "      // Send a message to notify the kernel that we're ready.\n",
              "      channel.send({})\n",
              "\n",
              "      for await (const message of channel.messages) {\n",
              "        // Send a message to notify the kernel that we're ready.\n",
              "        channel.send({})\n",
              "        if (message.buffers) {\n",
              "          for (const buffer of message.buffers) {\n",
              "            buffers.push(buffer);\n",
              "            downloaded += buffer.byteLength;\n",
              "            progress.value = downloaded;\n",
              "          }\n",
              "        }\n",
              "      }\n",
              "      const blob = new Blob(buffers, {type: 'application/binary'});\n",
              "      const a = document.createElement('a');\n",
              "      a.href = window.URL.createObjectURL(blob);\n",
              "      a.download = filename;\n",
              "      div.appendChild(a);\n",
              "      a.click();\n",
              "      div.remove();\n",
              "    }\n",
              "  "
            ],
            "text/plain": [
              "<IPython.core.display.Javascript object>"
            ]
          },
          "metadata": {}
        },
        {
          "output_type": "display_data",
          "data": {
            "application/javascript": [
              "download(\"download_a42d76ff-7b98-4f5d-b6e2-378922071de5\", \"generated_plot_e010.png\", 228111)"
            ],
            "text/plain": [
              "<IPython.core.display.Javascript object>"
            ]
          },
          "metadata": {}
        },
        {
          "output_type": "stream",
          "name": "stdout",
          "text": [
            "WARNING:tensorflow:Compiled the loaded model, but the compiled metrics have yet to be built. `model.compile_metrics` will be empty until you train or evaluate the model.\n"
          ]
        },
        {
          "output_type": "display_data",
          "data": {
            "application/javascript": [
              "\n",
              "    async function download(id, filename, size) {\n",
              "      if (!google.colab.kernel.accessAllowed) {\n",
              "        return;\n",
              "      }\n",
              "      const div = document.createElement('div');\n",
              "      const label = document.createElement('label');\n",
              "      label.textContent = `Downloading \"${filename}\": `;\n",
              "      div.appendChild(label);\n",
              "      const progress = document.createElement('progress');\n",
              "      progress.max = size;\n",
              "      div.appendChild(progress);\n",
              "      document.body.appendChild(div);\n",
              "\n",
              "      const buffers = [];\n",
              "      let downloaded = 0;\n",
              "\n",
              "      const channel = await google.colab.kernel.comms.open(id);\n",
              "      // Send a message to notify the kernel that we're ready.\n",
              "      channel.send({})\n",
              "\n",
              "      for await (const message of channel.messages) {\n",
              "        // Send a message to notify the kernel that we're ready.\n",
              "        channel.send({})\n",
              "        if (message.buffers) {\n",
              "          for (const buffer of message.buffers) {\n",
              "            buffers.push(buffer);\n",
              "            downloaded += buffer.byteLength;\n",
              "            progress.value = downloaded;\n",
              "          }\n",
              "        }\n",
              "      }\n",
              "      const blob = new Blob(buffers, {type: 'application/binary'});\n",
              "      const a = document.createElement('a');\n",
              "      a.href = window.URL.createObjectURL(blob);\n",
              "      a.download = filename;\n",
              "      div.appendChild(a);\n",
              "      a.click();\n",
              "      div.remove();\n",
              "    }\n",
              "  "
            ],
            "text/plain": [
              "<IPython.core.display.Javascript object>"
            ]
          },
          "metadata": {}
        },
        {
          "output_type": "display_data",
          "data": {
            "application/javascript": [
              "download(\"download_40f3f0ac-acea-4203-a930-42b4403c6456\", \"generator_model_010.h5\", 5529776)"
            ],
            "text/plain": [
              "<IPython.core.display.Javascript object>"
            ]
          },
          "metadata": {}
        },
        {
          "output_type": "display_data",
          "data": {
            "application/javascript": [
              "\n",
              "    async function download(id, filename, size) {\n",
              "      if (!google.colab.kernel.accessAllowed) {\n",
              "        return;\n",
              "      }\n",
              "      const div = document.createElement('div');\n",
              "      const label = document.createElement('label');\n",
              "      label.textContent = `Downloading \"${filename}\": `;\n",
              "      div.appendChild(label);\n",
              "      const progress = document.createElement('progress');\n",
              "      progress.max = size;\n",
              "      div.appendChild(progress);\n",
              "      document.body.appendChild(div);\n",
              "\n",
              "      const buffers = [];\n",
              "      let downloaded = 0;\n",
              "\n",
              "      const channel = await google.colab.kernel.comms.open(id);\n",
              "      // Send a message to notify the kernel that we're ready.\n",
              "      channel.send({})\n",
              "\n",
              "      for await (const message of channel.messages) {\n",
              "        // Send a message to notify the kernel that we're ready.\n",
              "        channel.send({})\n",
              "        if (message.buffers) {\n",
              "          for (const buffer of message.buffers) {\n",
              "            buffers.push(buffer);\n",
              "            downloaded += buffer.byteLength;\n",
              "            progress.value = downloaded;\n",
              "          }\n",
              "        }\n",
              "      }\n",
              "      const blob = new Blob(buffers, {type: 'application/binary'});\n",
              "      const a = document.createElement('a');\n",
              "      a.href = window.URL.createObjectURL(blob);\n",
              "      a.download = filename;\n",
              "      div.appendChild(a);\n",
              "      a.click();\n",
              "      div.remove();\n",
              "    }\n",
              "  "
            ],
            "text/plain": [
              "<IPython.core.display.Javascript object>"
            ]
          },
          "metadata": {}
        },
        {
          "output_type": "display_data",
          "data": {
            "application/javascript": [
              "download(\"download_775e2c00-ea1a-4551-9c3f-d68838025667\", \"descriminator_model_010.h5\", 1949824)"
            ],
            "text/plain": [
              "<IPython.core.display.Javascript object>"
            ]
          },
          "metadata": {}
        },
        {
          "output_type": "stream",
          "name": "stdout",
          "text": [
            "WARNING:tensorflow:Compiled the loaded model, but the compiled metrics have yet to be built. `model.compile_metrics` will be empty until you train or evaluate the model.\n",
            "Epoch>11, Batch  10%, d1=0.754, d2=0.671 g=0.848\n",
            "Epoch>11, Batch  20%, d1=0.748, d2=0.722 g=0.721\n",
            "Epoch>11, Batch  30%, d1=0.669, d2=0.717 g=0.704\n",
            "Epoch>11, Batch  40%, d1=0.692, d2=0.717 g=0.712\n",
            "Epoch>11, Batch  50%, d1=0.742, d2=0.673 g=0.745\n",
            "Epoch>11, Batch  60%, d1=0.683, d2=0.661 g=0.744\n",
            "Epoch>11, Batch  70%, d1=0.743, d2=0.644 g=0.795\n",
            "Epoch>11, Batch  80%, d1=0.698, d2=0.656 g=0.767\n",
            "Epoch>11, Batch  90%, d1=0.735, d2=0.671 g=0.748\n",
            "Epoch>11, Batch 100%, d1=0.712, d2=0.672 g=0.769\n",
            "WARNING:tensorflow:Compiled the loaded model, but the compiled metrics have yet to be built. `model.compile_metrics` will be empty until you train or evaluate the model.\n",
            "Epoch>12, Batch  10%, d1=0.719, d2=0.674 g=0.747\n",
            "Epoch>12, Batch  20%, d1=0.699, d2=0.654 g=0.754\n",
            "Epoch>12, Batch  30%, d1=0.715, d2=0.680 g=0.745\n",
            "Epoch>12, Batch  40%, d1=0.746, d2=0.689 g=0.735\n",
            "Epoch>12, Batch  50%, d1=0.697, d2=0.665 g=0.768\n",
            "Epoch>12, Batch  60%, d1=0.715, d2=0.651 g=0.762\n",
            "Epoch>12, Batch  70%, d1=0.726, d2=0.722 g=0.712\n",
            "Epoch>12, Batch  80%, d1=0.716, d2=0.679 g=0.784\n",
            "Epoch>12, Batch  90%, d1=0.719, d2=0.608 g=0.841\n",
            "Epoch>12, Batch 100%, d1=0.683, d2=0.720 g=0.720\n",
            "WARNING:tensorflow:Compiled the loaded model, but the compiled metrics have yet to be built. `model.compile_metrics` will be empty until you train or evaluate the model.\n",
            "Epoch>13, Batch  10%, d1=0.724, d2=0.637 g=0.784\n",
            "Epoch>13, Batch  20%, d1=0.721, d2=0.689 g=0.725\n",
            "Epoch>13, Batch  30%, d1=0.684, d2=0.689 g=0.719\n",
            "Epoch>13, Batch  40%, d1=0.675, d2=0.675 g=0.765\n",
            "Epoch>13, Batch  50%, d1=0.737, d2=0.677 g=0.748\n",
            "Epoch>13, Batch  60%, d1=0.758, d2=0.651 g=0.789\n",
            "Epoch>13, Batch  70%, d1=0.671, d2=0.760 g=0.688\n",
            "Epoch>13, Batch  80%, d1=0.668, d2=0.684 g=0.748\n",
            "Epoch>13, Batch  90%, d1=0.651, d2=0.681 g=0.732\n",
            "Epoch>13, Batch 100%, d1=0.689, d2=0.714 g=0.719\n",
            "WARNING:tensorflow:Compiled the loaded model, but the compiled metrics have yet to be built. `model.compile_metrics` will be empty until you train or evaluate the model.\n",
            "Epoch>14, Batch  10%, d1=0.690, d2=0.661 g=0.801\n",
            "Epoch>14, Batch  20%, d1=0.689, d2=0.677 g=0.761\n",
            "Epoch>14, Batch  30%, d1=0.716, d2=0.627 g=0.841\n",
            "Epoch>14, Batch  40%, d1=0.645, d2=0.716 g=0.738\n",
            "Epoch>14, Batch  50%, d1=0.655, d2=0.671 g=0.777\n",
            "Epoch>14, Batch  60%, d1=0.671, d2=0.636 g=0.766\n",
            "Epoch>14, Batch  70%, d1=0.672, d2=0.723 g=0.735\n",
            "Epoch>14, Batch  80%, d1=0.644, d2=0.710 g=0.708\n",
            "Epoch>14, Batch  90%, d1=0.701, d2=0.671 g=0.775\n",
            "Epoch>14, Batch 100%, d1=0.683, d2=0.646 g=0.796\n",
            "WARNING:tensorflow:Compiled the loaded model, but the compiled metrics have yet to be built. `model.compile_metrics` will be empty until you train or evaluate the model.\n",
            "Epoch>15, Batch  10%, d1=0.670, d2=0.690 g=0.732\n",
            "Epoch>15, Batch  20%, d1=0.707, d2=0.660 g=0.782\n",
            "Epoch>15, Batch  30%, d1=0.691, d2=0.665 g=0.786\n",
            "Epoch>15, Batch  40%, d1=0.725, d2=0.658 g=0.814\n",
            "Epoch>15, Batch  50%, d1=0.678, d2=0.691 g=0.743\n",
            "Epoch>15, Batch  60%, d1=0.674, d2=0.688 g=0.760\n",
            "Epoch>15, Batch  70%, d1=0.710, d2=0.715 g=0.753\n",
            "Epoch>15, Batch  80%, d1=0.701, d2=0.674 g=0.782\n",
            "Epoch>15, Batch  90%, d1=0.721, d2=0.625 g=0.844\n",
            "Epoch>15, Batch 100%, d1=0.672, d2=0.672 g=0.767\n",
            "WARNING:tensorflow:Compiled the loaded model, but the compiled metrics have yet to be built. `model.compile_metrics` will be empty until you train or evaluate the model.\n",
            "Epoch>16, Batch  10%, d1=0.664, d2=0.692 g=0.768\n",
            "Epoch>16, Batch  20%, d1=0.684, d2=0.681 g=0.783\n",
            "Epoch>16, Batch  30%, d1=0.651, d2=0.687 g=0.744\n",
            "Epoch>16, Batch  40%, d1=0.712, d2=0.632 g=0.812\n",
            "Epoch>16, Batch  50%, d1=0.738, d2=0.665 g=0.794\n",
            "Epoch>16, Batch  60%, d1=0.811, d2=0.630 g=0.832\n",
            "Epoch>16, Batch  70%, d1=0.705, d2=0.670 g=0.774\n",
            "Epoch>16, Batch  80%, d1=0.713, d2=0.819 g=0.659\n",
            "Epoch>16, Batch  90%, d1=0.697, d2=0.671 g=0.816\n",
            "Epoch>16, Batch 100%, d1=0.720, d2=0.660 g=0.762\n",
            "WARNING:tensorflow:Compiled the loaded model, but the compiled metrics have yet to be built. `model.compile_metrics` will be empty until you train or evaluate the model.\n",
            "Epoch>17, Batch  10%, d1=0.720, d2=0.682 g=0.747\n",
            "Epoch>17, Batch  20%, d1=0.720, d2=0.730 g=0.741\n",
            "Epoch>17, Batch  30%, d1=0.712, d2=0.667 g=0.783\n",
            "Epoch>17, Batch  40%, d1=0.676, d2=0.689 g=0.746\n",
            "Epoch>17, Batch  50%, d1=0.706, d2=0.733 g=0.733\n",
            "Epoch>17, Batch  60%, d1=0.700, d2=0.654 g=0.819\n",
            "Epoch>17, Batch  70%, d1=0.700, d2=0.645 g=0.796\n",
            "Epoch>17, Batch  80%, d1=0.679, d2=0.711 g=0.733\n",
            "Epoch>17, Batch  90%, d1=0.682, d2=0.739 g=0.702\n",
            "Epoch>17, Batch 100%, d1=0.739, d2=0.663 g=0.797\n",
            "WARNING:tensorflow:Compiled the loaded model, but the compiled metrics have yet to be built. `model.compile_metrics` will be empty until you train or evaluate the model.\n",
            "Epoch>18, Batch  10%, d1=0.680, d2=0.700 g=0.727\n",
            "Epoch>18, Batch  20%, d1=0.702, d2=0.679 g=0.761\n",
            "Epoch>18, Batch  30%, d1=0.706, d2=0.706 g=0.739\n",
            "Epoch>18, Batch  40%, d1=0.672, d2=0.717 g=0.725\n",
            "Epoch>18, Batch  50%, d1=0.711, d2=0.739 g=0.707\n",
            "Epoch>18, Batch  60%, d1=0.703, d2=0.732 g=0.718\n",
            "Epoch>18, Batch  70%, d1=0.741, d2=0.659 g=0.789\n",
            "Epoch>18, Batch  80%, d1=0.736, d2=0.683 g=0.781\n",
            "Epoch>18, Batch  90%, d1=0.690, d2=0.713 g=0.687\n",
            "Epoch>18, Batch 100%, d1=0.715, d2=0.658 g=0.776\n",
            "WARNING:tensorflow:Compiled the loaded model, but the compiled metrics have yet to be built. `model.compile_metrics` will be empty until you train or evaluate the model.\n",
            "Epoch>19, Batch  10%, d1=0.693, d2=0.672 g=0.775\n",
            "Epoch>19, Batch  20%, d1=0.677, d2=0.735 g=0.705\n",
            "Epoch>19, Batch  30%, d1=0.677, d2=0.691 g=0.728\n",
            "Epoch>19, Batch  40%, d1=0.643, d2=0.675 g=0.735\n",
            "Epoch>19, Batch  50%, d1=0.719, d2=0.643 g=0.757\n",
            "Epoch>19, Batch  60%, d1=0.697, d2=0.687 g=0.724\n",
            "Epoch>19, Batch  70%, d1=0.733, d2=0.685 g=0.699\n",
            "Epoch>19, Batch  80%, d1=0.674, d2=0.726 g=0.708\n",
            "Epoch>19, Batch  90%, d1=0.711, d2=0.707 g=0.721\n",
            "Epoch>19, Batch 100%, d1=0.713, d2=0.687 g=0.811\n",
            "WARNING:tensorflow:Compiled the loaded model, but the compiled metrics have yet to be built. `model.compile_metrics` will be empty until you train or evaluate the model.\n",
            "Epoch>20, Batch  10%, d1=0.689, d2=0.725 g=0.705\n",
            "Epoch>20, Batch  20%, d1=0.733, d2=0.678 g=0.739\n",
            "Epoch>20, Batch  30%, d1=0.680, d2=0.769 g=0.683\n",
            "Epoch>20, Batch  40%, d1=0.716, d2=0.673 g=0.760\n",
            "Epoch>20, Batch  50%, d1=0.707, d2=0.670 g=0.766\n",
            "Epoch>20, Batch  60%, d1=0.699, d2=0.660 g=0.847\n",
            "Epoch>20, Batch  70%, d1=0.671, d2=0.698 g=0.704\n",
            "Epoch>20, Batch  80%, d1=0.711, d2=0.703 g=0.727\n",
            "Epoch>20, Batch  90%, d1=0.680, d2=0.730 g=0.730\n",
            "Epoch>20, Batch 100%, d1=0.670, d2=0.692 g=0.734\n",
            ">Accuracy real: 62.7%, fake: 62.0%\n"
          ]
        },
        {
          "output_type": "display_data",
          "data": {
            "application/javascript": [
              "\n",
              "    async function download(id, filename, size) {\n",
              "      if (!google.colab.kernel.accessAllowed) {\n",
              "        return;\n",
              "      }\n",
              "      const div = document.createElement('div');\n",
              "      const label = document.createElement('label');\n",
              "      label.textContent = `Downloading \"${filename}\": `;\n",
              "      div.appendChild(label);\n",
              "      const progress = document.createElement('progress');\n",
              "      progress.max = size;\n",
              "      div.appendChild(progress);\n",
              "      document.body.appendChild(div);\n",
              "\n",
              "      const buffers = [];\n",
              "      let downloaded = 0;\n",
              "\n",
              "      const channel = await google.colab.kernel.comms.open(id);\n",
              "      // Send a message to notify the kernel that we're ready.\n",
              "      channel.send({})\n",
              "\n",
              "      for await (const message of channel.messages) {\n",
              "        // Send a message to notify the kernel that we're ready.\n",
              "        channel.send({})\n",
              "        if (message.buffers) {\n",
              "          for (const buffer of message.buffers) {\n",
              "            buffers.push(buffer);\n",
              "            downloaded += buffer.byteLength;\n",
              "            progress.value = downloaded;\n",
              "          }\n",
              "        }\n",
              "      }\n",
              "      const blob = new Blob(buffers, {type: 'application/binary'});\n",
              "      const a = document.createElement('a');\n",
              "      a.href = window.URL.createObjectURL(blob);\n",
              "      a.download = filename;\n",
              "      div.appendChild(a);\n",
              "      a.click();\n",
              "      div.remove();\n",
              "    }\n",
              "  "
            ],
            "text/plain": [
              "<IPython.core.display.Javascript object>"
            ]
          },
          "metadata": {}
        },
        {
          "output_type": "display_data",
          "data": {
            "application/javascript": [
              "download(\"download_b3de72d0-1c7e-4792-a66d-a1ae342f5ed8\", \"generated_plot_e020.png\", 225768)"
            ],
            "text/plain": [
              "<IPython.core.display.Javascript object>"
            ]
          },
          "metadata": {}
        },
        {
          "output_type": "stream",
          "name": "stdout",
          "text": [
            "WARNING:tensorflow:Compiled the loaded model, but the compiled metrics have yet to be built. `model.compile_metrics` will be empty until you train or evaluate the model.\n"
          ]
        },
        {
          "output_type": "display_data",
          "data": {
            "application/javascript": [
              "\n",
              "    async function download(id, filename, size) {\n",
              "      if (!google.colab.kernel.accessAllowed) {\n",
              "        return;\n",
              "      }\n",
              "      const div = document.createElement('div');\n",
              "      const label = document.createElement('label');\n",
              "      label.textContent = `Downloading \"${filename}\": `;\n",
              "      div.appendChild(label);\n",
              "      const progress = document.createElement('progress');\n",
              "      progress.max = size;\n",
              "      div.appendChild(progress);\n",
              "      document.body.appendChild(div);\n",
              "\n",
              "      const buffers = [];\n",
              "      let downloaded = 0;\n",
              "\n",
              "      const channel = await google.colab.kernel.comms.open(id);\n",
              "      // Send a message to notify the kernel that we're ready.\n",
              "      channel.send({})\n",
              "\n",
              "      for await (const message of channel.messages) {\n",
              "        // Send a message to notify the kernel that we're ready.\n",
              "        channel.send({})\n",
              "        if (message.buffers) {\n",
              "          for (const buffer of message.buffers) {\n",
              "            buffers.push(buffer);\n",
              "            downloaded += buffer.byteLength;\n",
              "            progress.value = downloaded;\n",
              "          }\n",
              "        }\n",
              "      }\n",
              "      const blob = new Blob(buffers, {type: 'application/binary'});\n",
              "      const a = document.createElement('a');\n",
              "      a.href = window.URL.createObjectURL(blob);\n",
              "      a.download = filename;\n",
              "      div.appendChild(a);\n",
              "      a.click();\n",
              "      div.remove();\n",
              "    }\n",
              "  "
            ],
            "text/plain": [
              "<IPython.core.display.Javascript object>"
            ]
          },
          "metadata": {}
        },
        {
          "output_type": "display_data",
          "data": {
            "application/javascript": [
              "download(\"download_a2e44f9b-6046-40e6-9ee9-7b70ed5408d3\", \"generator_model_020.h5\", 5529776)"
            ],
            "text/plain": [
              "<IPython.core.display.Javascript object>"
            ]
          },
          "metadata": {}
        },
        {
          "output_type": "display_data",
          "data": {
            "application/javascript": [
              "\n",
              "    async function download(id, filename, size) {\n",
              "      if (!google.colab.kernel.accessAllowed) {\n",
              "        return;\n",
              "      }\n",
              "      const div = document.createElement('div');\n",
              "      const label = document.createElement('label');\n",
              "      label.textContent = `Downloading \"${filename}\": `;\n",
              "      div.appendChild(label);\n",
              "      const progress = document.createElement('progress');\n",
              "      progress.max = size;\n",
              "      div.appendChild(progress);\n",
              "      document.body.appendChild(div);\n",
              "\n",
              "      const buffers = [];\n",
              "      let downloaded = 0;\n",
              "\n",
              "      const channel = await google.colab.kernel.comms.open(id);\n",
              "      // Send a message to notify the kernel that we're ready.\n",
              "      channel.send({})\n",
              "\n",
              "      for await (const message of channel.messages) {\n",
              "        // Send a message to notify the kernel that we're ready.\n",
              "        channel.send({})\n",
              "        if (message.buffers) {\n",
              "          for (const buffer of message.buffers) {\n",
              "            buffers.push(buffer);\n",
              "            downloaded += buffer.byteLength;\n",
              "            progress.value = downloaded;\n",
              "          }\n",
              "        }\n",
              "      }\n",
              "      const blob = new Blob(buffers, {type: 'application/binary'});\n",
              "      const a = document.createElement('a');\n",
              "      a.href = window.URL.createObjectURL(blob);\n",
              "      a.download = filename;\n",
              "      div.appendChild(a);\n",
              "      a.click();\n",
              "      div.remove();\n",
              "    }\n",
              "  "
            ],
            "text/plain": [
              "<IPython.core.display.Javascript object>"
            ]
          },
          "metadata": {}
        },
        {
          "output_type": "display_data",
          "data": {
            "application/javascript": [
              "download(\"download_4834d3b1-3bbf-435f-8b00-b626b40362d8\", \"descriminator_model_020.h5\", 1949824)"
            ],
            "text/plain": [
              "<IPython.core.display.Javascript object>"
            ]
          },
          "metadata": {}
        },
        {
          "output_type": "stream",
          "name": "stdout",
          "text": [
            "WARNING:tensorflow:Compiled the loaded model, but the compiled metrics have yet to be built. `model.compile_metrics` will be empty until you train or evaluate the model.\n",
            "Epoch>21, Batch  10%, d1=0.668, d2=0.706 g=0.709\n",
            "Epoch>21, Batch  20%, d1=0.674, d2=0.686 g=0.732\n",
            "Epoch>21, Batch  30%, d1=0.683, d2=0.759 g=0.664\n",
            "Epoch>21, Batch  40%, d1=0.726, d2=0.705 g=0.726\n",
            "Epoch>21, Batch  50%, d1=0.674, d2=0.617 g=0.817\n",
            "Epoch>21, Batch  60%, d1=0.760, d2=0.672 g=0.747\n",
            "Epoch>21, Batch  70%, d1=0.695, d2=0.663 g=0.754\n",
            "Epoch>21, Batch  80%, d1=0.723, d2=0.692 g=0.726\n",
            "Epoch>21, Batch  90%, d1=0.676, d2=0.707 g=0.715\n",
            "Epoch>21, Batch 100%, d1=0.654, d2=0.701 g=0.708\n",
            "WARNING:tensorflow:Compiled the loaded model, but the compiled metrics have yet to be built. `model.compile_metrics` will be empty until you train or evaluate the model.\n",
            "Epoch>22, Batch  10%, d1=0.700, d2=0.666 g=0.733\n",
            "Epoch>22, Batch  20%, d1=0.721, d2=0.691 g=0.729\n",
            "Epoch>22, Batch  30%, d1=0.676, d2=0.769 g=0.692\n",
            "Epoch>22, Batch  40%, d1=0.709, d2=0.679 g=0.740\n",
            "Epoch>22, Batch  50%, d1=0.699, d2=0.761 g=0.706\n",
            "Epoch>22, Batch  60%, d1=0.698, d2=0.695 g=0.735\n",
            "Epoch>22, Batch  70%, d1=0.712, d2=0.676 g=0.724\n",
            "Epoch>22, Batch  80%, d1=0.685, d2=0.701 g=0.705\n",
            "Epoch>22, Batch  90%, d1=0.709, d2=0.652 g=0.770\n",
            "Epoch>22, Batch 100%, d1=0.710, d2=0.692 g=0.740\n",
            "WARNING:tensorflow:Compiled the loaded model, but the compiled metrics have yet to be built. `model.compile_metrics` will be empty until you train or evaluate the model.\n",
            "Epoch>23, Batch  10%, d1=0.737, d2=0.672 g=0.731\n",
            "Epoch>23, Batch  20%, d1=0.744, d2=0.690 g=0.731\n",
            "Epoch>23, Batch  30%, d1=0.708, d2=0.663 g=0.778\n",
            "Epoch>23, Batch  40%, d1=0.756, d2=0.631 g=0.798\n",
            "Epoch>23, Batch  50%, d1=0.712, d2=0.672 g=0.726\n",
            "Epoch>23, Batch  60%, d1=0.725, d2=0.658 g=0.763\n",
            "Epoch>23, Batch  70%, d1=0.742, d2=0.636 g=0.773\n",
            "Epoch>23, Batch  80%, d1=0.704, d2=0.681 g=0.720\n",
            "Epoch>23, Batch  90%, d1=0.727, d2=0.652 g=0.779\n",
            "Epoch>23, Batch 100%, d1=0.715, d2=0.705 g=0.725\n",
            "WARNING:tensorflow:Compiled the loaded model, but the compiled metrics have yet to be built. `model.compile_metrics` will be empty until you train or evaluate the model.\n",
            "Epoch>24, Batch  10%, d1=0.724, d2=0.678 g=0.743\n",
            "Epoch>24, Batch  20%, d1=0.692, d2=0.686 g=0.722\n",
            "Epoch>24, Batch  30%, d1=0.691, d2=0.737 g=0.689\n",
            "Epoch>24, Batch  40%, d1=0.703, d2=0.734 g=0.686\n",
            "Epoch>24, Batch  50%, d1=0.695, d2=0.711 g=0.726\n",
            "Epoch>24, Batch  60%, d1=0.715, d2=0.759 g=0.678\n",
            "Epoch>24, Batch  70%, d1=0.671, d2=0.753 g=0.717\n",
            "Epoch>24, Batch  80%, d1=0.649, d2=0.734 g=0.672\n",
            "Epoch>24, Batch  90%, d1=0.693, d2=0.704 g=0.719\n",
            "Epoch>24, Batch 100%, d1=0.735, d2=0.738 g=0.673\n",
            "WARNING:tensorflow:Compiled the loaded model, but the compiled metrics have yet to be built. `model.compile_metrics` will be empty until you train or evaluate the model.\n",
            "Epoch>25, Batch  10%, d1=0.690, d2=0.722 g=0.710\n",
            "Epoch>25, Batch  20%, d1=0.664, d2=0.699 g=0.699\n",
            "Epoch>25, Batch  30%, d1=0.709, d2=0.701 g=0.709\n",
            "Epoch>25, Batch  40%, d1=0.715, d2=0.693 g=0.719\n",
            "Epoch>25, Batch  50%, d1=0.701, d2=0.699 g=0.710\n",
            "Epoch>25, Batch  60%, d1=0.690, d2=0.701 g=0.723\n",
            "Epoch>25, Batch  70%, d1=0.717, d2=0.664 g=0.753\n",
            "Epoch>25, Batch  80%, d1=0.705, d2=0.656 g=0.789\n",
            "Epoch>25, Batch  90%, d1=0.735, d2=0.634 g=0.829\n",
            "Epoch>25, Batch 100%, d1=0.698, d2=0.694 g=0.730\n",
            "WARNING:tensorflow:Compiled the loaded model, but the compiled metrics have yet to be built. `model.compile_metrics` will be empty until you train or evaluate the model.\n",
            "Epoch>26, Batch  10%, d1=0.702, d2=0.631 g=0.800\n",
            "Epoch>26, Batch  20%, d1=0.706, d2=0.673 g=0.743\n",
            "Epoch>26, Batch  30%, d1=0.707, d2=0.675 g=0.753\n",
            "Epoch>26, Batch  40%, d1=0.696, d2=0.701 g=0.729\n",
            "Epoch>26, Batch  50%, d1=0.685, d2=0.689 g=0.712\n",
            "Epoch>26, Batch  60%, d1=0.693, d2=0.691 g=0.738\n",
            "Epoch>26, Batch  70%, d1=0.684, d2=0.683 g=0.746\n",
            "Epoch>26, Batch  80%, d1=0.715, d2=0.689 g=0.745\n",
            "Epoch>26, Batch  90%, d1=0.680, d2=0.721 g=0.694\n",
            "Epoch>26, Batch 100%, d1=0.674, d2=0.701 g=0.712\n",
            "WARNING:tensorflow:Compiled the loaded model, but the compiled metrics have yet to be built. `model.compile_metrics` will be empty until you train or evaluate the model.\n",
            "Epoch>27, Batch  10%, d1=0.690, d2=0.698 g=0.712\n",
            "Epoch>27, Batch  20%, d1=0.736, d2=0.672 g=0.724\n",
            "Epoch>27, Batch  30%, d1=0.693, d2=0.744 g=0.692\n",
            "Epoch>27, Batch  40%, d1=0.676, d2=0.695 g=0.687\n",
            "Epoch>27, Batch  50%, d1=0.686, d2=0.696 g=0.715\n",
            "Epoch>27, Batch  60%, d1=0.703, d2=0.690 g=0.713\n",
            "Epoch>27, Batch  70%, d1=0.699, d2=0.696 g=0.722\n",
            "Epoch>27, Batch  80%, d1=0.702, d2=0.704 g=0.724\n",
            "Epoch>27, Batch  90%, d1=0.705, d2=0.729 g=0.696\n",
            "Epoch>27, Batch 100%, d1=0.705, d2=0.664 g=0.754\n",
            "WARNING:tensorflow:Compiled the loaded model, but the compiled metrics have yet to be built. `model.compile_metrics` will be empty until you train or evaluate the model.\n",
            "Epoch>28, Batch  10%, d1=0.669, d2=0.712 g=0.710\n",
            "Epoch>28, Batch  20%, d1=0.701, d2=0.708 g=0.716\n",
            "Epoch>28, Batch  30%, d1=0.699, d2=0.680 g=0.724\n",
            "Epoch>28, Batch  40%, d1=0.696, d2=0.705 g=0.720\n",
            "Epoch>28, Batch  50%, d1=0.733, d2=0.634 g=0.780\n",
            "Epoch>28, Batch  60%, d1=0.704, d2=0.741 g=0.676\n",
            "Epoch>28, Batch  70%, d1=0.725, d2=0.690 g=0.716\n",
            "Epoch>28, Batch  80%, d1=0.690, d2=0.669 g=0.732\n",
            "Epoch>28, Batch  90%, d1=0.701, d2=0.686 g=0.739\n",
            "Epoch>28, Batch 100%, d1=0.692, d2=0.706 g=0.698\n",
            "WARNING:tensorflow:Compiled the loaded model, but the compiled metrics have yet to be built. `model.compile_metrics` will be empty until you train or evaluate the model.\n",
            "Epoch>29, Batch  10%, d1=0.697, d2=0.698 g=0.714\n",
            "Epoch>29, Batch  20%, d1=0.687, d2=0.730 g=0.686\n",
            "Epoch>29, Batch  30%, d1=0.704, d2=0.662 g=0.740\n",
            "Epoch>29, Batch  40%, d1=0.706, d2=0.728 g=0.693\n",
            "Epoch>29, Batch  50%, d1=0.702, d2=0.732 g=0.683\n",
            "Epoch>29, Batch  60%, d1=0.685, d2=0.712 g=0.711\n",
            "Epoch>29, Batch  70%, d1=0.696, d2=0.719 g=0.702\n",
            "Epoch>29, Batch  80%, d1=0.722, d2=0.679 g=0.743\n",
            "Epoch>29, Batch  90%, d1=0.696, d2=0.664 g=0.777\n",
            "Epoch>29, Batch 100%, d1=0.699, d2=0.664 g=0.742\n",
            "WARNING:tensorflow:Compiled the loaded model, but the compiled metrics have yet to be built. `model.compile_metrics` will be empty until you train or evaluate the model.\n",
            "Epoch>30, Batch  10%, d1=0.702, d2=0.706 g=0.702\n",
            "Epoch>30, Batch  20%, d1=0.695, d2=0.696 g=0.721\n",
            "Epoch>30, Batch  30%, d1=0.692, d2=0.736 g=0.675\n",
            "Epoch>30, Batch  40%, d1=0.711, d2=0.707 g=0.705\n",
            "Epoch>30, Batch  50%, d1=0.721, d2=0.702 g=0.713\n",
            "Epoch>30, Batch  60%, d1=0.693, d2=0.678 g=0.743\n",
            "Epoch>30, Batch  70%, d1=0.691, d2=0.674 g=0.728\n",
            "Epoch>30, Batch  80%, d1=0.709, d2=0.666 g=0.755\n",
            "Epoch>30, Batch  90%, d1=0.705, d2=0.709 g=0.698\n",
            "Epoch>30, Batch 100%, d1=0.706, d2=0.679 g=0.756\n",
            ">Accuracy real: 43.3%, fake: 82.7%\n"
          ]
        },
        {
          "output_type": "display_data",
          "data": {
            "application/javascript": [
              "\n",
              "    async function download(id, filename, size) {\n",
              "      if (!google.colab.kernel.accessAllowed) {\n",
              "        return;\n",
              "      }\n",
              "      const div = document.createElement('div');\n",
              "      const label = document.createElement('label');\n",
              "      label.textContent = `Downloading \"${filename}\": `;\n",
              "      div.appendChild(label);\n",
              "      const progress = document.createElement('progress');\n",
              "      progress.max = size;\n",
              "      div.appendChild(progress);\n",
              "      document.body.appendChild(div);\n",
              "\n",
              "      const buffers = [];\n",
              "      let downloaded = 0;\n",
              "\n",
              "      const channel = await google.colab.kernel.comms.open(id);\n",
              "      // Send a message to notify the kernel that we're ready.\n",
              "      channel.send({})\n",
              "\n",
              "      for await (const message of channel.messages) {\n",
              "        // Send a message to notify the kernel that we're ready.\n",
              "        channel.send({})\n",
              "        if (message.buffers) {\n",
              "          for (const buffer of message.buffers) {\n",
              "            buffers.push(buffer);\n",
              "            downloaded += buffer.byteLength;\n",
              "            progress.value = downloaded;\n",
              "          }\n",
              "        }\n",
              "      }\n",
              "      const blob = new Blob(buffers, {type: 'application/binary'});\n",
              "      const a = document.createElement('a');\n",
              "      a.href = window.URL.createObjectURL(blob);\n",
              "      a.download = filename;\n",
              "      div.appendChild(a);\n",
              "      a.click();\n",
              "      div.remove();\n",
              "    }\n",
              "  "
            ],
            "text/plain": [
              "<IPython.core.display.Javascript object>"
            ]
          },
          "metadata": {}
        },
        {
          "output_type": "display_data",
          "data": {
            "application/javascript": [
              "download(\"download_ffb86afd-c546-4a16-8158-28e1c7b13093\", \"generated_plot_e030.png\", 227504)"
            ],
            "text/plain": [
              "<IPython.core.display.Javascript object>"
            ]
          },
          "metadata": {}
        },
        {
          "output_type": "stream",
          "name": "stdout",
          "text": [
            "WARNING:tensorflow:Compiled the loaded model, but the compiled metrics have yet to be built. `model.compile_metrics` will be empty until you train or evaluate the model.\n"
          ]
        },
        {
          "output_type": "display_data",
          "data": {
            "application/javascript": [
              "\n",
              "    async function download(id, filename, size) {\n",
              "      if (!google.colab.kernel.accessAllowed) {\n",
              "        return;\n",
              "      }\n",
              "      const div = document.createElement('div');\n",
              "      const label = document.createElement('label');\n",
              "      label.textContent = `Downloading \"${filename}\": `;\n",
              "      div.appendChild(label);\n",
              "      const progress = document.createElement('progress');\n",
              "      progress.max = size;\n",
              "      div.appendChild(progress);\n",
              "      document.body.appendChild(div);\n",
              "\n",
              "      const buffers = [];\n",
              "      let downloaded = 0;\n",
              "\n",
              "      const channel = await google.colab.kernel.comms.open(id);\n",
              "      // Send a message to notify the kernel that we're ready.\n",
              "      channel.send({})\n",
              "\n",
              "      for await (const message of channel.messages) {\n",
              "        // Send a message to notify the kernel that we're ready.\n",
              "        channel.send({})\n",
              "        if (message.buffers) {\n",
              "          for (const buffer of message.buffers) {\n",
              "            buffers.push(buffer);\n",
              "            downloaded += buffer.byteLength;\n",
              "            progress.value = downloaded;\n",
              "          }\n",
              "        }\n",
              "      }\n",
              "      const blob = new Blob(buffers, {type: 'application/binary'});\n",
              "      const a = document.createElement('a');\n",
              "      a.href = window.URL.createObjectURL(blob);\n",
              "      a.download = filename;\n",
              "      div.appendChild(a);\n",
              "      a.click();\n",
              "      div.remove();\n",
              "    }\n",
              "  "
            ],
            "text/plain": [
              "<IPython.core.display.Javascript object>"
            ]
          },
          "metadata": {}
        },
        {
          "output_type": "display_data",
          "data": {
            "application/javascript": [
              "download(\"download_74967fcf-fd0f-41a1-9c7c-327414ced270\", \"generator_model_030.h5\", 5529776)"
            ],
            "text/plain": [
              "<IPython.core.display.Javascript object>"
            ]
          },
          "metadata": {}
        },
        {
          "output_type": "display_data",
          "data": {
            "application/javascript": [
              "\n",
              "    async function download(id, filename, size) {\n",
              "      if (!google.colab.kernel.accessAllowed) {\n",
              "        return;\n",
              "      }\n",
              "      const div = document.createElement('div');\n",
              "      const label = document.createElement('label');\n",
              "      label.textContent = `Downloading \"${filename}\": `;\n",
              "      div.appendChild(label);\n",
              "      const progress = document.createElement('progress');\n",
              "      progress.max = size;\n",
              "      div.appendChild(progress);\n",
              "      document.body.appendChild(div);\n",
              "\n",
              "      const buffers = [];\n",
              "      let downloaded = 0;\n",
              "\n",
              "      const channel = await google.colab.kernel.comms.open(id);\n",
              "      // Send a message to notify the kernel that we're ready.\n",
              "      channel.send({})\n",
              "\n",
              "      for await (const message of channel.messages) {\n",
              "        // Send a message to notify the kernel that we're ready.\n",
              "        channel.send({})\n",
              "        if (message.buffers) {\n",
              "          for (const buffer of message.buffers) {\n",
              "            buffers.push(buffer);\n",
              "            downloaded += buffer.byteLength;\n",
              "            progress.value = downloaded;\n",
              "          }\n",
              "        }\n",
              "      }\n",
              "      const blob = new Blob(buffers, {type: 'application/binary'});\n",
              "      const a = document.createElement('a');\n",
              "      a.href = window.URL.createObjectURL(blob);\n",
              "      a.download = filename;\n",
              "      div.appendChild(a);\n",
              "      a.click();\n",
              "      div.remove();\n",
              "    }\n",
              "  "
            ],
            "text/plain": [
              "<IPython.core.display.Javascript object>"
            ]
          },
          "metadata": {}
        },
        {
          "output_type": "display_data",
          "data": {
            "application/javascript": [
              "download(\"download_b514a3f0-09a8-48a4-95f8-ae58338ebc1c\", \"descriminator_model_030.h5\", 1949824)"
            ],
            "text/plain": [
              "<IPython.core.display.Javascript object>"
            ]
          },
          "metadata": {}
        },
        {
          "output_type": "stream",
          "name": "stdout",
          "text": [
            "WARNING:tensorflow:Compiled the loaded model, but the compiled metrics have yet to be built. `model.compile_metrics` will be empty until you train or evaluate the model.\n",
            "Epoch>31, Batch  10%, d1=0.707, d2=0.717 g=0.701\n",
            "Epoch>31, Batch  20%, d1=0.686, d2=0.682 g=0.728\n",
            "Epoch>31, Batch  30%, d1=0.669, d2=0.719 g=0.695\n",
            "Epoch>31, Batch  40%, d1=0.705, d2=0.684 g=0.719\n",
            "Epoch>31, Batch  50%, d1=0.703, d2=0.717 g=0.692\n",
            "Epoch>31, Batch  60%, d1=0.707, d2=0.660 g=0.780\n",
            "Epoch>31, Batch  70%, d1=0.696, d2=0.658 g=0.768\n",
            "Epoch>31, Batch  80%, d1=0.689, d2=0.709 g=0.698\n",
            "Epoch>31, Batch  90%, d1=0.694, d2=0.667 g=0.744\n",
            "Epoch>31, Batch 100%, d1=0.675, d2=0.718 g=0.694\n",
            "WARNING:tensorflow:Compiled the loaded model, but the compiled metrics have yet to be built. `model.compile_metrics` will be empty until you train or evaluate the model.\n",
            "Epoch>32, Batch  10%, d1=0.697, d2=0.701 g=0.703\n",
            "Epoch>32, Batch  20%, d1=0.695, d2=0.704 g=0.718\n",
            "Epoch>32, Batch  30%, d1=0.684, d2=0.682 g=0.710\n",
            "Epoch>32, Batch  40%, d1=0.709, d2=0.696 g=0.718\n",
            "Epoch>32, Batch  50%, d1=0.721, d2=0.675 g=0.733\n",
            "Epoch>32, Batch  60%, d1=0.696, d2=0.653 g=0.737\n",
            "Epoch>32, Batch  70%, d1=0.665, d2=0.715 g=0.693\n",
            "Epoch>32, Batch  80%, d1=0.704, d2=0.661 g=0.729\n",
            "Epoch>32, Batch  90%, d1=0.708, d2=0.703 g=0.734\n",
            "Epoch>32, Batch 100%, d1=0.705, d2=0.688 g=0.711\n",
            "WARNING:tensorflow:Compiled the loaded model, but the compiled metrics have yet to be built. `model.compile_metrics` will be empty until you train or evaluate the model.\n",
            "Epoch>33, Batch  10%, d1=0.706, d2=0.679 g=0.722\n",
            "Epoch>33, Batch  20%, d1=0.691, d2=0.678 g=0.728\n",
            "Epoch>33, Batch  30%, d1=0.712, d2=0.697 g=0.707\n",
            "Epoch>33, Batch  40%, d1=0.696, d2=0.695 g=0.710\n",
            "Epoch>33, Batch  50%, d1=0.698, d2=0.687 g=0.712\n",
            "Epoch>33, Batch  60%, d1=0.708, d2=0.678 g=0.722\n",
            "Epoch>33, Batch  70%, d1=0.712, d2=0.695 g=0.695\n",
            "Epoch>33, Batch  80%, d1=0.697, d2=0.716 g=0.695\n",
            "Epoch>33, Batch  90%, d1=0.710, d2=0.707 g=0.707\n",
            "Epoch>33, Batch 100%, d1=0.673, d2=0.705 g=0.685\n",
            "WARNING:tensorflow:Compiled the loaded model, but the compiled metrics have yet to be built. `model.compile_metrics` will be empty until you train or evaluate the model.\n",
            "Epoch>34, Batch  10%, d1=0.696, d2=0.689 g=0.705\n",
            "Epoch>34, Batch  20%, d1=0.683, d2=0.696 g=0.703\n",
            "Epoch>34, Batch  30%, d1=0.727, d2=0.716 g=0.702\n",
            "Epoch>34, Batch  40%, d1=0.661, d2=0.700 g=0.713\n",
            "Epoch>34, Batch  50%, d1=0.663, d2=0.716 g=0.672\n",
            "Epoch>34, Batch  60%, d1=0.682, d2=0.724 g=0.697\n",
            "Epoch>34, Batch  70%, d1=0.687, d2=0.722 g=0.687\n",
            "Epoch>34, Batch  80%, d1=0.689, d2=0.702 g=0.727\n",
            "Epoch>34, Batch  90%, d1=0.689, d2=0.700 g=0.731\n",
            "Epoch>34, Batch 100%, d1=0.718, d2=0.681 g=0.728\n",
            "WARNING:tensorflow:Compiled the loaded model, but the compiled metrics have yet to be built. `model.compile_metrics` will be empty until you train or evaluate the model.\n",
            "Epoch>35, Batch  10%, d1=0.724, d2=0.646 g=0.750\n",
            "Epoch>35, Batch  20%, d1=0.708, d2=0.696 g=0.715\n",
            "Epoch>35, Batch  30%, d1=0.706, d2=0.696 g=0.716\n",
            "Epoch>35, Batch  40%, d1=0.698, d2=0.690 g=0.711\n",
            "Epoch>35, Batch  50%, d1=0.695, d2=0.710 g=0.697\n",
            "Epoch>35, Batch  60%, d1=0.680, d2=0.688 g=0.748\n",
            "Epoch>35, Batch  70%, d1=0.719, d2=0.675 g=0.738\n",
            "Epoch>35, Batch  80%, d1=0.687, d2=0.687 g=0.722\n",
            "Epoch>35, Batch  90%, d1=0.694, d2=0.683 g=0.728\n",
            "Epoch>35, Batch 100%, d1=0.705, d2=0.684 g=0.739\n",
            "WARNING:tensorflow:Compiled the loaded model, but the compiled metrics have yet to be built. `model.compile_metrics` will be empty until you train or evaluate the model.\n",
            "Epoch>36, Batch  10%, d1=0.683, d2=0.694 g=0.707\n",
            "Epoch>36, Batch  20%, d1=0.706, d2=0.682 g=0.712\n",
            "Epoch>36, Batch  30%, d1=0.688, d2=0.690 g=0.714\n",
            "Epoch>36, Batch  40%, d1=0.690, d2=0.686 g=0.722\n",
            "Epoch>36, Batch  50%, d1=0.709, d2=0.676 g=0.716\n",
            "Epoch>36, Batch  60%, d1=0.715, d2=0.691 g=0.713\n",
            "Epoch>36, Batch  70%, d1=0.710, d2=0.695 g=0.713\n",
            "Epoch>36, Batch  80%, d1=0.695, d2=0.642 g=0.790\n",
            "Epoch>36, Batch  90%, d1=0.705, d2=0.674 g=0.723\n",
            "Epoch>36, Batch 100%, d1=0.677, d2=0.714 g=0.690\n",
            "WARNING:tensorflow:Compiled the loaded model, but the compiled metrics have yet to be built. `model.compile_metrics` will be empty until you train or evaluate the model.\n",
            "Epoch>37, Batch  10%, d1=0.680, d2=0.674 g=0.716\n",
            "Epoch>37, Batch  20%, d1=0.669, d2=0.696 g=0.703\n",
            "Epoch>37, Batch  30%, d1=0.698, d2=0.710 g=0.706\n",
            "Epoch>37, Batch  40%, d1=0.693, d2=0.690 g=0.716\n",
            "Epoch>37, Batch  50%, d1=0.698, d2=0.683 g=0.708\n",
            "Epoch>37, Batch  60%, d1=0.675, d2=0.702 g=0.704\n",
            "Epoch>37, Batch  70%, d1=0.699, d2=0.680 g=0.723\n",
            "Epoch>37, Batch  80%, d1=0.688, d2=0.675 g=0.724\n",
            "Epoch>37, Batch  90%, d1=0.703, d2=0.688 g=0.721\n",
            "Epoch>37, Batch 100%, d1=0.708, d2=0.644 g=0.814\n",
            "WARNING:tensorflow:Compiled the loaded model, but the compiled metrics have yet to be built. `model.compile_metrics` will be empty until you train or evaluate the model.\n",
            "Epoch>38, Batch  10%, d1=0.685, d2=0.705 g=0.699\n",
            "Epoch>38, Batch  20%, d1=0.718, d2=0.674 g=0.735\n",
            "Epoch>38, Batch  30%, d1=0.703, d2=0.709 g=0.710\n",
            "Epoch>38, Batch  40%, d1=0.699, d2=0.678 g=0.728\n",
            "Epoch>38, Batch  50%, d1=0.683, d2=0.726 g=0.681\n",
            "Epoch>38, Batch  60%, d1=0.676, d2=0.726 g=0.690\n",
            "Epoch>38, Batch  70%, d1=0.685, d2=0.695 g=0.709\n",
            "Epoch>38, Batch  80%, d1=0.694, d2=0.685 g=0.712\n",
            "Epoch>38, Batch  90%, d1=0.702, d2=0.683 g=0.717\n",
            "Epoch>38, Batch 100%, d1=0.702, d2=0.684 g=0.723\n",
            "WARNING:tensorflow:Compiled the loaded model, but the compiled metrics have yet to be built. `model.compile_metrics` will be empty until you train or evaluate the model.\n",
            "Epoch>39, Batch  10%, d1=0.680, d2=0.696 g=0.704\n",
            "Epoch>39, Batch  20%, d1=0.697, d2=0.681 g=0.712\n",
            "Epoch>39, Batch  30%, d1=0.702, d2=0.709 g=0.706\n",
            "Epoch>39, Batch  40%, d1=0.698, d2=0.680 g=0.718\n",
            "Epoch>39, Batch  50%, d1=0.697, d2=0.711 g=0.697\n",
            "Epoch>39, Batch  60%, d1=0.689, d2=0.707 g=0.698\n",
            "Epoch>39, Batch  70%, d1=0.695, d2=0.706 g=0.699\n",
            "Epoch>39, Batch  80%, d1=0.695, d2=0.679 g=0.716\n",
            "Epoch>39, Batch  90%, d1=0.701, d2=0.680 g=0.719\n",
            "Epoch>39, Batch 100%, d1=0.700, d2=0.688 g=0.699\n",
            "WARNING:tensorflow:Compiled the loaded model, but the compiled metrics have yet to be built. `model.compile_metrics` will be empty until you train or evaluate the model.\n",
            "Epoch>40, Batch  10%, d1=0.708, d2=0.683 g=0.726\n",
            "Epoch>40, Batch  20%, d1=0.705, d2=0.680 g=0.723\n",
            "Epoch>40, Batch  30%, d1=0.716, d2=0.676 g=0.738\n",
            "Epoch>40, Batch  40%, d1=0.708, d2=0.649 g=0.790\n",
            "Epoch>40, Batch  50%, d1=0.707, d2=0.691 g=0.733\n",
            "Epoch>40, Batch  60%, d1=0.682, d2=0.709 g=0.699\n",
            "Epoch>40, Batch  70%, d1=0.669, d2=0.720 g=0.687\n",
            "Epoch>40, Batch  80%, d1=0.692, d2=0.683 g=0.720\n",
            "Epoch>40, Batch  90%, d1=0.685, d2=0.707 g=0.698\n",
            "Epoch>40, Batch 100%, d1=0.703, d2=0.691 g=0.706\n",
            ">Accuracy real: 55.3%, fake: 62.0%\n"
          ]
        },
        {
          "output_type": "display_data",
          "data": {
            "application/javascript": [
              "\n",
              "    async function download(id, filename, size) {\n",
              "      if (!google.colab.kernel.accessAllowed) {\n",
              "        return;\n",
              "      }\n",
              "      const div = document.createElement('div');\n",
              "      const label = document.createElement('label');\n",
              "      label.textContent = `Downloading \"${filename}\": `;\n",
              "      div.appendChild(label);\n",
              "      const progress = document.createElement('progress');\n",
              "      progress.max = size;\n",
              "      div.appendChild(progress);\n",
              "      document.body.appendChild(div);\n",
              "\n",
              "      const buffers = [];\n",
              "      let downloaded = 0;\n",
              "\n",
              "      const channel = await google.colab.kernel.comms.open(id);\n",
              "      // Send a message to notify the kernel that we're ready.\n",
              "      channel.send({})\n",
              "\n",
              "      for await (const message of channel.messages) {\n",
              "        // Send a message to notify the kernel that we're ready.\n",
              "        channel.send({})\n",
              "        if (message.buffers) {\n",
              "          for (const buffer of message.buffers) {\n",
              "            buffers.push(buffer);\n",
              "            downloaded += buffer.byteLength;\n",
              "            progress.value = downloaded;\n",
              "          }\n",
              "        }\n",
              "      }\n",
              "      const blob = new Blob(buffers, {type: 'application/binary'});\n",
              "      const a = document.createElement('a');\n",
              "      a.href = window.URL.createObjectURL(blob);\n",
              "      a.download = filename;\n",
              "      div.appendChild(a);\n",
              "      a.click();\n",
              "      div.remove();\n",
              "    }\n",
              "  "
            ],
            "text/plain": [
              "<IPython.core.display.Javascript object>"
            ]
          },
          "metadata": {}
        },
        {
          "output_type": "display_data",
          "data": {
            "application/javascript": [
              "download(\"download_c83d7736-24f8-4f48-a7e2-cae463042abd\", \"generated_plot_e040.png\", 223021)"
            ],
            "text/plain": [
              "<IPython.core.display.Javascript object>"
            ]
          },
          "metadata": {}
        },
        {
          "output_type": "stream",
          "name": "stdout",
          "text": [
            "WARNING:tensorflow:Compiled the loaded model, but the compiled metrics have yet to be built. `model.compile_metrics` will be empty until you train or evaluate the model.\n"
          ]
        },
        {
          "output_type": "display_data",
          "data": {
            "application/javascript": [
              "\n",
              "    async function download(id, filename, size) {\n",
              "      if (!google.colab.kernel.accessAllowed) {\n",
              "        return;\n",
              "      }\n",
              "      const div = document.createElement('div');\n",
              "      const label = document.createElement('label');\n",
              "      label.textContent = `Downloading \"${filename}\": `;\n",
              "      div.appendChild(label);\n",
              "      const progress = document.createElement('progress');\n",
              "      progress.max = size;\n",
              "      div.appendChild(progress);\n",
              "      document.body.appendChild(div);\n",
              "\n",
              "      const buffers = [];\n",
              "      let downloaded = 0;\n",
              "\n",
              "      const channel = await google.colab.kernel.comms.open(id);\n",
              "      // Send a message to notify the kernel that we're ready.\n",
              "      channel.send({})\n",
              "\n",
              "      for await (const message of channel.messages) {\n",
              "        // Send a message to notify the kernel that we're ready.\n",
              "        channel.send({})\n",
              "        if (message.buffers) {\n",
              "          for (const buffer of message.buffers) {\n",
              "            buffers.push(buffer);\n",
              "            downloaded += buffer.byteLength;\n",
              "            progress.value = downloaded;\n",
              "          }\n",
              "        }\n",
              "      }\n",
              "      const blob = new Blob(buffers, {type: 'application/binary'});\n",
              "      const a = document.createElement('a');\n",
              "      a.href = window.URL.createObjectURL(blob);\n",
              "      a.download = filename;\n",
              "      div.appendChild(a);\n",
              "      a.click();\n",
              "      div.remove();\n",
              "    }\n",
              "  "
            ],
            "text/plain": [
              "<IPython.core.display.Javascript object>"
            ]
          },
          "metadata": {}
        },
        {
          "output_type": "display_data",
          "data": {
            "application/javascript": [
              "download(\"download_c487d23f-9ebb-4fe5-bc3c-9ea649e2b431\", \"generator_model_040.h5\", 5529776)"
            ],
            "text/plain": [
              "<IPython.core.display.Javascript object>"
            ]
          },
          "metadata": {}
        },
        {
          "output_type": "display_data",
          "data": {
            "application/javascript": [
              "\n",
              "    async function download(id, filename, size) {\n",
              "      if (!google.colab.kernel.accessAllowed) {\n",
              "        return;\n",
              "      }\n",
              "      const div = document.createElement('div');\n",
              "      const label = document.createElement('label');\n",
              "      label.textContent = `Downloading \"${filename}\": `;\n",
              "      div.appendChild(label);\n",
              "      const progress = document.createElement('progress');\n",
              "      progress.max = size;\n",
              "      div.appendChild(progress);\n",
              "      document.body.appendChild(div);\n",
              "\n",
              "      const buffers = [];\n",
              "      let downloaded = 0;\n",
              "\n",
              "      const channel = await google.colab.kernel.comms.open(id);\n",
              "      // Send a message to notify the kernel that we're ready.\n",
              "      channel.send({})\n",
              "\n",
              "      for await (const message of channel.messages) {\n",
              "        // Send a message to notify the kernel that we're ready.\n",
              "        channel.send({})\n",
              "        if (message.buffers) {\n",
              "          for (const buffer of message.buffers) {\n",
              "            buffers.push(buffer);\n",
              "            downloaded += buffer.byteLength;\n",
              "            progress.value = downloaded;\n",
              "          }\n",
              "        }\n",
              "      }\n",
              "      const blob = new Blob(buffers, {type: 'application/binary'});\n",
              "      const a = document.createElement('a');\n",
              "      a.href = window.URL.createObjectURL(blob);\n",
              "      a.download = filename;\n",
              "      div.appendChild(a);\n",
              "      a.click();\n",
              "      div.remove();\n",
              "    }\n",
              "  "
            ],
            "text/plain": [
              "<IPython.core.display.Javascript object>"
            ]
          },
          "metadata": {}
        },
        {
          "output_type": "display_data",
          "data": {
            "application/javascript": [
              "download(\"download_7d647fd1-ae0b-46b7-815a-cbd95d79e7df\", \"descriminator_model_040.h5\", 1949824)"
            ],
            "text/plain": [
              "<IPython.core.display.Javascript object>"
            ]
          },
          "metadata": {}
        },
        {
          "output_type": "stream",
          "name": "stdout",
          "text": [
            "WARNING:tensorflow:Compiled the loaded model, but the compiled metrics have yet to be built. `model.compile_metrics` will be empty until you train or evaluate the model.\n",
            "Epoch>41, Batch  10%, d1=0.695, d2=0.691 g=0.709\n",
            "Epoch>41, Batch  20%, d1=0.699, d2=0.692 g=0.706\n",
            "Epoch>41, Batch  30%, d1=0.690, d2=0.701 g=0.709\n",
            "Epoch>41, Batch  40%, d1=0.713, d2=0.689 g=0.710\n",
            "Epoch>41, Batch  50%, d1=0.693, d2=0.712 g=0.687\n",
            "Epoch>41, Batch  60%, d1=0.715, d2=0.657 g=0.761\n",
            "Epoch>41, Batch  70%, d1=0.706, d2=0.701 g=0.706\n",
            "Epoch>41, Batch  80%, d1=0.696, d2=0.688 g=0.710\n",
            "Epoch>41, Batch  90%, d1=0.704, d2=0.671 g=0.741\n",
            "Epoch>41, Batch 100%, d1=0.704, d2=0.680 g=0.732\n",
            "WARNING:tensorflow:Compiled the loaded model, but the compiled metrics have yet to be built. `model.compile_metrics` will be empty until you train or evaluate the model.\n",
            "Epoch>42, Batch  10%, d1=0.693, d2=0.697 g=0.709\n",
            "Epoch>42, Batch  20%, d1=0.702, d2=0.696 g=0.709\n",
            "Epoch>42, Batch  30%, d1=0.691, d2=0.702 g=0.709\n",
            "Epoch>42, Batch  40%, d1=0.705, d2=0.669 g=0.744\n",
            "Epoch>42, Batch  50%, d1=0.699, d2=0.703 g=0.705\n",
            "Epoch>42, Batch  60%, d1=0.686, d2=0.689 g=0.719\n",
            "Epoch>42, Batch  70%, d1=0.676, d2=0.700 g=0.696\n",
            "Epoch>42, Batch  80%, d1=0.698, d2=0.664 g=0.745\n",
            "Epoch>42, Batch  90%, d1=0.699, d2=0.688 g=0.714\n",
            "Epoch>42, Batch 100%, d1=0.696, d2=0.705 g=0.692\n",
            "WARNING:tensorflow:Compiled the loaded model, but the compiled metrics have yet to be built. `model.compile_metrics` will be empty until you train or evaluate the model.\n",
            "Epoch>43, Batch  10%, d1=0.707, d2=0.678 g=0.728\n",
            "Epoch>43, Batch  20%, d1=0.704, d2=0.668 g=0.755\n",
            "Epoch>43, Batch  30%, d1=0.715, d2=0.673 g=0.734\n",
            "Epoch>43, Batch  40%, d1=0.688, d2=0.674 g=0.723\n",
            "Epoch>43, Batch  50%, d1=0.675, d2=0.700 g=0.697\n",
            "Epoch>43, Batch  60%, d1=0.703, d2=0.689 g=0.724\n",
            "Epoch>43, Batch  70%, d1=0.708, d2=0.679 g=0.716\n",
            "Epoch>43, Batch  80%, d1=0.700, d2=0.696 g=0.724\n",
            "Epoch>43, Batch  90%, d1=0.689, d2=0.689 g=0.724\n",
            "Epoch>43, Batch 100%, d1=0.716, d2=0.659 g=0.743\n",
            "WARNING:tensorflow:Compiled the loaded model, but the compiled metrics have yet to be built. `model.compile_metrics` will be empty until you train or evaluate the model.\n",
            "Epoch>44, Batch  10%, d1=0.710, d2=0.664 g=0.746\n",
            "Epoch>44, Batch  20%, d1=0.697, d2=0.698 g=0.712\n",
            "Epoch>44, Batch  30%, d1=0.707, d2=0.697 g=0.724\n",
            "Epoch>44, Batch  40%, d1=0.681, d2=0.730 g=0.682\n",
            "Epoch>44, Batch  50%, d1=0.689, d2=0.712 g=0.699\n",
            "Epoch>44, Batch  60%, d1=0.699, d2=0.682 g=0.707\n",
            "Epoch>44, Batch  70%, d1=0.687, d2=0.692 g=0.705\n",
            "Epoch>44, Batch  80%, d1=0.674, d2=0.704 g=0.699\n",
            "Epoch>44, Batch  90%, d1=0.692, d2=0.671 g=0.731\n",
            "Epoch>44, Batch 100%, d1=0.703, d2=0.703 g=0.711\n",
            "WARNING:tensorflow:Compiled the loaded model, but the compiled metrics have yet to be built. `model.compile_metrics` will be empty until you train or evaluate the model.\n",
            "Epoch>45, Batch  10%, d1=0.702, d2=0.717 g=0.693\n",
            "Epoch>45, Batch  20%, d1=0.706, d2=0.720 g=0.682\n",
            "Epoch>45, Batch  30%, d1=0.694, d2=0.687 g=0.712\n",
            "Epoch>45, Batch  40%, d1=0.691, d2=0.685 g=0.707\n",
            "Epoch>45, Batch  50%, d1=0.702, d2=0.700 g=0.712\n",
            "Epoch>45, Batch  60%, d1=0.688, d2=0.700 g=0.709\n",
            "Epoch>45, Batch  70%, d1=0.702, d2=0.675 g=0.735\n",
            "Epoch>45, Batch  80%, d1=0.710, d2=0.698 g=0.702\n",
            "Epoch>45, Batch  90%, d1=0.705, d2=0.687 g=0.704\n",
            "Epoch>45, Batch 100%, d1=0.694, d2=0.715 g=0.691\n",
            "WARNING:tensorflow:Compiled the loaded model, but the compiled metrics have yet to be built. `model.compile_metrics` will be empty until you train or evaluate the model.\n",
            "Epoch>46, Batch  10%, d1=0.703, d2=0.702 g=0.711\n",
            "Epoch>46, Batch  20%, d1=0.686, d2=0.710 g=0.697\n",
            "Epoch>46, Batch  30%, d1=0.695, d2=0.684 g=0.715\n",
            "Epoch>46, Batch  40%, d1=0.682, d2=0.712 g=0.695\n",
            "Epoch>46, Batch  50%, d1=0.693, d2=0.687 g=0.709\n",
            "Epoch>46, Batch  60%, d1=0.669, d2=0.733 g=0.686\n",
            "Epoch>46, Batch  70%, d1=0.684, d2=0.712 g=0.702\n",
            "Epoch>46, Batch  80%, d1=0.693, d2=0.692 g=0.705\n",
            "Epoch>46, Batch  90%, d1=0.693, d2=0.685 g=0.716\n",
            "Epoch>46, Batch 100%, d1=0.703, d2=0.685 g=0.708\n",
            "WARNING:tensorflow:Compiled the loaded model, but the compiled metrics have yet to be built. `model.compile_metrics` will be empty until you train or evaluate the model.\n",
            "Epoch>47, Batch  10%, d1=0.714, d2=0.688 g=0.727\n",
            "Epoch>47, Batch  20%, d1=0.686, d2=0.716 g=0.693\n",
            "Epoch>47, Batch  30%, d1=0.704, d2=0.682 g=0.708\n",
            "Epoch>47, Batch  40%, d1=0.699, d2=0.677 g=0.729\n",
            "Epoch>47, Batch  50%, d1=0.696, d2=0.683 g=0.708\n",
            "Epoch>47, Batch  60%, d1=0.697, d2=0.700 g=0.701\n",
            "Epoch>47, Batch  70%, d1=0.696, d2=0.685 g=0.705\n",
            "Epoch>47, Batch  80%, d1=0.703, d2=0.690 g=0.711\n",
            "Epoch>47, Batch  90%, d1=0.692, d2=0.711 g=0.684\n",
            "Epoch>47, Batch 100%, d1=0.704, d2=0.689 g=0.709\n",
            "WARNING:tensorflow:Compiled the loaded model, but the compiled metrics have yet to be built. `model.compile_metrics` will be empty until you train or evaluate the model.\n",
            "Epoch>48, Batch  10%, d1=0.694, d2=0.671 g=0.748\n",
            "Epoch>48, Batch  20%, d1=0.705, d2=0.689 g=0.720\n",
            "Epoch>48, Batch  30%, d1=0.697, d2=0.709 g=0.707\n",
            "Epoch>48, Batch  40%, d1=0.690, d2=0.688 g=0.710\n",
            "Epoch>48, Batch  50%, d1=0.701, d2=0.681 g=0.711\n",
            "Epoch>48, Batch  60%, d1=0.694, d2=0.695 g=0.696\n",
            "Epoch>48, Batch  70%, d1=0.693, d2=0.690 g=0.707\n",
            "Epoch>48, Batch  80%, d1=0.690, d2=0.694 g=0.695\n",
            "Epoch>48, Batch  90%, d1=0.695, d2=0.702 g=0.715\n",
            "Epoch>48, Batch 100%, d1=0.689, d2=0.712 g=0.694\n",
            "WARNING:tensorflow:Compiled the loaded model, but the compiled metrics have yet to be built. `model.compile_metrics` will be empty until you train or evaluate the model.\n",
            "Epoch>49, Batch  10%, d1=0.692, d2=0.693 g=0.728\n",
            "Epoch>49, Batch  20%, d1=0.687, d2=0.659 g=0.739\n",
            "Epoch>49, Batch  30%, d1=0.690, d2=0.693 g=0.715\n",
            "Epoch>49, Batch  40%, d1=0.688, d2=0.683 g=0.727\n",
            "Epoch>49, Batch  50%, d1=0.703, d2=0.677 g=0.727\n",
            "Epoch>49, Batch  60%, d1=0.715, d2=0.680 g=0.731\n",
            "Epoch>49, Batch  70%, d1=0.700, d2=0.683 g=0.713\n",
            "Epoch>49, Batch  80%, d1=0.714, d2=0.670 g=0.731\n",
            "Epoch>49, Batch  90%, d1=0.697, d2=0.694 g=0.726\n",
            "Epoch>49, Batch 100%, d1=0.707, d2=0.666 g=0.747\n",
            "WARNING:tensorflow:Compiled the loaded model, but the compiled metrics have yet to be built. `model.compile_metrics` will be empty until you train or evaluate the model.\n",
            "Epoch>50, Batch  10%, d1=0.707, d2=0.727 g=0.691\n",
            "Epoch>50, Batch  20%, d1=0.704, d2=0.694 g=0.707\n",
            "Epoch>50, Batch  30%, d1=0.698, d2=0.690 g=0.709\n",
            "Epoch>50, Batch  40%, d1=0.699, d2=0.707 g=0.696\n",
            "Epoch>50, Batch  50%, d1=0.683, d2=0.711 g=0.709\n",
            "Epoch>50, Batch  60%, d1=0.703, d2=0.678 g=0.713\n",
            "Epoch>50, Batch  70%, d1=0.698, d2=0.706 g=0.693\n",
            "Epoch>50, Batch  80%, d1=0.677, d2=0.676 g=0.706\n",
            "Epoch>50, Batch  90%, d1=0.706, d2=0.689 g=0.722\n",
            "Epoch>50, Batch 100%, d1=0.698, d2=0.680 g=0.724\n",
            ">Accuracy real: 44.0%, fake: 68.0%\n"
          ]
        },
        {
          "output_type": "display_data",
          "data": {
            "application/javascript": [
              "\n",
              "    async function download(id, filename, size) {\n",
              "      if (!google.colab.kernel.accessAllowed) {\n",
              "        return;\n",
              "      }\n",
              "      const div = document.createElement('div');\n",
              "      const label = document.createElement('label');\n",
              "      label.textContent = `Downloading \"${filename}\": `;\n",
              "      div.appendChild(label);\n",
              "      const progress = document.createElement('progress');\n",
              "      progress.max = size;\n",
              "      div.appendChild(progress);\n",
              "      document.body.appendChild(div);\n",
              "\n",
              "      const buffers = [];\n",
              "      let downloaded = 0;\n",
              "\n",
              "      const channel = await google.colab.kernel.comms.open(id);\n",
              "      // Send a message to notify the kernel that we're ready.\n",
              "      channel.send({})\n",
              "\n",
              "      for await (const message of channel.messages) {\n",
              "        // Send a message to notify the kernel that we're ready.\n",
              "        channel.send({})\n",
              "        if (message.buffers) {\n",
              "          for (const buffer of message.buffers) {\n",
              "            buffers.push(buffer);\n",
              "            downloaded += buffer.byteLength;\n",
              "            progress.value = downloaded;\n",
              "          }\n",
              "        }\n",
              "      }\n",
              "      const blob = new Blob(buffers, {type: 'application/binary'});\n",
              "      const a = document.createElement('a');\n",
              "      a.href = window.URL.createObjectURL(blob);\n",
              "      a.download = filename;\n",
              "      div.appendChild(a);\n",
              "      a.click();\n",
              "      div.remove();\n",
              "    }\n",
              "  "
            ],
            "text/plain": [
              "<IPython.core.display.Javascript object>"
            ]
          },
          "metadata": {}
        },
        {
          "output_type": "display_data",
          "data": {
            "application/javascript": [
              "download(\"download_e6bdd308-dc23-4cfd-a514-d0a7353a80cb\", \"generated_plot_e050.png\", 216355)"
            ],
            "text/plain": [
              "<IPython.core.display.Javascript object>"
            ]
          },
          "metadata": {}
        },
        {
          "output_type": "stream",
          "name": "stdout",
          "text": [
            "WARNING:tensorflow:Compiled the loaded model, but the compiled metrics have yet to be built. `model.compile_metrics` will be empty until you train or evaluate the model.\n"
          ]
        },
        {
          "output_type": "display_data",
          "data": {
            "application/javascript": [
              "\n",
              "    async function download(id, filename, size) {\n",
              "      if (!google.colab.kernel.accessAllowed) {\n",
              "        return;\n",
              "      }\n",
              "      const div = document.createElement('div');\n",
              "      const label = document.createElement('label');\n",
              "      label.textContent = `Downloading \"${filename}\": `;\n",
              "      div.appendChild(label);\n",
              "      const progress = document.createElement('progress');\n",
              "      progress.max = size;\n",
              "      div.appendChild(progress);\n",
              "      document.body.appendChild(div);\n",
              "\n",
              "      const buffers = [];\n",
              "      let downloaded = 0;\n",
              "\n",
              "      const channel = await google.colab.kernel.comms.open(id);\n",
              "      // Send a message to notify the kernel that we're ready.\n",
              "      channel.send({})\n",
              "\n",
              "      for await (const message of channel.messages) {\n",
              "        // Send a message to notify the kernel that we're ready.\n",
              "        channel.send({})\n",
              "        if (message.buffers) {\n",
              "          for (const buffer of message.buffers) {\n",
              "            buffers.push(buffer);\n",
              "            downloaded += buffer.byteLength;\n",
              "            progress.value = downloaded;\n",
              "          }\n",
              "        }\n",
              "      }\n",
              "      const blob = new Blob(buffers, {type: 'application/binary'});\n",
              "      const a = document.createElement('a');\n",
              "      a.href = window.URL.createObjectURL(blob);\n",
              "      a.download = filename;\n",
              "      div.appendChild(a);\n",
              "      a.click();\n",
              "      div.remove();\n",
              "    }\n",
              "  "
            ],
            "text/plain": [
              "<IPython.core.display.Javascript object>"
            ]
          },
          "metadata": {}
        },
        {
          "output_type": "display_data",
          "data": {
            "application/javascript": [
              "download(\"download_06b2e0e5-192c-4b02-9d63-572bc31fea55\", \"generator_model_050.h5\", 5529776)"
            ],
            "text/plain": [
              "<IPython.core.display.Javascript object>"
            ]
          },
          "metadata": {}
        },
        {
          "output_type": "display_data",
          "data": {
            "application/javascript": [
              "\n",
              "    async function download(id, filename, size) {\n",
              "      if (!google.colab.kernel.accessAllowed) {\n",
              "        return;\n",
              "      }\n",
              "      const div = document.createElement('div');\n",
              "      const label = document.createElement('label');\n",
              "      label.textContent = `Downloading \"${filename}\": `;\n",
              "      div.appendChild(label);\n",
              "      const progress = document.createElement('progress');\n",
              "      progress.max = size;\n",
              "      div.appendChild(progress);\n",
              "      document.body.appendChild(div);\n",
              "\n",
              "      const buffers = [];\n",
              "      let downloaded = 0;\n",
              "\n",
              "      const channel = await google.colab.kernel.comms.open(id);\n",
              "      // Send a message to notify the kernel that we're ready.\n",
              "      channel.send({})\n",
              "\n",
              "      for await (const message of channel.messages) {\n",
              "        // Send a message to notify the kernel that we're ready.\n",
              "        channel.send({})\n",
              "        if (message.buffers) {\n",
              "          for (const buffer of message.buffers) {\n",
              "            buffers.push(buffer);\n",
              "            downloaded += buffer.byteLength;\n",
              "            progress.value = downloaded;\n",
              "          }\n",
              "        }\n",
              "      }\n",
              "      const blob = new Blob(buffers, {type: 'application/binary'});\n",
              "      const a = document.createElement('a');\n",
              "      a.href = window.URL.createObjectURL(blob);\n",
              "      a.download = filename;\n",
              "      div.appendChild(a);\n",
              "      a.click();\n",
              "      div.remove();\n",
              "    }\n",
              "  "
            ],
            "text/plain": [
              "<IPython.core.display.Javascript object>"
            ]
          },
          "metadata": {}
        },
        {
          "output_type": "display_data",
          "data": {
            "application/javascript": [
              "download(\"download_8c3ebe28-52bc-4fc5-80da-ab5431ee36a5\", \"descriminator_model_050.h5\", 1949824)"
            ],
            "text/plain": [
              "<IPython.core.display.Javascript object>"
            ]
          },
          "metadata": {}
        },
        {
          "output_type": "stream",
          "name": "stdout",
          "text": [
            "WARNING:tensorflow:Compiled the loaded model, but the compiled metrics have yet to be built. `model.compile_metrics` will be empty until you train or evaluate the model.\n",
            "Epoch>51, Batch  10%, d1=0.694, d2=0.701 g=0.694\n",
            "Epoch>51, Batch  20%, d1=0.704, d2=0.679 g=0.707\n",
            "Epoch>51, Batch  30%, d1=0.686, d2=0.702 g=0.696\n",
            "Epoch>51, Batch  40%, d1=0.689, d2=0.682 g=0.720\n",
            "Epoch>51, Batch  50%, d1=0.697, d2=0.721 g=0.685\n",
            "Epoch>51, Batch  60%, d1=0.683, d2=0.696 g=0.711\n",
            "Epoch>51, Batch  70%, d1=0.698, d2=0.680 g=0.715\n",
            "Epoch>51, Batch  80%, d1=0.704, d2=0.696 g=0.705\n",
            "Epoch>51, Batch  90%, d1=0.697, d2=0.689 g=0.701\n",
            "Epoch>51, Batch 100%, d1=0.696, d2=0.687 g=0.715\n",
            "WARNING:tensorflow:Compiled the loaded model, but the compiled metrics have yet to be built. `model.compile_metrics` will be empty until you train or evaluate the model.\n",
            "Epoch>52, Batch  10%, d1=0.697, d2=0.686 g=0.710\n",
            "Epoch>52, Batch  20%, d1=0.704, d2=0.690 g=0.709\n",
            "Epoch>52, Batch  30%, d1=0.701, d2=0.688 g=0.701\n",
            "Epoch>52, Batch  40%, d1=0.696, d2=0.713 g=0.706\n",
            "Epoch>52, Batch  50%, d1=0.694, d2=0.679 g=0.721\n",
            "Epoch>52, Batch  60%, d1=0.701, d2=0.686 g=0.722\n",
            "Epoch>52, Batch  70%, d1=0.687, d2=0.693 g=0.719\n",
            "Epoch>52, Batch  80%, d1=0.697, d2=0.695 g=0.698\n",
            "Epoch>52, Batch  90%, d1=0.692, d2=0.710 g=0.699\n",
            "Epoch>52, Batch 100%, d1=0.700, d2=0.692 g=0.710\n",
            "WARNING:tensorflow:Compiled the loaded model, but the compiled metrics have yet to be built. `model.compile_metrics` will be empty until you train or evaluate the model.\n",
            "Epoch>53, Batch  10%, d1=0.695, d2=0.697 g=0.699\n",
            "Epoch>53, Batch  20%, d1=0.702, d2=0.681 g=0.726\n",
            "Epoch>53, Batch  30%, d1=0.683, d2=0.682 g=0.724\n",
            "Epoch>53, Batch  40%, d1=0.692, d2=0.653 g=0.746\n",
            "Epoch>53, Batch  50%, d1=0.701, d2=0.681 g=0.725\n",
            "Epoch>53, Batch  60%, d1=0.683, d2=0.680 g=0.721\n",
            "Epoch>53, Batch  70%, d1=0.700, d2=0.666 g=0.722\n",
            "Epoch>53, Batch  80%, d1=0.690, d2=0.687 g=0.716\n",
            "Epoch>53, Batch  90%, d1=0.697, d2=0.699 g=0.703\n",
            "Epoch>53, Batch 100%, d1=0.705, d2=0.685 g=0.717\n",
            "WARNING:tensorflow:Compiled the loaded model, but the compiled metrics have yet to be built. `model.compile_metrics` will be empty until you train or evaluate the model.\n",
            "Epoch>54, Batch  10%, d1=0.703, d2=0.693 g=0.706\n",
            "Epoch>54, Batch  20%, d1=0.704, d2=0.690 g=0.705\n",
            "Epoch>54, Batch  30%, d1=0.699, d2=0.685 g=0.712\n",
            "Epoch>54, Batch  40%, d1=0.696, d2=0.705 g=0.696\n",
            "Epoch>54, Batch  50%, d1=0.702, d2=0.696 g=0.703\n",
            "Epoch>54, Batch  60%, d1=0.689, d2=0.701 g=0.697\n",
            "Epoch>54, Batch  70%, d1=0.696, d2=0.669 g=0.741\n",
            "Epoch>54, Batch  80%, d1=0.702, d2=0.677 g=0.724\n",
            "Epoch>54, Batch  90%, d1=0.704, d2=0.686 g=0.719\n",
            "Epoch>54, Batch 100%, d1=0.703, d2=0.703 g=0.699\n",
            "WARNING:tensorflow:Compiled the loaded model, but the compiled metrics have yet to be built. `model.compile_metrics` will be empty until you train or evaluate the model.\n",
            "Epoch>55, Batch  10%, d1=0.709, d2=0.685 g=0.722\n",
            "Epoch>55, Batch  20%, d1=0.694, d2=0.733 g=0.679\n",
            "Epoch>55, Batch  30%, d1=0.696, d2=0.669 g=0.729\n",
            "Epoch>55, Batch  40%, d1=0.697, d2=0.686 g=0.717\n",
            "Epoch>55, Batch  50%, d1=0.724, d2=0.664 g=0.727\n",
            "Epoch>55, Batch  60%, d1=0.696, d2=0.682 g=0.720\n",
            "Epoch>55, Batch  70%, d1=0.690, d2=0.712 g=0.697\n",
            "Epoch>55, Batch  80%, d1=0.687, d2=0.692 g=0.703\n",
            "Epoch>55, Batch  90%, d1=0.698, d2=0.690 g=0.710\n",
            "Epoch>55, Batch 100%, d1=0.693, d2=0.687 g=0.696\n",
            "WARNING:tensorflow:Compiled the loaded model, but the compiled metrics have yet to be built. `model.compile_metrics` will be empty until you train or evaluate the model.\n",
            "Epoch>56, Batch  10%, d1=0.689, d2=0.700 g=0.704\n",
            "Epoch>56, Batch  20%, d1=0.694, d2=0.718 g=0.683\n",
            "Epoch>56, Batch  30%, d1=0.685, d2=0.691 g=0.704\n",
            "Epoch>56, Batch  40%, d1=0.687, d2=0.702 g=0.698\n",
            "Epoch>56, Batch  50%, d1=0.715, d2=0.708 g=0.698\n",
            "Epoch>56, Batch  60%, d1=0.695, d2=0.682 g=0.723\n",
            "Epoch>56, Batch  70%, d1=0.696, d2=0.677 g=0.713\n",
            "Epoch>56, Batch  80%, d1=0.698, d2=0.701 g=0.702\n",
            "Epoch>56, Batch  90%, d1=0.701, d2=0.704 g=0.699\n",
            "Epoch>56, Batch 100%, d1=0.700, d2=0.696 g=0.711\n",
            "WARNING:tensorflow:Compiled the loaded model, but the compiled metrics have yet to be built. `model.compile_metrics` will be empty until you train or evaluate the model.\n",
            "Epoch>57, Batch  10%, d1=0.699, d2=0.714 g=0.710\n",
            "Epoch>57, Batch  20%, d1=0.684, d2=0.716 g=0.710\n",
            "Epoch>57, Batch  30%, d1=0.700, d2=0.681 g=0.722\n",
            "Epoch>57, Batch  40%, d1=0.699, d2=0.689 g=0.719\n",
            "Epoch>57, Batch  50%, d1=0.687, d2=0.703 g=0.685\n",
            "Epoch>57, Batch  60%, d1=0.698, d2=0.702 g=0.694\n",
            "Epoch>57, Batch  70%, d1=0.694, d2=0.685 g=0.707\n",
            "Epoch>57, Batch  80%, d1=0.703, d2=0.691 g=0.708\n",
            "Epoch>57, Batch  90%, d1=0.697, d2=0.694 g=0.702\n",
            "Epoch>57, Batch 100%, d1=0.700, d2=0.694 g=0.707\n",
            "WARNING:tensorflow:Compiled the loaded model, but the compiled metrics have yet to be built. `model.compile_metrics` will be empty until you train or evaluate the model.\n",
            "Epoch>58, Batch  10%, d1=0.699, d2=0.685 g=0.723\n",
            "Epoch>58, Batch  20%, d1=0.697, d2=0.706 g=0.704\n",
            "Epoch>58, Batch  30%, d1=0.695, d2=0.695 g=0.699\n",
            "Epoch>58, Batch  40%, d1=0.706, d2=0.681 g=0.730\n",
            "Epoch>58, Batch  50%, d1=0.699, d2=0.695 g=0.695\n",
            "Epoch>58, Batch  60%, d1=0.685, d2=0.700 g=0.704\n",
            "Epoch>58, Batch  70%, d1=0.687, d2=0.684 g=0.712\n",
            "Epoch>58, Batch  80%, d1=0.700, d2=0.686 g=0.704\n",
            "Epoch>58, Batch  90%, d1=0.697, d2=0.696 g=0.703\n",
            "Epoch>58, Batch 100%, d1=0.704, d2=0.688 g=0.702\n",
            "WARNING:tensorflow:Compiled the loaded model, but the compiled metrics have yet to be built. `model.compile_metrics` will be empty until you train or evaluate the model.\n",
            "Epoch>59, Batch  10%, d1=0.694, d2=0.700 g=0.711\n",
            "Epoch>59, Batch  20%, d1=0.690, d2=0.710 g=0.691\n",
            "Epoch>59, Batch  30%, d1=0.697, d2=0.693 g=0.697\n",
            "Epoch>59, Batch  40%, d1=0.700, d2=0.679 g=0.723\n",
            "Epoch>59, Batch  50%, d1=0.677, d2=0.722 g=0.677\n",
            "Epoch>59, Batch  60%, d1=0.699, d2=0.688 g=0.711\n",
            "Epoch>59, Batch  70%, d1=0.700, d2=0.688 g=0.717\n",
            "Epoch>59, Batch  80%, d1=0.700, d2=0.686 g=0.709\n",
            "Epoch>59, Batch  90%, d1=0.687, d2=0.685 g=0.710\n",
            "Epoch>59, Batch 100%, d1=0.696, d2=0.704 g=0.692\n",
            "WARNING:tensorflow:Compiled the loaded model, but the compiled metrics have yet to be built. `model.compile_metrics` will be empty until you train or evaluate the model.\n",
            "Epoch>60, Batch  10%, d1=0.708, d2=0.688 g=0.715\n",
            "Epoch>60, Batch  20%, d1=0.703, d2=0.683 g=0.716\n",
            "Epoch>60, Batch  30%, d1=0.712, d2=0.654 g=0.748\n",
            "Epoch>60, Batch  40%, d1=0.693, d2=0.693 g=0.714\n",
            "Epoch>60, Batch  50%, d1=0.701, d2=0.686 g=0.712\n",
            "Epoch>60, Batch  60%, d1=0.704, d2=0.695 g=0.711\n",
            "Epoch>60, Batch  70%, d1=0.684, d2=0.695 g=0.707\n",
            "Epoch>60, Batch  80%, d1=0.690, d2=0.723 g=0.692\n",
            "Epoch>60, Batch  90%, d1=0.699, d2=0.697 g=0.699\n",
            "Epoch>60, Batch 100%, d1=0.704, d2=0.697 g=0.700\n",
            ">Accuracy real: 32.7%, fake: 60.7%\n"
          ]
        },
        {
          "output_type": "display_data",
          "data": {
            "application/javascript": [
              "\n",
              "    async function download(id, filename, size) {\n",
              "      if (!google.colab.kernel.accessAllowed) {\n",
              "        return;\n",
              "      }\n",
              "      const div = document.createElement('div');\n",
              "      const label = document.createElement('label');\n",
              "      label.textContent = `Downloading \"${filename}\": `;\n",
              "      div.appendChild(label);\n",
              "      const progress = document.createElement('progress');\n",
              "      progress.max = size;\n",
              "      div.appendChild(progress);\n",
              "      document.body.appendChild(div);\n",
              "\n",
              "      const buffers = [];\n",
              "      let downloaded = 0;\n",
              "\n",
              "      const channel = await google.colab.kernel.comms.open(id);\n",
              "      // Send a message to notify the kernel that we're ready.\n",
              "      channel.send({})\n",
              "\n",
              "      for await (const message of channel.messages) {\n",
              "        // Send a message to notify the kernel that we're ready.\n",
              "        channel.send({})\n",
              "        if (message.buffers) {\n",
              "          for (const buffer of message.buffers) {\n",
              "            buffers.push(buffer);\n",
              "            downloaded += buffer.byteLength;\n",
              "            progress.value = downloaded;\n",
              "          }\n",
              "        }\n",
              "      }\n",
              "      const blob = new Blob(buffers, {type: 'application/binary'});\n",
              "      const a = document.createElement('a');\n",
              "      a.href = window.URL.createObjectURL(blob);\n",
              "      a.download = filename;\n",
              "      div.appendChild(a);\n",
              "      a.click();\n",
              "      div.remove();\n",
              "    }\n",
              "  "
            ],
            "text/plain": [
              "<IPython.core.display.Javascript object>"
            ]
          },
          "metadata": {}
        },
        {
          "output_type": "display_data",
          "data": {
            "application/javascript": [
              "download(\"download_4707b1f5-8e95-4d55-aa7f-27345d24df6e\", \"generated_plot_e060.png\", 211839)"
            ],
            "text/plain": [
              "<IPython.core.display.Javascript object>"
            ]
          },
          "metadata": {}
        },
        {
          "output_type": "stream",
          "name": "stdout",
          "text": [
            "WARNING:tensorflow:Compiled the loaded model, but the compiled metrics have yet to be built. `model.compile_metrics` will be empty until you train or evaluate the model.\n"
          ]
        },
        {
          "output_type": "display_data",
          "data": {
            "application/javascript": [
              "\n",
              "    async function download(id, filename, size) {\n",
              "      if (!google.colab.kernel.accessAllowed) {\n",
              "        return;\n",
              "      }\n",
              "      const div = document.createElement('div');\n",
              "      const label = document.createElement('label');\n",
              "      label.textContent = `Downloading \"${filename}\": `;\n",
              "      div.appendChild(label);\n",
              "      const progress = document.createElement('progress');\n",
              "      progress.max = size;\n",
              "      div.appendChild(progress);\n",
              "      document.body.appendChild(div);\n",
              "\n",
              "      const buffers = [];\n",
              "      let downloaded = 0;\n",
              "\n",
              "      const channel = await google.colab.kernel.comms.open(id);\n",
              "      // Send a message to notify the kernel that we're ready.\n",
              "      channel.send({})\n",
              "\n",
              "      for await (const message of channel.messages) {\n",
              "        // Send a message to notify the kernel that we're ready.\n",
              "        channel.send({})\n",
              "        if (message.buffers) {\n",
              "          for (const buffer of message.buffers) {\n",
              "            buffers.push(buffer);\n",
              "            downloaded += buffer.byteLength;\n",
              "            progress.value = downloaded;\n",
              "          }\n",
              "        }\n",
              "      }\n",
              "      const blob = new Blob(buffers, {type: 'application/binary'});\n",
              "      const a = document.createElement('a');\n",
              "      a.href = window.URL.createObjectURL(blob);\n",
              "      a.download = filename;\n",
              "      div.appendChild(a);\n",
              "      a.click();\n",
              "      div.remove();\n",
              "    }\n",
              "  "
            ],
            "text/plain": [
              "<IPython.core.display.Javascript object>"
            ]
          },
          "metadata": {}
        },
        {
          "output_type": "display_data",
          "data": {
            "application/javascript": [
              "download(\"download_65fda24d-0009-4aaa-9dd4-3aa2c437c059\", \"generator_model_060.h5\", 5529776)"
            ],
            "text/plain": [
              "<IPython.core.display.Javascript object>"
            ]
          },
          "metadata": {}
        },
        {
          "output_type": "display_data",
          "data": {
            "application/javascript": [
              "\n",
              "    async function download(id, filename, size) {\n",
              "      if (!google.colab.kernel.accessAllowed) {\n",
              "        return;\n",
              "      }\n",
              "      const div = document.createElement('div');\n",
              "      const label = document.createElement('label');\n",
              "      label.textContent = `Downloading \"${filename}\": `;\n",
              "      div.appendChild(label);\n",
              "      const progress = document.createElement('progress');\n",
              "      progress.max = size;\n",
              "      div.appendChild(progress);\n",
              "      document.body.appendChild(div);\n",
              "\n",
              "      const buffers = [];\n",
              "      let downloaded = 0;\n",
              "\n",
              "      const channel = await google.colab.kernel.comms.open(id);\n",
              "      // Send a message to notify the kernel that we're ready.\n",
              "      channel.send({})\n",
              "\n",
              "      for await (const message of channel.messages) {\n",
              "        // Send a message to notify the kernel that we're ready.\n",
              "        channel.send({})\n",
              "        if (message.buffers) {\n",
              "          for (const buffer of message.buffers) {\n",
              "            buffers.push(buffer);\n",
              "            downloaded += buffer.byteLength;\n",
              "            progress.value = downloaded;\n",
              "          }\n",
              "        }\n",
              "      }\n",
              "      const blob = new Blob(buffers, {type: 'application/binary'});\n",
              "      const a = document.createElement('a');\n",
              "      a.href = window.URL.createObjectURL(blob);\n",
              "      a.download = filename;\n",
              "      div.appendChild(a);\n",
              "      a.click();\n",
              "      div.remove();\n",
              "    }\n",
              "  "
            ],
            "text/plain": [
              "<IPython.core.display.Javascript object>"
            ]
          },
          "metadata": {}
        },
        {
          "output_type": "display_data",
          "data": {
            "application/javascript": [
              "download(\"download_c4ab56cb-bd3f-4752-a5ef-2cb154e745da\", \"descriminator_model_060.h5\", 1949824)"
            ],
            "text/plain": [
              "<IPython.core.display.Javascript object>"
            ]
          },
          "metadata": {}
        },
        {
          "output_type": "stream",
          "name": "stdout",
          "text": [
            "WARNING:tensorflow:Compiled the loaded model, but the compiled metrics have yet to be built. `model.compile_metrics` will be empty until you train or evaluate the model.\n",
            "Epoch>61, Batch  10%, d1=0.701, d2=0.687 g=0.718\n",
            "Epoch>61, Batch  20%, d1=0.695, d2=0.687 g=0.705\n",
            "Epoch>61, Batch  30%, d1=0.702, d2=0.678 g=0.725\n",
            "Epoch>61, Batch  40%, d1=0.703, d2=0.684 g=0.709\n",
            "Epoch>61, Batch  50%, d1=0.690, d2=0.694 g=0.701\n",
            "Epoch>61, Batch  60%, d1=0.698, d2=0.699 g=0.699\n",
            "Epoch>61, Batch  70%, d1=0.706, d2=0.673 g=0.713\n",
            "Epoch>61, Batch  80%, d1=0.689, d2=0.701 g=0.695\n",
            "Epoch>61, Batch  90%, d1=0.698, d2=0.710 g=0.695\n",
            "Epoch>61, Batch 100%, d1=0.703, d2=0.705 g=0.692\n",
            "WARNING:tensorflow:Compiled the loaded model, but the compiled metrics have yet to be built. `model.compile_metrics` will be empty until you train or evaluate the model.\n",
            "Epoch>62, Batch  10%, d1=0.683, d2=0.710 g=0.701\n",
            "Epoch>62, Batch  20%, d1=0.699, d2=0.695 g=0.701\n",
            "Epoch>62, Batch  30%, d1=0.699, d2=0.700 g=0.703\n",
            "Epoch>62, Batch  40%, d1=0.695, d2=0.702 g=0.696\n",
            "Epoch>62, Batch  50%, d1=0.696, d2=0.686 g=0.707\n",
            "Epoch>62, Batch  60%, d1=0.699, d2=0.697 g=0.701\n",
            "Epoch>62, Batch  70%, d1=0.697, d2=0.687 g=0.705\n",
            "Epoch>62, Batch  80%, d1=0.694, d2=0.677 g=0.727\n",
            "Epoch>62, Batch  90%, d1=0.692, d2=0.711 g=0.683\n",
            "Epoch>62, Batch 100%, d1=0.700, d2=0.686 g=0.713\n",
            "WARNING:tensorflow:Compiled the loaded model, but the compiled metrics have yet to be built. `model.compile_metrics` will be empty until you train or evaluate the model.\n",
            "Epoch>63, Batch  10%, d1=0.698, d2=0.708 g=0.699\n",
            "Epoch>63, Batch  20%, d1=0.695, d2=0.685 g=0.712\n",
            "Epoch>63, Batch  30%, d1=0.699, d2=0.691 g=0.704\n",
            "Epoch>63, Batch  40%, d1=0.701, d2=0.688 g=0.710\n",
            "Epoch>63, Batch  50%, d1=0.693, d2=0.691 g=0.701\n",
            "Epoch>63, Batch  60%, d1=0.698, d2=0.689 g=0.706\n",
            "Epoch>63, Batch  70%, d1=0.712, d2=0.686 g=0.718\n",
            "Epoch>63, Batch  80%, d1=0.696, d2=0.693 g=0.709\n",
            "Epoch>63, Batch  90%, d1=0.691, d2=0.695 g=0.699\n",
            "Epoch>63, Batch 100%, d1=0.694, d2=0.688 g=0.711\n",
            "WARNING:tensorflow:Compiled the loaded model, but the compiled metrics have yet to be built. `model.compile_metrics` will be empty until you train or evaluate the model.\n",
            "Epoch>64, Batch  10%, d1=0.688, d2=0.698 g=0.707\n",
            "Epoch>64, Batch  20%, d1=0.689, d2=0.702 g=0.709\n",
            "Epoch>64, Batch  30%, d1=0.679, d2=0.715 g=0.686\n",
            "Epoch>64, Batch  40%, d1=0.692, d2=0.721 g=0.697\n",
            "Epoch>64, Batch  50%, d1=0.691, d2=0.702 g=0.697\n",
            "Epoch>64, Batch  60%, d1=0.698, d2=0.692 g=0.704\n",
            "Epoch>64, Batch  70%, d1=0.695, d2=0.696 g=0.700\n",
            "Epoch>64, Batch  80%, d1=0.689, d2=0.694 g=0.709\n",
            "Epoch>64, Batch  90%, d1=0.693, d2=0.690 g=0.704\n",
            "Epoch>64, Batch 100%, d1=0.698, d2=0.689 g=0.705\n",
            "WARNING:tensorflow:Compiled the loaded model, but the compiled metrics have yet to be built. `model.compile_metrics` will be empty until you train or evaluate the model.\n",
            "Epoch>65, Batch  10%, d1=0.689, d2=0.696 g=0.697\n",
            "Epoch>65, Batch  20%, d1=0.703, d2=0.692 g=0.703\n",
            "Epoch>65, Batch  30%, d1=0.699, d2=0.686 g=0.711\n",
            "Epoch>65, Batch  40%, d1=0.705, d2=0.696 g=0.723\n",
            "Epoch>65, Batch  50%, d1=0.689, d2=0.692 g=0.705\n",
            "Epoch>65, Batch  60%, d1=0.698, d2=0.714 g=0.689\n",
            "Epoch>65, Batch  70%, d1=0.695, d2=0.701 g=0.690\n",
            "Epoch>65, Batch  80%, d1=0.700, d2=0.691 g=0.700\n",
            "Epoch>65, Batch  90%, d1=0.690, d2=0.684 g=0.721\n",
            "Epoch>65, Batch 100%, d1=0.675, d2=0.712 g=0.696\n",
            "WARNING:tensorflow:Compiled the loaded model, but the compiled metrics have yet to be built. `model.compile_metrics` will be empty until you train or evaluate the model.\n",
            "Epoch>66, Batch  10%, d1=0.697, d2=0.686 g=0.714\n",
            "Epoch>66, Batch  20%, d1=0.696, d2=0.699 g=0.697\n",
            "Epoch>66, Batch  30%, d1=0.693, d2=0.707 g=0.692\n",
            "Epoch>66, Batch  40%, d1=0.694, d2=0.697 g=0.699\n",
            "Epoch>66, Batch  50%, d1=0.693, d2=0.690 g=0.704\n",
            "Epoch>66, Batch  60%, d1=0.683, d2=0.696 g=0.699\n",
            "Epoch>66, Batch  70%, d1=0.687, d2=0.688 g=0.710\n",
            "Epoch>66, Batch  80%, d1=0.700, d2=0.695 g=0.700\n",
            "Epoch>66, Batch  90%, d1=0.693, d2=0.697 g=0.695\n",
            "Epoch>66, Batch 100%, d1=0.686, d2=0.696 g=0.685\n",
            "WARNING:tensorflow:Compiled the loaded model, but the compiled metrics have yet to be built. `model.compile_metrics` will be empty until you train or evaluate the model.\n",
            "Epoch>67, Batch  10%, d1=0.703, d2=0.689 g=0.709\n",
            "Epoch>67, Batch  20%, d1=0.702, d2=0.686 g=0.726\n",
            "Epoch>67, Batch  30%, d1=0.686, d2=0.682 g=0.711\n",
            "Epoch>67, Batch  40%, d1=0.698, d2=0.692 g=0.702\n",
            "Epoch>67, Batch  50%, d1=0.694, d2=0.689 g=0.704\n",
            "Epoch>67, Batch  60%, d1=0.692, d2=0.692 g=0.704\n",
            "Epoch>67, Batch  70%, d1=0.692, d2=0.697 g=0.701\n",
            "Epoch>67, Batch  80%, d1=0.706, d2=0.691 g=0.705\n",
            "Epoch>67, Batch  90%, d1=0.693, d2=0.691 g=0.702\n",
            "Epoch>67, Batch 100%, d1=0.696, d2=0.698 g=0.694\n",
            "WARNING:tensorflow:Compiled the loaded model, but the compiled metrics have yet to be built. `model.compile_metrics` will be empty until you train or evaluate the model.\n",
            "Epoch>68, Batch  10%, d1=0.703, d2=0.689 g=0.705\n",
            "Epoch>68, Batch  20%, d1=0.694, d2=0.690 g=0.704\n",
            "Epoch>68, Batch  30%, d1=0.687, d2=0.699 g=0.693\n",
            "Epoch>68, Batch  40%, d1=0.679, d2=0.692 g=0.708\n",
            "Epoch>68, Batch  50%, d1=0.696, d2=0.693 g=0.710\n",
            "Epoch>68, Batch  60%, d1=0.704, d2=0.684 g=0.715\n",
            "Epoch>68, Batch  70%, d1=0.694, d2=0.713 g=0.696\n",
            "Epoch>68, Batch  80%, d1=0.697, d2=0.689 g=0.707\n",
            "Epoch>68, Batch  90%, d1=0.698, d2=0.694 g=0.698\n",
            "Epoch>68, Batch 100%, d1=0.692, d2=0.690 g=0.700\n",
            "WARNING:tensorflow:Compiled the loaded model, but the compiled metrics have yet to be built. `model.compile_metrics` will be empty until you train or evaluate the model.\n",
            "Epoch>69, Batch  10%, d1=0.702, d2=0.695 g=0.701\n",
            "Epoch>69, Batch  20%, d1=0.698, d2=0.692 g=0.702\n",
            "Epoch>69, Batch  30%, d1=0.698, d2=0.692 g=0.704\n",
            "Epoch>69, Batch  40%, d1=0.697, d2=0.697 g=0.692\n",
            "Epoch>69, Batch  50%, d1=0.698, d2=0.686 g=0.713\n",
            "Epoch>69, Batch  60%, d1=0.696, d2=0.693 g=0.700\n",
            "Epoch>69, Batch  70%, d1=0.694, d2=0.688 g=0.706\n",
            "Epoch>69, Batch  80%, d1=0.694, d2=0.692 g=0.702\n",
            "Epoch>69, Batch  90%, d1=0.701, d2=0.697 g=0.713\n",
            "Epoch>69, Batch 100%, d1=0.696, d2=0.689 g=0.706\n",
            "WARNING:tensorflow:Compiled the loaded model, but the compiled metrics have yet to be built. `model.compile_metrics` will be empty until you train or evaluate the model.\n",
            "Epoch>70, Batch  10%, d1=0.700, d2=0.700 g=0.696\n",
            "Epoch>70, Batch  20%, d1=0.695, d2=0.699 g=0.699\n",
            "Epoch>70, Batch  30%, d1=0.694, d2=0.694 g=0.705\n",
            "Epoch>70, Batch  40%, d1=0.687, d2=0.705 g=0.694\n",
            "Epoch>70, Batch  50%, d1=0.696, d2=0.693 g=0.699\n",
            "Epoch>70, Batch  60%, d1=0.695, d2=0.698 g=0.701\n",
            "Epoch>70, Batch  70%, d1=0.692, d2=0.688 g=0.703\n",
            "Epoch>70, Batch  80%, d1=0.699, d2=0.694 g=0.703\n",
            "Epoch>70, Batch  90%, d1=0.698, d2=0.701 g=0.695\n",
            "Epoch>70, Batch 100%, d1=0.696, d2=0.696 g=0.697\n",
            ">Accuracy real: 35.3%, fake: 43.3%\n"
          ]
        },
        {
          "output_type": "display_data",
          "data": {
            "application/javascript": [
              "\n",
              "    async function download(id, filename, size) {\n",
              "      if (!google.colab.kernel.accessAllowed) {\n",
              "        return;\n",
              "      }\n",
              "      const div = document.createElement('div');\n",
              "      const label = document.createElement('label');\n",
              "      label.textContent = `Downloading \"${filename}\": `;\n",
              "      div.appendChild(label);\n",
              "      const progress = document.createElement('progress');\n",
              "      progress.max = size;\n",
              "      div.appendChild(progress);\n",
              "      document.body.appendChild(div);\n",
              "\n",
              "      const buffers = [];\n",
              "      let downloaded = 0;\n",
              "\n",
              "      const channel = await google.colab.kernel.comms.open(id);\n",
              "      // Send a message to notify the kernel that we're ready.\n",
              "      channel.send({})\n",
              "\n",
              "      for await (const message of channel.messages) {\n",
              "        // Send a message to notify the kernel that we're ready.\n",
              "        channel.send({})\n",
              "        if (message.buffers) {\n",
              "          for (const buffer of message.buffers) {\n",
              "            buffers.push(buffer);\n",
              "            downloaded += buffer.byteLength;\n",
              "            progress.value = downloaded;\n",
              "          }\n",
              "        }\n",
              "      }\n",
              "      const blob = new Blob(buffers, {type: 'application/binary'});\n",
              "      const a = document.createElement('a');\n",
              "      a.href = window.URL.createObjectURL(blob);\n",
              "      a.download = filename;\n",
              "      div.appendChild(a);\n",
              "      a.click();\n",
              "      div.remove();\n",
              "    }\n",
              "  "
            ],
            "text/plain": [
              "<IPython.core.display.Javascript object>"
            ]
          },
          "metadata": {}
        },
        {
          "output_type": "display_data",
          "data": {
            "application/javascript": [
              "download(\"download_d5e70964-29c4-4b20-948d-fbd614f4d06c\", \"generated_plot_e070.png\", 217662)"
            ],
            "text/plain": [
              "<IPython.core.display.Javascript object>"
            ]
          },
          "metadata": {}
        },
        {
          "output_type": "stream",
          "name": "stdout",
          "text": [
            "WARNING:tensorflow:Compiled the loaded model, but the compiled metrics have yet to be built. `model.compile_metrics` will be empty until you train or evaluate the model.\n"
          ]
        },
        {
          "output_type": "display_data",
          "data": {
            "application/javascript": [
              "\n",
              "    async function download(id, filename, size) {\n",
              "      if (!google.colab.kernel.accessAllowed) {\n",
              "        return;\n",
              "      }\n",
              "      const div = document.createElement('div');\n",
              "      const label = document.createElement('label');\n",
              "      label.textContent = `Downloading \"${filename}\": `;\n",
              "      div.appendChild(label);\n",
              "      const progress = document.createElement('progress');\n",
              "      progress.max = size;\n",
              "      div.appendChild(progress);\n",
              "      document.body.appendChild(div);\n",
              "\n",
              "      const buffers = [];\n",
              "      let downloaded = 0;\n",
              "\n",
              "      const channel = await google.colab.kernel.comms.open(id);\n",
              "      // Send a message to notify the kernel that we're ready.\n",
              "      channel.send({})\n",
              "\n",
              "      for await (const message of channel.messages) {\n",
              "        // Send a message to notify the kernel that we're ready.\n",
              "        channel.send({})\n",
              "        if (message.buffers) {\n",
              "          for (const buffer of message.buffers) {\n",
              "            buffers.push(buffer);\n",
              "            downloaded += buffer.byteLength;\n",
              "            progress.value = downloaded;\n",
              "          }\n",
              "        }\n",
              "      }\n",
              "      const blob = new Blob(buffers, {type: 'application/binary'});\n",
              "      const a = document.createElement('a');\n",
              "      a.href = window.URL.createObjectURL(blob);\n",
              "      a.download = filename;\n",
              "      div.appendChild(a);\n",
              "      a.click();\n",
              "      div.remove();\n",
              "    }\n",
              "  "
            ],
            "text/plain": [
              "<IPython.core.display.Javascript object>"
            ]
          },
          "metadata": {}
        },
        {
          "output_type": "display_data",
          "data": {
            "application/javascript": [
              "download(\"download_23bc98b6-b0bb-4d79-ac19-b7d999f99d9f\", \"generator_model_070.h5\", 5529776)"
            ],
            "text/plain": [
              "<IPython.core.display.Javascript object>"
            ]
          },
          "metadata": {}
        },
        {
          "output_type": "display_data",
          "data": {
            "application/javascript": [
              "\n",
              "    async function download(id, filename, size) {\n",
              "      if (!google.colab.kernel.accessAllowed) {\n",
              "        return;\n",
              "      }\n",
              "      const div = document.createElement('div');\n",
              "      const label = document.createElement('label');\n",
              "      label.textContent = `Downloading \"${filename}\": `;\n",
              "      div.appendChild(label);\n",
              "      const progress = document.createElement('progress');\n",
              "      progress.max = size;\n",
              "      div.appendChild(progress);\n",
              "      document.body.appendChild(div);\n",
              "\n",
              "      const buffers = [];\n",
              "      let downloaded = 0;\n",
              "\n",
              "      const channel = await google.colab.kernel.comms.open(id);\n",
              "      // Send a message to notify the kernel that we're ready.\n",
              "      channel.send({})\n",
              "\n",
              "      for await (const message of channel.messages) {\n",
              "        // Send a message to notify the kernel that we're ready.\n",
              "        channel.send({})\n",
              "        if (message.buffers) {\n",
              "          for (const buffer of message.buffers) {\n",
              "            buffers.push(buffer);\n",
              "            downloaded += buffer.byteLength;\n",
              "            progress.value = downloaded;\n",
              "          }\n",
              "        }\n",
              "      }\n",
              "      const blob = new Blob(buffers, {type: 'application/binary'});\n",
              "      const a = document.createElement('a');\n",
              "      a.href = window.URL.createObjectURL(blob);\n",
              "      a.download = filename;\n",
              "      div.appendChild(a);\n",
              "      a.click();\n",
              "      div.remove();\n",
              "    }\n",
              "  "
            ],
            "text/plain": [
              "<IPython.core.display.Javascript object>"
            ]
          },
          "metadata": {}
        },
        {
          "output_type": "display_data",
          "data": {
            "application/javascript": [
              "download(\"download_d39c285a-8b81-4b88-8d3e-118fe0e5a09c\", \"descriminator_model_070.h5\", 1949824)"
            ],
            "text/plain": [
              "<IPython.core.display.Javascript object>"
            ]
          },
          "metadata": {}
        },
        {
          "output_type": "stream",
          "name": "stdout",
          "text": [
            "WARNING:tensorflow:Compiled the loaded model, but the compiled metrics have yet to be built. `model.compile_metrics` will be empty until you train or evaluate the model.\n",
            "Epoch>71, Batch  10%, d1=0.698, d2=0.696 g=0.701\n",
            "Epoch>71, Batch  20%, d1=0.698, d2=0.698 g=0.700\n",
            "Epoch>71, Batch  30%, d1=0.696, d2=0.700 g=0.703\n",
            "Epoch>71, Batch  40%, d1=0.701, d2=0.686 g=0.712\n",
            "Epoch>71, Batch  50%, d1=0.695, d2=0.699 g=0.705\n",
            "Epoch>71, Batch  60%, d1=0.693, d2=0.701 g=0.705\n",
            "Epoch>71, Batch  70%, d1=0.689, d2=0.697 g=0.700\n",
            "Epoch>71, Batch  80%, d1=0.697, d2=0.712 g=0.691\n",
            "Epoch>71, Batch  90%, d1=0.692, d2=0.679 g=0.717\n",
            "Epoch>71, Batch 100%, d1=0.699, d2=0.703 g=0.702\n",
            "WARNING:tensorflow:Compiled the loaded model, but the compiled metrics have yet to be built. `model.compile_metrics` will be empty until you train or evaluate the model.\n",
            "Epoch>72, Batch  10%, d1=0.691, d2=0.721 g=0.675\n",
            "Epoch>72, Batch  20%, d1=0.699, d2=0.697 g=0.705\n",
            "Epoch>72, Batch  30%, d1=0.705, d2=0.688 g=0.700\n",
            "Epoch>72, Batch  40%, d1=0.697, d2=0.694 g=0.705\n",
            "Epoch>72, Batch  50%, d1=0.702, d2=0.688 g=0.706\n",
            "Epoch>72, Batch  60%, d1=0.703, d2=0.692 g=0.702\n",
            "Epoch>72, Batch  70%, d1=0.700, d2=0.691 g=0.704\n",
            "Epoch>72, Batch  80%, d1=0.692, d2=0.684 g=0.713\n",
            "Epoch>72, Batch  90%, d1=0.696, d2=0.687 g=0.704\n",
            "Epoch>72, Batch 100%, d1=0.696, d2=0.698 g=0.702\n",
            "WARNING:tensorflow:Compiled the loaded model, but the compiled metrics have yet to be built. `model.compile_metrics` will be empty until you train or evaluate the model.\n",
            "Epoch>73, Batch  10%, d1=0.684, d2=0.704 g=0.690\n",
            "Epoch>73, Batch  20%, d1=0.693, d2=0.703 g=0.695\n",
            "Epoch>73, Batch  30%, d1=0.690, d2=0.695 g=0.697\n",
            "Epoch>73, Batch  40%, d1=0.701, d2=0.697 g=0.695\n",
            "Epoch>73, Batch  50%, d1=0.692, d2=0.691 g=0.707\n",
            "Epoch>73, Batch  60%, d1=0.695, d2=0.692 g=0.700\n",
            "Epoch>73, Batch  70%, d1=0.695, d2=0.697 g=0.697\n",
            "Epoch>73, Batch  80%, d1=0.691, d2=0.702 g=0.694\n",
            "Epoch>73, Batch  90%, d1=0.700, d2=0.704 g=0.713\n",
            "Epoch>73, Batch 100%, d1=0.695, d2=0.678 g=0.722\n",
            "WARNING:tensorflow:Compiled the loaded model, but the compiled metrics have yet to be built. `model.compile_metrics` will be empty until you train or evaluate the model.\n",
            "Epoch>74, Batch  10%, d1=0.692, d2=0.691 g=0.712\n",
            "Epoch>74, Batch  20%, d1=0.707, d2=0.676 g=0.720\n",
            "Epoch>74, Batch  30%, d1=0.699, d2=0.663 g=0.726\n",
            "Epoch>74, Batch  40%, d1=0.685, d2=0.697 g=0.709\n",
            "Epoch>74, Batch  50%, d1=0.691, d2=0.707 g=0.691\n",
            "Epoch>74, Batch  60%, d1=0.695, d2=0.715 g=0.695\n",
            "Epoch>74, Batch  70%, d1=0.689, d2=0.689 g=0.710\n",
            "Epoch>74, Batch  80%, d1=0.695, d2=0.688 g=0.711\n",
            "Epoch>74, Batch  90%, d1=0.703, d2=0.687 g=0.707\n",
            "Epoch>74, Batch 100%, d1=0.699, d2=0.686 g=0.706\n",
            "WARNING:tensorflow:Compiled the loaded model, but the compiled metrics have yet to be built. `model.compile_metrics` will be empty until you train or evaluate the model.\n",
            "Epoch>75, Batch  10%, d1=0.695, d2=0.684 g=0.710\n",
            "Epoch>75, Batch  20%, d1=0.702, d2=0.695 g=0.703\n",
            "Epoch>75, Batch  30%, d1=0.696, d2=0.696 g=0.695\n",
            "Epoch>75, Batch  40%, d1=0.699, d2=0.685 g=0.704\n",
            "Epoch>75, Batch  50%, d1=0.698, d2=0.693 g=0.699\n",
            "Epoch>75, Batch  60%, d1=0.698, d2=0.690 g=0.705\n",
            "Epoch>75, Batch  70%, d1=0.700, d2=0.688 g=0.702\n",
            "Epoch>75, Batch  80%, d1=0.696, d2=0.689 g=0.701\n",
            "Epoch>75, Batch  90%, d1=0.703, d2=0.688 g=0.707\n",
            "Epoch>75, Batch 100%, d1=0.697, d2=0.692 g=0.709\n",
            "WARNING:tensorflow:Compiled the loaded model, but the compiled metrics have yet to be built. `model.compile_metrics` will be empty until you train or evaluate the model.\n",
            "Epoch>76, Batch  10%, d1=0.686, d2=0.698 g=0.703\n",
            "Epoch>76, Batch  20%, d1=0.699, d2=0.688 g=0.702\n",
            "Epoch>76, Batch  30%, d1=0.699, d2=0.698 g=0.699\n",
            "Epoch>76, Batch  40%, d1=0.691, d2=0.699 g=0.698\n",
            "Epoch>76, Batch  50%, d1=0.699, d2=0.693 g=0.706\n",
            "Epoch>76, Batch  60%, d1=0.697, d2=0.694 g=0.698\n",
            "Epoch>76, Batch  70%, d1=0.699, d2=0.683 g=0.709\n",
            "Epoch>76, Batch  80%, d1=0.694, d2=0.701 g=0.696\n",
            "Epoch>76, Batch  90%, d1=0.689, d2=0.705 g=0.694\n",
            "Epoch>76, Batch 100%, d1=0.701, d2=0.692 g=0.700\n",
            "WARNING:tensorflow:Compiled the loaded model, but the compiled metrics have yet to be built. `model.compile_metrics` will be empty until you train or evaluate the model.\n",
            "Epoch>77, Batch  10%, d1=0.697, d2=0.698 g=0.699\n",
            "Epoch>77, Batch  20%, d1=0.701, d2=0.703 g=0.695\n",
            "Epoch>77, Batch  30%, d1=0.700, d2=0.695 g=0.699\n",
            "Epoch>77, Batch  40%, d1=0.700, d2=0.687 g=0.703\n",
            "Epoch>77, Batch  50%, d1=0.690, d2=0.702 g=0.692\n",
            "Epoch>77, Batch  60%, d1=0.701, d2=0.694 g=0.700\n",
            "Epoch>77, Batch  70%, d1=0.698, d2=0.694 g=0.700\n",
            "Epoch>77, Batch  80%, d1=0.695, d2=0.697 g=0.699\n",
            "Epoch>77, Batch  90%, d1=0.694, d2=0.696 g=0.695\n",
            "Epoch>77, Batch 100%, d1=0.701, d2=0.690 g=0.701\n",
            "WARNING:tensorflow:Compiled the loaded model, but the compiled metrics have yet to be built. `model.compile_metrics` will be empty until you train or evaluate the model.\n",
            "Epoch>78, Batch  10%, d1=0.700, d2=0.695 g=0.708\n",
            "Epoch>78, Batch  20%, d1=0.694, d2=0.698 g=0.698\n",
            "Epoch>78, Batch  30%, d1=0.698, d2=0.697 g=0.696\n",
            "Epoch>78, Batch  40%, d1=0.692, d2=0.695 g=0.695\n",
            "Epoch>78, Batch  50%, d1=0.696, d2=0.685 g=0.708\n",
            "Epoch>78, Batch  60%, d1=0.691, d2=0.683 g=0.715\n",
            "Epoch>78, Batch  70%, d1=0.697, d2=0.690 g=0.707\n",
            "Epoch>78, Batch  80%, d1=0.695, d2=0.691 g=0.703\n",
            "Epoch>78, Batch  90%, d1=0.697, d2=0.695 g=0.700\n",
            "Epoch>78, Batch 100%, d1=0.695, d2=0.694 g=0.691\n",
            "WARNING:tensorflow:Compiled the loaded model, but the compiled metrics have yet to be built. `model.compile_metrics` will be empty until you train or evaluate the model.\n",
            "Epoch>79, Batch  10%, d1=0.690, d2=0.687 g=0.697\n",
            "Epoch>79, Batch  20%, d1=0.692, d2=0.688 g=0.701\n",
            "Epoch>79, Batch  30%, d1=0.698, d2=0.695 g=0.702\n",
            "Epoch>79, Batch  40%, d1=0.697, d2=0.691 g=0.702\n",
            "Epoch>79, Batch  50%, d1=0.692, d2=0.698 g=0.698\n",
            "Epoch>79, Batch  60%, d1=0.697, d2=0.688 g=0.701\n",
            "Epoch>79, Batch  70%, d1=0.696, d2=0.705 g=0.699\n",
            "Epoch>79, Batch  80%, d1=0.698, d2=0.701 g=0.698\n",
            "Epoch>79, Batch  90%, d1=0.694, d2=0.706 g=0.695\n",
            "Epoch>79, Batch 100%, d1=0.695, d2=0.700 g=0.695\n",
            "WARNING:tensorflow:Compiled the loaded model, but the compiled metrics have yet to be built. `model.compile_metrics` will be empty until you train or evaluate the model.\n",
            "Epoch>80, Batch  10%, d1=0.694, d2=0.696 g=0.699\n",
            "Epoch>80, Batch  20%, d1=0.694, d2=0.688 g=0.707\n",
            "Epoch>80, Batch  30%, d1=0.698, d2=0.693 g=0.706\n",
            "Epoch>80, Batch  40%, d1=0.690, d2=0.703 g=0.690\n",
            "Epoch>80, Batch  50%, d1=0.697, d2=0.708 g=0.695\n",
            "Epoch>80, Batch  60%, d1=0.700, d2=0.693 g=0.705\n",
            "Epoch>80, Batch  70%, d1=0.694, d2=0.702 g=0.695\n",
            "Epoch>80, Batch  80%, d1=0.707, d2=0.695 g=0.701\n",
            "Epoch>80, Batch  90%, d1=0.700, d2=0.698 g=0.695\n",
            "Epoch>80, Batch 100%, d1=0.689, d2=0.692 g=0.702\n",
            ">Accuracy real: 44.0%, fake: 47.3%\n"
          ]
        },
        {
          "output_type": "display_data",
          "data": {
            "application/javascript": [
              "\n",
              "    async function download(id, filename, size) {\n",
              "      if (!google.colab.kernel.accessAllowed) {\n",
              "        return;\n",
              "      }\n",
              "      const div = document.createElement('div');\n",
              "      const label = document.createElement('label');\n",
              "      label.textContent = `Downloading \"${filename}\": `;\n",
              "      div.appendChild(label);\n",
              "      const progress = document.createElement('progress');\n",
              "      progress.max = size;\n",
              "      div.appendChild(progress);\n",
              "      document.body.appendChild(div);\n",
              "\n",
              "      const buffers = [];\n",
              "      let downloaded = 0;\n",
              "\n",
              "      const channel = await google.colab.kernel.comms.open(id);\n",
              "      // Send a message to notify the kernel that we're ready.\n",
              "      channel.send({})\n",
              "\n",
              "      for await (const message of channel.messages) {\n",
              "        // Send a message to notify the kernel that we're ready.\n",
              "        channel.send({})\n",
              "        if (message.buffers) {\n",
              "          for (const buffer of message.buffers) {\n",
              "            buffers.push(buffer);\n",
              "            downloaded += buffer.byteLength;\n",
              "            progress.value = downloaded;\n",
              "          }\n",
              "        }\n",
              "      }\n",
              "      const blob = new Blob(buffers, {type: 'application/binary'});\n",
              "      const a = document.createElement('a');\n",
              "      a.href = window.URL.createObjectURL(blob);\n",
              "      a.download = filename;\n",
              "      div.appendChild(a);\n",
              "      a.click();\n",
              "      div.remove();\n",
              "    }\n",
              "  "
            ],
            "text/plain": [
              "<IPython.core.display.Javascript object>"
            ]
          },
          "metadata": {}
        },
        {
          "output_type": "display_data",
          "data": {
            "application/javascript": [
              "download(\"download_88d8f0b0-ad75-456e-a9fa-fdf2b6412d77\", \"generated_plot_e080.png\", 219672)"
            ],
            "text/plain": [
              "<IPython.core.display.Javascript object>"
            ]
          },
          "metadata": {}
        },
        {
          "output_type": "stream",
          "name": "stdout",
          "text": [
            "WARNING:tensorflow:Compiled the loaded model, but the compiled metrics have yet to be built. `model.compile_metrics` will be empty until you train or evaluate the model.\n"
          ]
        },
        {
          "output_type": "display_data",
          "data": {
            "application/javascript": [
              "\n",
              "    async function download(id, filename, size) {\n",
              "      if (!google.colab.kernel.accessAllowed) {\n",
              "        return;\n",
              "      }\n",
              "      const div = document.createElement('div');\n",
              "      const label = document.createElement('label');\n",
              "      label.textContent = `Downloading \"${filename}\": `;\n",
              "      div.appendChild(label);\n",
              "      const progress = document.createElement('progress');\n",
              "      progress.max = size;\n",
              "      div.appendChild(progress);\n",
              "      document.body.appendChild(div);\n",
              "\n",
              "      const buffers = [];\n",
              "      let downloaded = 0;\n",
              "\n",
              "      const channel = await google.colab.kernel.comms.open(id);\n",
              "      // Send a message to notify the kernel that we're ready.\n",
              "      channel.send({})\n",
              "\n",
              "      for await (const message of channel.messages) {\n",
              "        // Send a message to notify the kernel that we're ready.\n",
              "        channel.send({})\n",
              "        if (message.buffers) {\n",
              "          for (const buffer of message.buffers) {\n",
              "            buffers.push(buffer);\n",
              "            downloaded += buffer.byteLength;\n",
              "            progress.value = downloaded;\n",
              "          }\n",
              "        }\n",
              "      }\n",
              "      const blob = new Blob(buffers, {type: 'application/binary'});\n",
              "      const a = document.createElement('a');\n",
              "      a.href = window.URL.createObjectURL(blob);\n",
              "      a.download = filename;\n",
              "      div.appendChild(a);\n",
              "      a.click();\n",
              "      div.remove();\n",
              "    }\n",
              "  "
            ],
            "text/plain": [
              "<IPython.core.display.Javascript object>"
            ]
          },
          "metadata": {}
        },
        {
          "output_type": "display_data",
          "data": {
            "application/javascript": [
              "download(\"download_4fe12795-aa4c-4cdd-ab7a-f053dee5fec9\", \"generator_model_080.h5\", 5529776)"
            ],
            "text/plain": [
              "<IPython.core.display.Javascript object>"
            ]
          },
          "metadata": {}
        },
        {
          "output_type": "display_data",
          "data": {
            "application/javascript": [
              "\n",
              "    async function download(id, filename, size) {\n",
              "      if (!google.colab.kernel.accessAllowed) {\n",
              "        return;\n",
              "      }\n",
              "      const div = document.createElement('div');\n",
              "      const label = document.createElement('label');\n",
              "      label.textContent = `Downloading \"${filename}\": `;\n",
              "      div.appendChild(label);\n",
              "      const progress = document.createElement('progress');\n",
              "      progress.max = size;\n",
              "      div.appendChild(progress);\n",
              "      document.body.appendChild(div);\n",
              "\n",
              "      const buffers = [];\n",
              "      let downloaded = 0;\n",
              "\n",
              "      const channel = await google.colab.kernel.comms.open(id);\n",
              "      // Send a message to notify the kernel that we're ready.\n",
              "      channel.send({})\n",
              "\n",
              "      for await (const message of channel.messages) {\n",
              "        // Send a message to notify the kernel that we're ready.\n",
              "        channel.send({})\n",
              "        if (message.buffers) {\n",
              "          for (const buffer of message.buffers) {\n",
              "            buffers.push(buffer);\n",
              "            downloaded += buffer.byteLength;\n",
              "            progress.value = downloaded;\n",
              "          }\n",
              "        }\n",
              "      }\n",
              "      const blob = new Blob(buffers, {type: 'application/binary'});\n",
              "      const a = document.createElement('a');\n",
              "      a.href = window.URL.createObjectURL(blob);\n",
              "      a.download = filename;\n",
              "      div.appendChild(a);\n",
              "      a.click();\n",
              "      div.remove();\n",
              "    }\n",
              "  "
            ],
            "text/plain": [
              "<IPython.core.display.Javascript object>"
            ]
          },
          "metadata": {}
        },
        {
          "output_type": "display_data",
          "data": {
            "application/javascript": [
              "download(\"download_69712154-2759-409e-b539-f6375f8a4fc1\", \"descriminator_model_080.h5\", 1949824)"
            ],
            "text/plain": [
              "<IPython.core.display.Javascript object>"
            ]
          },
          "metadata": {}
        },
        {
          "output_type": "stream",
          "name": "stdout",
          "text": [
            "WARNING:tensorflow:Compiled the loaded model, but the compiled metrics have yet to be built. `model.compile_metrics` will be empty until you train or evaluate the model.\n",
            "Epoch>81, Batch  10%, d1=0.694, d2=0.696 g=0.707\n",
            "Epoch>81, Batch  20%, d1=0.699, d2=0.691 g=0.703\n",
            "Epoch>81, Batch  30%, d1=0.697, d2=0.691 g=0.701\n",
            "Epoch>81, Batch  40%, d1=0.703, d2=0.690 g=0.703\n",
            "Epoch>81, Batch  50%, d1=0.703, d2=0.681 g=0.710\n",
            "Epoch>81, Batch  60%, d1=0.695, d2=0.696 g=0.701\n",
            "Epoch>81, Batch  70%, d1=0.694, d2=0.693 g=0.701\n",
            "Epoch>81, Batch  80%, d1=0.694, d2=0.696 g=0.700\n",
            "Epoch>81, Batch  90%, d1=0.698, d2=0.697 g=0.701\n",
            "Epoch>81, Batch 100%, d1=0.698, d2=0.697 g=0.696\n",
            "WARNING:tensorflow:Compiled the loaded model, but the compiled metrics have yet to be built. `model.compile_metrics` will be empty until you train or evaluate the model.\n",
            "Epoch>82, Batch  10%, d1=0.689, d2=0.703 g=0.699\n",
            "Epoch>82, Batch  20%, d1=0.694, d2=0.699 g=0.689\n",
            "Epoch>82, Batch  30%, d1=0.696, d2=0.693 g=0.697\n",
            "Epoch>82, Batch  40%, d1=0.699, d2=0.695 g=0.700\n",
            "Epoch>82, Batch  50%, d1=0.695, d2=0.680 g=0.713\n",
            "Epoch>82, Batch  60%, d1=0.696, d2=0.703 g=0.692\n",
            "Epoch>82, Batch  70%, d1=0.699, d2=0.697 g=0.697\n",
            "Epoch>82, Batch  80%, d1=0.690, d2=0.715 g=0.679\n",
            "Epoch>82, Batch  90%, d1=0.689, d2=0.705 g=0.689\n",
            "Epoch>82, Batch 100%, d1=0.696, d2=0.709 g=0.686\n",
            "WARNING:tensorflow:Compiled the loaded model, but the compiled metrics have yet to be built. `model.compile_metrics` will be empty until you train or evaluate the model.\n",
            "Epoch>83, Batch  10%, d1=0.701, d2=0.695 g=0.699\n",
            "Epoch>83, Batch  20%, d1=0.699, d2=0.706 g=0.697\n",
            "Epoch>83, Batch  30%, d1=0.699, d2=0.689 g=0.703\n",
            "Epoch>83, Batch  40%, d1=0.700, d2=0.690 g=0.713\n",
            "Epoch>83, Batch  50%, d1=0.700, d2=0.701 g=0.696\n",
            "Epoch>83, Batch  60%, d1=0.686, d2=0.707 g=0.701\n",
            "Epoch>83, Batch  70%, d1=0.694, d2=0.699 g=0.696\n",
            "Epoch>83, Batch  80%, d1=0.688, d2=0.697 g=0.697\n",
            "Epoch>83, Batch  90%, d1=0.696, d2=0.694 g=0.700\n",
            "Epoch>83, Batch 100%, d1=0.697, d2=0.690 g=0.707\n",
            "WARNING:tensorflow:Compiled the loaded model, but the compiled metrics have yet to be built. `model.compile_metrics` will be empty until you train or evaluate the model.\n",
            "Epoch>84, Batch  10%, d1=0.695, d2=0.695 g=0.698\n",
            "Epoch>84, Batch  20%, d1=0.693, d2=0.690 g=0.705\n",
            "Epoch>84, Batch  30%, d1=0.701, d2=0.685 g=0.706\n",
            "Epoch>84, Batch  40%, d1=0.696, d2=0.688 g=0.701\n",
            "Epoch>84, Batch  50%, d1=0.690, d2=0.700 g=0.697\n",
            "Epoch>84, Batch  60%, d1=0.697, d2=0.695 g=0.698\n",
            "Epoch>84, Batch  70%, d1=0.692, d2=0.680 g=0.709\n",
            "Epoch>84, Batch  80%, d1=0.688, d2=0.695 g=0.700\n",
            "Epoch>84, Batch  90%, d1=0.688, d2=0.691 g=0.704\n",
            "Epoch>84, Batch 100%, d1=0.688, d2=0.701 g=0.692\n",
            "WARNING:tensorflow:Compiled the loaded model, but the compiled metrics have yet to be built. `model.compile_metrics` will be empty until you train or evaluate the model.\n",
            "Epoch>85, Batch  10%, d1=0.700, d2=0.687 g=0.704\n",
            "Epoch>85, Batch  20%, d1=0.705, d2=0.683 g=0.704\n",
            "Epoch>85, Batch  30%, d1=0.689, d2=0.705 g=0.693\n",
            "Epoch>85, Batch  40%, d1=0.694, d2=0.694 g=0.696\n",
            "Epoch>85, Batch  50%, d1=0.696, d2=0.706 g=0.695\n",
            "Epoch>85, Batch  60%, d1=0.702, d2=0.687 g=0.704\n",
            "Epoch>85, Batch  70%, d1=0.695, d2=0.691 g=0.692\n",
            "Epoch>85, Batch  80%, d1=0.697, d2=0.692 g=0.701\n",
            "Epoch>85, Batch  90%, d1=0.697, d2=0.691 g=0.701\n",
            "Epoch>85, Batch 100%, d1=0.696, d2=0.696 g=0.695\n",
            "WARNING:tensorflow:Compiled the loaded model, but the compiled metrics have yet to be built. `model.compile_metrics` will be empty until you train or evaluate the model.\n",
            "Epoch>86, Batch  10%, d1=0.691, d2=0.690 g=0.698\n",
            "Epoch>86, Batch  20%, d1=0.690, d2=0.695 g=0.696\n",
            "Epoch>86, Batch  30%, d1=0.693, d2=0.690 g=0.700\n",
            "Epoch>86, Batch  40%, d1=0.701, d2=0.693 g=0.700\n",
            "Epoch>86, Batch  50%, d1=0.694, d2=0.698 g=0.697\n",
            "Epoch>86, Batch  60%, d1=0.700, d2=0.689 g=0.699\n",
            "Epoch>86, Batch  70%, d1=0.696, d2=0.698 g=0.700\n",
            "Epoch>86, Batch  80%, d1=0.699, d2=0.688 g=0.699\n",
            "Epoch>86, Batch  90%, d1=0.697, d2=0.687 g=0.710\n",
            "Epoch>86, Batch 100%, d1=0.694, d2=0.694 g=0.701\n",
            "WARNING:tensorflow:Compiled the loaded model, but the compiled metrics have yet to be built. `model.compile_metrics` will be empty until you train or evaluate the model.\n",
            "Epoch>87, Batch  10%, d1=0.699, d2=0.679 g=0.717\n",
            "Epoch>87, Batch  20%, d1=0.691, d2=0.693 g=0.708\n",
            "Epoch>87, Batch  30%, d1=0.695, d2=0.695 g=0.716\n",
            "Epoch>87, Batch  40%, d1=0.691, d2=0.691 g=0.704\n",
            "Epoch>87, Batch  50%, d1=0.700, d2=0.698 g=0.701\n",
            "Epoch>87, Batch  60%, d1=0.696, d2=0.695 g=0.705\n",
            "Epoch>87, Batch  70%, d1=0.691, d2=0.701 g=0.696\n",
            "Epoch>87, Batch  80%, d1=0.699, d2=0.700 g=0.692\n",
            "Epoch>87, Batch  90%, d1=0.701, d2=0.692 g=0.699\n",
            "Epoch>87, Batch 100%, d1=0.694, d2=0.695 g=0.697\n",
            "WARNING:tensorflow:Compiled the loaded model, but the compiled metrics have yet to be built. `model.compile_metrics` will be empty until you train or evaluate the model.\n",
            "Epoch>88, Batch  10%, d1=0.692, d2=0.698 g=0.693\n",
            "Epoch>88, Batch  20%, d1=0.687, d2=0.695 g=0.702\n",
            "Epoch>88, Batch  30%, d1=0.691, d2=0.689 g=0.699\n",
            "Epoch>88, Batch  40%, d1=0.695, d2=0.693 g=0.703\n",
            "Epoch>88, Batch  50%, d1=0.700, d2=0.690 g=0.700\n",
            "Epoch>88, Batch  60%, d1=0.698, d2=0.688 g=0.706\n",
            "Epoch>88, Batch  70%, d1=0.688, d2=0.695 g=0.699\n",
            "Epoch>88, Batch  80%, d1=0.695, d2=0.691 g=0.703\n",
            "Epoch>88, Batch  90%, d1=0.694, d2=0.689 g=0.702\n",
            "Epoch>88, Batch 100%, d1=0.689, d2=0.692 g=0.698\n",
            "WARNING:tensorflow:Compiled the loaded model, but the compiled metrics have yet to be built. `model.compile_metrics` will be empty until you train or evaluate the model.\n",
            "Epoch>89, Batch  10%, d1=0.691, d2=0.700 g=0.696\n",
            "Epoch>89, Batch  20%, d1=0.688, d2=0.699 g=0.693\n",
            "Epoch>89, Batch  30%, d1=0.701, d2=0.693 g=0.697\n",
            "Epoch>89, Batch  40%, d1=0.694, d2=0.700 g=0.693\n",
            "Epoch>89, Batch  50%, d1=0.699, d2=0.690 g=0.702\n",
            "Epoch>89, Batch  60%, d1=0.694, d2=0.694 g=0.695\n",
            "Epoch>89, Batch  70%, d1=0.696, d2=0.693 g=0.698\n",
            "Epoch>89, Batch  80%, d1=0.695, d2=0.685 g=0.700\n",
            "Epoch>89, Batch  90%, d1=0.692, d2=0.706 g=0.692\n",
            "Epoch>89, Batch 100%, d1=0.692, d2=0.693 g=0.699\n",
            "WARNING:tensorflow:Compiled the loaded model, but the compiled metrics have yet to be built. `model.compile_metrics` will be empty until you train or evaluate the model.\n",
            "Epoch>90, Batch  10%, d1=0.696, d2=0.696 g=0.697\n",
            "Epoch>90, Batch  20%, d1=0.694, d2=0.700 g=0.699\n",
            "Epoch>90, Batch  30%, d1=0.695, d2=0.711 g=0.689\n",
            "Epoch>90, Batch  40%, d1=0.696, d2=0.691 g=0.702\n",
            "Epoch>90, Batch  50%, d1=0.695, d2=0.693 g=0.699\n",
            "Epoch>90, Batch  60%, d1=0.699, d2=0.696 g=0.700\n",
            "Epoch>90, Batch  70%, d1=0.696, d2=0.696 g=0.696\n",
            "Epoch>90, Batch  80%, d1=0.698, d2=0.697 g=0.698\n",
            "Epoch>90, Batch  90%, d1=0.695, d2=0.691 g=0.707\n",
            "Epoch>90, Batch 100%, d1=0.688, d2=0.704 g=0.682\n",
            ">Accuracy real: 56.0%, fake: 32.0%\n"
          ]
        },
        {
          "output_type": "display_data",
          "data": {
            "application/javascript": [
              "\n",
              "    async function download(id, filename, size) {\n",
              "      if (!google.colab.kernel.accessAllowed) {\n",
              "        return;\n",
              "      }\n",
              "      const div = document.createElement('div');\n",
              "      const label = document.createElement('label');\n",
              "      label.textContent = `Downloading \"${filename}\": `;\n",
              "      div.appendChild(label);\n",
              "      const progress = document.createElement('progress');\n",
              "      progress.max = size;\n",
              "      div.appendChild(progress);\n",
              "      document.body.appendChild(div);\n",
              "\n",
              "      const buffers = [];\n",
              "      let downloaded = 0;\n",
              "\n",
              "      const channel = await google.colab.kernel.comms.open(id);\n",
              "      // Send a message to notify the kernel that we're ready.\n",
              "      channel.send({})\n",
              "\n",
              "      for await (const message of channel.messages) {\n",
              "        // Send a message to notify the kernel that we're ready.\n",
              "        channel.send({})\n",
              "        if (message.buffers) {\n",
              "          for (const buffer of message.buffers) {\n",
              "            buffers.push(buffer);\n",
              "            downloaded += buffer.byteLength;\n",
              "            progress.value = downloaded;\n",
              "          }\n",
              "        }\n",
              "      }\n",
              "      const blob = new Blob(buffers, {type: 'application/binary'});\n",
              "      const a = document.createElement('a');\n",
              "      a.href = window.URL.createObjectURL(blob);\n",
              "      a.download = filename;\n",
              "      div.appendChild(a);\n",
              "      a.click();\n",
              "      div.remove();\n",
              "    }\n",
              "  "
            ],
            "text/plain": [
              "<IPython.core.display.Javascript object>"
            ]
          },
          "metadata": {}
        },
        {
          "output_type": "display_data",
          "data": {
            "application/javascript": [
              "download(\"download_11010119-b52a-4d23-91b5-adcfc8d6e0ba\", \"generated_plot_e090.png\", 220768)"
            ],
            "text/plain": [
              "<IPython.core.display.Javascript object>"
            ]
          },
          "metadata": {}
        },
        {
          "output_type": "stream",
          "name": "stdout",
          "text": [
            "WARNING:tensorflow:Compiled the loaded model, but the compiled metrics have yet to be built. `model.compile_metrics` will be empty until you train or evaluate the model.\n"
          ]
        },
        {
          "output_type": "display_data",
          "data": {
            "application/javascript": [
              "\n",
              "    async function download(id, filename, size) {\n",
              "      if (!google.colab.kernel.accessAllowed) {\n",
              "        return;\n",
              "      }\n",
              "      const div = document.createElement('div');\n",
              "      const label = document.createElement('label');\n",
              "      label.textContent = `Downloading \"${filename}\": `;\n",
              "      div.appendChild(label);\n",
              "      const progress = document.createElement('progress');\n",
              "      progress.max = size;\n",
              "      div.appendChild(progress);\n",
              "      document.body.appendChild(div);\n",
              "\n",
              "      const buffers = [];\n",
              "      let downloaded = 0;\n",
              "\n",
              "      const channel = await google.colab.kernel.comms.open(id);\n",
              "      // Send a message to notify the kernel that we're ready.\n",
              "      channel.send({})\n",
              "\n",
              "      for await (const message of channel.messages) {\n",
              "        // Send a message to notify the kernel that we're ready.\n",
              "        channel.send({})\n",
              "        if (message.buffers) {\n",
              "          for (const buffer of message.buffers) {\n",
              "            buffers.push(buffer);\n",
              "            downloaded += buffer.byteLength;\n",
              "            progress.value = downloaded;\n",
              "          }\n",
              "        }\n",
              "      }\n",
              "      const blob = new Blob(buffers, {type: 'application/binary'});\n",
              "      const a = document.createElement('a');\n",
              "      a.href = window.URL.createObjectURL(blob);\n",
              "      a.download = filename;\n",
              "      div.appendChild(a);\n",
              "      a.click();\n",
              "      div.remove();\n",
              "    }\n",
              "  "
            ],
            "text/plain": [
              "<IPython.core.display.Javascript object>"
            ]
          },
          "metadata": {}
        },
        {
          "output_type": "display_data",
          "data": {
            "application/javascript": [
              "download(\"download_6f758ed2-fcd6-4593-b8d2-9ce478c584d2\", \"generator_model_090.h5\", 5529776)"
            ],
            "text/plain": [
              "<IPython.core.display.Javascript object>"
            ]
          },
          "metadata": {}
        },
        {
          "output_type": "display_data",
          "data": {
            "application/javascript": [
              "\n",
              "    async function download(id, filename, size) {\n",
              "      if (!google.colab.kernel.accessAllowed) {\n",
              "        return;\n",
              "      }\n",
              "      const div = document.createElement('div');\n",
              "      const label = document.createElement('label');\n",
              "      label.textContent = `Downloading \"${filename}\": `;\n",
              "      div.appendChild(label);\n",
              "      const progress = document.createElement('progress');\n",
              "      progress.max = size;\n",
              "      div.appendChild(progress);\n",
              "      document.body.appendChild(div);\n",
              "\n",
              "      const buffers = [];\n",
              "      let downloaded = 0;\n",
              "\n",
              "      const channel = await google.colab.kernel.comms.open(id);\n",
              "      // Send a message to notify the kernel that we're ready.\n",
              "      channel.send({})\n",
              "\n",
              "      for await (const message of channel.messages) {\n",
              "        // Send a message to notify the kernel that we're ready.\n",
              "        channel.send({})\n",
              "        if (message.buffers) {\n",
              "          for (const buffer of message.buffers) {\n",
              "            buffers.push(buffer);\n",
              "            downloaded += buffer.byteLength;\n",
              "            progress.value = downloaded;\n",
              "          }\n",
              "        }\n",
              "      }\n",
              "      const blob = new Blob(buffers, {type: 'application/binary'});\n",
              "      const a = document.createElement('a');\n",
              "      a.href = window.URL.createObjectURL(blob);\n",
              "      a.download = filename;\n",
              "      div.appendChild(a);\n",
              "      a.click();\n",
              "      div.remove();\n",
              "    }\n",
              "  "
            ],
            "text/plain": [
              "<IPython.core.display.Javascript object>"
            ]
          },
          "metadata": {}
        },
        {
          "output_type": "display_data",
          "data": {
            "application/javascript": [
              "download(\"download_f3233837-0545-454e-b5a0-7e2c5c9b096e\", \"descriminator_model_090.h5\", 1949824)"
            ],
            "text/plain": [
              "<IPython.core.display.Javascript object>"
            ]
          },
          "metadata": {}
        },
        {
          "output_type": "stream",
          "name": "stdout",
          "text": [
            "WARNING:tensorflow:Compiled the loaded model, but the compiled metrics have yet to be built. `model.compile_metrics` will be empty until you train or evaluate the model.\n",
            "Epoch>91, Batch  10%, d1=0.687, d2=0.693 g=0.710\n",
            "Epoch>91, Batch  20%, d1=0.697, d2=0.702 g=0.694\n",
            "Epoch>91, Batch  30%, d1=0.693, d2=0.695 g=0.695\n",
            "Epoch>91, Batch  40%, d1=0.695, d2=0.693 g=0.701\n",
            "Epoch>91, Batch  50%, d1=0.684, d2=0.701 g=0.686\n",
            "Epoch>91, Batch  60%, d1=0.695, d2=0.691 g=0.696\n",
            "Epoch>91, Batch  70%, d1=0.694, d2=0.689 g=0.699\n",
            "Epoch>91, Batch  80%, d1=0.694, d2=0.691 g=0.705\n",
            "Epoch>91, Batch  90%, d1=0.692, d2=0.695 g=0.699\n",
            "Epoch>91, Batch 100%, d1=0.700, d2=0.694 g=0.700\n",
            "WARNING:tensorflow:Compiled the loaded model, but the compiled metrics have yet to be built. `model.compile_metrics` will be empty until you train or evaluate the model.\n",
            "Epoch>92, Batch  10%, d1=0.699, d2=0.695 g=0.698\n",
            "Epoch>92, Batch  20%, d1=0.690, d2=0.697 g=0.699\n",
            "Epoch>92, Batch  30%, d1=0.692, d2=0.696 g=0.695\n",
            "Epoch>92, Batch  40%, d1=0.693, d2=0.701 g=0.696\n",
            "Epoch>92, Batch  50%, d1=0.691, d2=0.700 g=0.695\n",
            "Epoch>92, Batch  60%, d1=0.690, d2=0.702 g=0.695\n",
            "Epoch>92, Batch  70%, d1=0.696, d2=0.691 g=0.704\n",
            "Epoch>92, Batch  80%, d1=0.698, d2=0.696 g=0.697\n",
            "Epoch>92, Batch  90%, d1=0.696, d2=0.697 g=0.699\n",
            "Epoch>92, Batch 100%, d1=0.695, d2=0.692 g=0.703\n",
            "WARNING:tensorflow:Compiled the loaded model, but the compiled metrics have yet to be built. `model.compile_metrics` will be empty until you train or evaluate the model.\n",
            "Epoch>93, Batch  10%, d1=0.693, d2=0.694 g=0.694\n",
            "Epoch>93, Batch  20%, d1=0.691, d2=0.690 g=0.696\n",
            "Epoch>93, Batch  30%, d1=0.694, d2=0.698 g=0.705\n",
            "Epoch>93, Batch  40%, d1=0.694, d2=0.709 g=0.688\n",
            "Epoch>93, Batch  50%, d1=0.693, d2=0.692 g=0.702\n",
            "Epoch>93, Batch  60%, d1=0.694, d2=0.691 g=0.705\n",
            "Epoch>93, Batch  70%, d1=0.693, d2=0.704 g=0.689\n",
            "Epoch>93, Batch  80%, d1=0.693, d2=0.696 g=0.698\n",
            "Epoch>93, Batch  90%, d1=0.690, d2=0.700 g=0.695\n",
            "Epoch>93, Batch 100%, d1=0.700, d2=0.695 g=0.698\n",
            "WARNING:tensorflow:Compiled the loaded model, but the compiled metrics have yet to be built. `model.compile_metrics` will be empty until you train or evaluate the model.\n",
            "Epoch>94, Batch  10%, d1=0.697, d2=0.691 g=0.702\n",
            "Epoch>94, Batch  20%, d1=0.699, d2=0.691 g=0.698\n",
            "Epoch>94, Batch  30%, d1=0.692, d2=0.703 g=0.690\n",
            "Epoch>94, Batch  40%, d1=0.687, d2=0.699 g=0.697\n",
            "Epoch>94, Batch  50%, d1=0.692, d2=0.694 g=0.696\n",
            "Epoch>94, Batch  60%, d1=0.695, d2=0.694 g=0.704\n",
            "Epoch>94, Batch  70%, d1=0.691, d2=0.694 g=0.703\n",
            "Epoch>94, Batch  80%, d1=0.704, d2=0.707 g=0.693\n",
            "Epoch>94, Batch  90%, d1=0.690, d2=0.712 g=0.690\n",
            "Epoch>94, Batch 100%, d1=0.690, d2=0.695 g=0.693\n",
            "WARNING:tensorflow:Compiled the loaded model, but the compiled metrics have yet to be built. `model.compile_metrics` will be empty until you train or evaluate the model.\n",
            "Epoch>95, Batch  10%, d1=0.694, d2=0.699 g=0.697\n",
            "Epoch>95, Batch  20%, d1=0.695, d2=0.689 g=0.700\n",
            "Epoch>95, Batch  30%, d1=0.696, d2=0.689 g=0.700\n",
            "Epoch>95, Batch  40%, d1=0.696, d2=0.688 g=0.701\n",
            "Epoch>95, Batch  50%, d1=0.700, d2=0.691 g=0.701\n",
            "Epoch>95, Batch  60%, d1=0.694, d2=0.697 g=0.696\n",
            "Epoch>95, Batch  70%, d1=0.695, d2=0.696 g=0.693\n",
            "Epoch>95, Batch  80%, d1=0.692, d2=0.695 g=0.694\n",
            "Epoch>95, Batch  90%, d1=0.697, d2=0.697 g=0.697\n",
            "Epoch>95, Batch 100%, d1=0.692, d2=0.695 g=0.698\n",
            "WARNING:tensorflow:Compiled the loaded model, but the compiled metrics have yet to be built. `model.compile_metrics` will be empty until you train or evaluate the model.\n",
            "Epoch>96, Batch  10%, d1=0.697, d2=0.698 g=0.698\n",
            "Epoch>96, Batch  20%, d1=0.695, d2=0.696 g=0.695\n",
            "Epoch>96, Batch  30%, d1=0.692, d2=0.692 g=0.698\n",
            "Epoch>96, Batch  40%, d1=0.695, d2=0.691 g=0.700\n",
            "Epoch>96, Batch  50%, d1=0.690, d2=0.701 g=0.698\n",
            "Epoch>96, Batch  60%, d1=0.697, d2=0.703 g=0.695\n",
            "Epoch>96, Batch  70%, d1=0.692, d2=0.689 g=0.705\n",
            "Epoch>96, Batch  80%, d1=0.697, d2=0.691 g=0.703\n",
            "Epoch>96, Batch  90%, d1=0.697, d2=0.706 g=0.692\n",
            "Epoch>96, Batch 100%, d1=0.695, d2=0.689 g=0.700\n",
            "WARNING:tensorflow:Compiled the loaded model, but the compiled metrics have yet to be built. `model.compile_metrics` will be empty until you train or evaluate the model.\n",
            "Epoch>97, Batch  10%, d1=0.700, d2=0.698 g=0.696\n",
            "Epoch>97, Batch  20%, d1=0.694, d2=0.688 g=0.700\n",
            "Epoch>97, Batch  30%, d1=0.688, d2=0.707 g=0.688\n",
            "Epoch>97, Batch  40%, d1=0.693, d2=0.680 g=0.706\n",
            "Epoch>97, Batch  50%, d1=0.695, d2=0.694 g=0.695\n",
            "Epoch>97, Batch  60%, d1=0.696, d2=0.695 g=0.697\n",
            "Epoch>97, Batch  70%, d1=0.691, d2=0.691 g=0.702\n",
            "Epoch>97, Batch  80%, d1=0.695, d2=0.696 g=0.700\n",
            "Epoch>97, Batch  90%, d1=0.698, d2=0.682 g=0.707\n",
            "Epoch>97, Batch 100%, d1=0.702, d2=0.677 g=0.725\n",
            "WARNING:tensorflow:Compiled the loaded model, but the compiled metrics have yet to be built. `model.compile_metrics` will be empty until you train or evaluate the model.\n",
            "Epoch>98, Batch  10%, d1=0.691, d2=0.691 g=0.706\n",
            "Epoch>98, Batch  20%, d1=0.696, d2=0.697 g=0.697\n",
            "Epoch>98, Batch  30%, d1=0.696, d2=0.694 g=0.697\n",
            "Epoch>98, Batch  40%, d1=0.701, d2=0.689 g=0.700\n",
            "Epoch>98, Batch  50%, d1=0.695, d2=0.696 g=0.694\n",
            "Epoch>98, Batch  60%, d1=0.691, d2=0.692 g=0.695\n",
            "Epoch>98, Batch  70%, d1=0.695, d2=0.695 g=0.697\n",
            "Epoch>98, Batch  80%, d1=0.697, d2=0.690 g=0.700\n",
            "Epoch>98, Batch  90%, d1=0.695, d2=0.698 g=0.697\n",
            "Epoch>98, Batch 100%, d1=0.697, d2=0.691 g=0.701\n",
            "WARNING:tensorflow:Compiled the loaded model, but the compiled metrics have yet to be built. `model.compile_metrics` will be empty until you train or evaluate the model.\n",
            "Epoch>99, Batch  10%, d1=0.694, d2=0.694 g=0.696\n",
            "Epoch>99, Batch  20%, d1=0.693, d2=0.694 g=0.697\n",
            "Epoch>99, Batch  30%, d1=0.696, d2=0.696 g=0.696\n",
            "Epoch>99, Batch  40%, d1=0.703, d2=0.694 g=0.693\n",
            "Epoch>99, Batch  50%, d1=0.686, d2=0.713 g=0.685\n",
            "Epoch>99, Batch  60%, d1=0.695, d2=0.697 g=0.699\n",
            "Epoch>99, Batch  70%, d1=0.695, d2=0.692 g=0.696\n",
            "Epoch>99, Batch  80%, d1=0.695, d2=0.689 g=0.704\n",
            "Epoch>99, Batch  90%, d1=0.695, d2=0.688 g=0.703\n",
            "Epoch>99, Batch 100%, d1=0.698, d2=0.689 g=0.704\n",
            "WARNING:tensorflow:Compiled the loaded model, but the compiled metrics have yet to be built. `model.compile_metrics` will be empty until you train or evaluate the model.\n",
            "Epoch>100, Batch  10%, d1=0.696, d2=0.693 g=0.696\n",
            "Epoch>100, Batch  20%, d1=0.693, d2=0.700 g=0.696\n",
            "Epoch>100, Batch  30%, d1=0.694, d2=0.700 g=0.692\n",
            "Epoch>100, Batch  40%, d1=0.692, d2=0.697 g=0.697\n",
            "Epoch>100, Batch  50%, d1=0.697, d2=0.690 g=0.699\n",
            "Epoch>100, Batch  60%, d1=0.690, d2=0.696 g=0.694\n",
            "Epoch>100, Batch  70%, d1=0.694, d2=0.694 g=0.699\n",
            "Epoch>100, Batch  80%, d1=0.695, d2=0.693 g=0.701\n",
            "Epoch>100, Batch  90%, d1=0.695, d2=0.697 g=0.698\n",
            "Epoch>100, Batch 100%, d1=0.694, d2=0.705 g=0.694\n",
            ">Accuracy real: 53.3%, fake: 38.0%\n"
          ]
        },
        {
          "output_type": "display_data",
          "data": {
            "application/javascript": [
              "\n",
              "    async function download(id, filename, size) {\n",
              "      if (!google.colab.kernel.accessAllowed) {\n",
              "        return;\n",
              "      }\n",
              "      const div = document.createElement('div');\n",
              "      const label = document.createElement('label');\n",
              "      label.textContent = `Downloading \"${filename}\": `;\n",
              "      div.appendChild(label);\n",
              "      const progress = document.createElement('progress');\n",
              "      progress.max = size;\n",
              "      div.appendChild(progress);\n",
              "      document.body.appendChild(div);\n",
              "\n",
              "      const buffers = [];\n",
              "      let downloaded = 0;\n",
              "\n",
              "      const channel = await google.colab.kernel.comms.open(id);\n",
              "      // Send a message to notify the kernel that we're ready.\n",
              "      channel.send({})\n",
              "\n",
              "      for await (const message of channel.messages) {\n",
              "        // Send a message to notify the kernel that we're ready.\n",
              "        channel.send({})\n",
              "        if (message.buffers) {\n",
              "          for (const buffer of message.buffers) {\n",
              "            buffers.push(buffer);\n",
              "            downloaded += buffer.byteLength;\n",
              "            progress.value = downloaded;\n",
              "          }\n",
              "        }\n",
              "      }\n",
              "      const blob = new Blob(buffers, {type: 'application/binary'});\n",
              "      const a = document.createElement('a');\n",
              "      a.href = window.URL.createObjectURL(blob);\n",
              "      a.download = filename;\n",
              "      div.appendChild(a);\n",
              "      a.click();\n",
              "      div.remove();\n",
              "    }\n",
              "  "
            ],
            "text/plain": [
              "<IPython.core.display.Javascript object>"
            ]
          },
          "metadata": {}
        },
        {
          "output_type": "display_data",
          "data": {
            "application/javascript": [
              "download(\"download_5e8f32cb-6b9d-4825-88ad-a6d6e05c45e0\", \"generated_plot_e100.png\", 231234)"
            ],
            "text/plain": [
              "<IPython.core.display.Javascript object>"
            ]
          },
          "metadata": {}
        },
        {
          "output_type": "stream",
          "name": "stdout",
          "text": [
            "WARNING:tensorflow:Compiled the loaded model, but the compiled metrics have yet to be built. `model.compile_metrics` will be empty until you train or evaluate the model.\n"
          ]
        },
        {
          "output_type": "display_data",
          "data": {
            "application/javascript": [
              "\n",
              "    async function download(id, filename, size) {\n",
              "      if (!google.colab.kernel.accessAllowed) {\n",
              "        return;\n",
              "      }\n",
              "      const div = document.createElement('div');\n",
              "      const label = document.createElement('label');\n",
              "      label.textContent = `Downloading \"${filename}\": `;\n",
              "      div.appendChild(label);\n",
              "      const progress = document.createElement('progress');\n",
              "      progress.max = size;\n",
              "      div.appendChild(progress);\n",
              "      document.body.appendChild(div);\n",
              "\n",
              "      const buffers = [];\n",
              "      let downloaded = 0;\n",
              "\n",
              "      const channel = await google.colab.kernel.comms.open(id);\n",
              "      // Send a message to notify the kernel that we're ready.\n",
              "      channel.send({})\n",
              "\n",
              "      for await (const message of channel.messages) {\n",
              "        // Send a message to notify the kernel that we're ready.\n",
              "        channel.send({})\n",
              "        if (message.buffers) {\n",
              "          for (const buffer of message.buffers) {\n",
              "            buffers.push(buffer);\n",
              "            downloaded += buffer.byteLength;\n",
              "            progress.value = downloaded;\n",
              "          }\n",
              "        }\n",
              "      }\n",
              "      const blob = new Blob(buffers, {type: 'application/binary'});\n",
              "      const a = document.createElement('a');\n",
              "      a.href = window.URL.createObjectURL(blob);\n",
              "      a.download = filename;\n",
              "      div.appendChild(a);\n",
              "      a.click();\n",
              "      div.remove();\n",
              "    }\n",
              "  "
            ],
            "text/plain": [
              "<IPython.core.display.Javascript object>"
            ]
          },
          "metadata": {}
        },
        {
          "output_type": "display_data",
          "data": {
            "application/javascript": [
              "download(\"download_e66cedeb-5c23-4a7a-8872-635b15ade7ed\", \"generator_model_100.h5\", 5529776)"
            ],
            "text/plain": [
              "<IPython.core.display.Javascript object>"
            ]
          },
          "metadata": {}
        },
        {
          "output_type": "display_data",
          "data": {
            "application/javascript": [
              "\n",
              "    async function download(id, filename, size) {\n",
              "      if (!google.colab.kernel.accessAllowed) {\n",
              "        return;\n",
              "      }\n",
              "      const div = document.createElement('div');\n",
              "      const label = document.createElement('label');\n",
              "      label.textContent = `Downloading \"${filename}\": `;\n",
              "      div.appendChild(label);\n",
              "      const progress = document.createElement('progress');\n",
              "      progress.max = size;\n",
              "      div.appendChild(progress);\n",
              "      document.body.appendChild(div);\n",
              "\n",
              "      const buffers = [];\n",
              "      let downloaded = 0;\n",
              "\n",
              "      const channel = await google.colab.kernel.comms.open(id);\n",
              "      // Send a message to notify the kernel that we're ready.\n",
              "      channel.send({})\n",
              "\n",
              "      for await (const message of channel.messages) {\n",
              "        // Send a message to notify the kernel that we're ready.\n",
              "        channel.send({})\n",
              "        if (message.buffers) {\n",
              "          for (const buffer of message.buffers) {\n",
              "            buffers.push(buffer);\n",
              "            downloaded += buffer.byteLength;\n",
              "            progress.value = downloaded;\n",
              "          }\n",
              "        }\n",
              "      }\n",
              "      const blob = new Blob(buffers, {type: 'application/binary'});\n",
              "      const a = document.createElement('a');\n",
              "      a.href = window.URL.createObjectURL(blob);\n",
              "      a.download = filename;\n",
              "      div.appendChild(a);\n",
              "      a.click();\n",
              "      div.remove();\n",
              "    }\n",
              "  "
            ],
            "text/plain": [
              "<IPython.core.display.Javascript object>"
            ]
          },
          "metadata": {}
        },
        {
          "output_type": "display_data",
          "data": {
            "application/javascript": [
              "download(\"download_22ba4857-1609-4301-8c01-7b7c9a5c275a\", \"descriminator_model_100.h5\", 1949824)"
            ],
            "text/plain": [
              "<IPython.core.display.Javascript object>"
            ]
          },
          "metadata": {}
        },
        {
          "output_type": "stream",
          "name": "stdout",
          "text": [
            "WARNING:tensorflow:Compiled the loaded model, but the compiled metrics have yet to be built. `model.compile_metrics` will be empty until you train or evaluate the model.\n",
            "Epoch>101, Batch  10%, d1=0.699, d2=0.691 g=0.703\n",
            "Epoch>101, Batch  20%, d1=0.697, d2=0.690 g=0.702\n",
            "Epoch>101, Batch  30%, d1=0.696, d2=0.700 g=0.698\n",
            "Epoch>101, Batch  40%, d1=0.697, d2=0.698 g=0.693\n",
            "Epoch>101, Batch  50%, d1=0.694, d2=0.691 g=0.701\n",
            "Epoch>101, Batch  60%, d1=0.695, d2=0.694 g=0.695\n",
            "Epoch>101, Batch  70%, d1=0.700, d2=0.688 g=0.701\n",
            "Epoch>101, Batch  80%, d1=0.692, d2=0.703 g=0.692\n",
            "Epoch>101, Batch  90%, d1=0.694, d2=0.693 g=0.701\n",
            "Epoch>101, Batch 100%, d1=0.696, d2=0.692 g=0.700\n",
            "WARNING:tensorflow:Compiled the loaded model, but the compiled metrics have yet to be built. `model.compile_metrics` will be empty until you train or evaluate the model.\n",
            "Epoch>102, Batch  10%, d1=0.695, d2=0.697 g=0.696\n",
            "Epoch>102, Batch  20%, d1=0.697, d2=0.693 g=0.695\n",
            "Epoch>102, Batch  30%, d1=0.695, d2=0.693 g=0.699\n",
            "Epoch>102, Batch  40%, d1=0.691, d2=0.698 g=0.697\n",
            "Epoch>102, Batch  50%, d1=0.694, d2=0.693 g=0.697\n",
            "Epoch>102, Batch  60%, d1=0.692, d2=0.691 g=0.701\n",
            "Epoch>102, Batch  70%, d1=0.696, d2=0.695 g=0.696\n",
            "Epoch>102, Batch  80%, d1=0.694, d2=0.687 g=0.700\n",
            "Epoch>102, Batch  90%, d1=0.694, d2=0.687 g=0.704\n",
            "Epoch>102, Batch 100%, d1=0.697, d2=0.699 g=0.695\n",
            "WARNING:tensorflow:Compiled the loaded model, but the compiled metrics have yet to be built. `model.compile_metrics` will be empty until you train or evaluate the model.\n",
            "Epoch>103, Batch  10%, d1=0.695, d2=0.690 g=0.703\n",
            "Epoch>103, Batch  20%, d1=0.691, d2=0.695 g=0.694\n",
            "Epoch>103, Batch  30%, d1=0.695, d2=0.693 g=0.695\n",
            "Epoch>103, Batch  40%, d1=0.698, d2=0.693 g=0.699\n",
            "Epoch>103, Batch  50%, d1=0.697, d2=0.695 g=0.701\n",
            "Epoch>103, Batch  60%, d1=0.697, d2=0.690 g=0.701\n",
            "Epoch>103, Batch  70%, d1=0.692, d2=0.699 g=0.694\n",
            "Epoch>103, Batch  80%, d1=0.693, d2=0.690 g=0.700\n",
            "Epoch>103, Batch  90%, d1=0.693, d2=0.697 g=0.698\n",
            "Epoch>103, Batch 100%, d1=0.700, d2=0.691 g=0.702\n",
            "WARNING:tensorflow:Compiled the loaded model, but the compiled metrics have yet to be built. `model.compile_metrics` will be empty until you train or evaluate the model.\n",
            "Epoch>104, Batch  10%, d1=0.695, d2=0.696 g=0.696\n",
            "Epoch>104, Batch  20%, d1=0.695, d2=0.688 g=0.698\n",
            "Epoch>104, Batch  30%, d1=0.695, d2=0.700 g=0.690\n",
            "Epoch>104, Batch  40%, d1=0.694, d2=0.685 g=0.709\n",
            "Epoch>104, Batch  50%, d1=0.697, d2=0.696 g=0.695\n",
            "Epoch>104, Batch  60%, d1=0.697, d2=0.694 g=0.700\n",
            "Epoch>104, Batch  70%, d1=0.698, d2=0.693 g=0.697\n",
            "Epoch>104, Batch  80%, d1=0.694, d2=0.689 g=0.701\n",
            "Epoch>104, Batch  90%, d1=0.692, d2=0.689 g=0.708\n",
            "Epoch>104, Batch 100%, d1=0.692, d2=0.695 g=0.696\n",
            "WARNING:tensorflow:Compiled the loaded model, but the compiled metrics have yet to be built. `model.compile_metrics` will be empty until you train or evaluate the model.\n",
            "Epoch>105, Batch  10%, d1=0.692, d2=0.694 g=0.695\n",
            "Epoch>105, Batch  20%, d1=0.696, d2=0.690 g=0.698\n",
            "Epoch>105, Batch  30%, d1=0.692, d2=0.696 g=0.694\n",
            "Epoch>105, Batch  40%, d1=0.694, d2=0.697 g=0.695\n",
            "Epoch>105, Batch  50%, d1=0.698, d2=0.692 g=0.703\n",
            "Epoch>105, Batch  60%, d1=0.693, d2=0.693 g=0.696\n",
            "Epoch>105, Batch  70%, d1=0.692, d2=0.701 g=0.696\n",
            "Epoch>105, Batch  80%, d1=0.696, d2=0.693 g=0.701\n",
            "Epoch>105, Batch  90%, d1=0.691, d2=0.698 g=0.696\n",
            "Epoch>105, Batch 100%, d1=0.685, d2=0.699 g=0.694\n",
            "WARNING:tensorflow:Compiled the loaded model, but the compiled metrics have yet to be built. `model.compile_metrics` will be empty until you train or evaluate the model.\n",
            "Epoch>106, Batch  10%, d1=0.695, d2=0.691 g=0.698\n",
            "Epoch>106, Batch  20%, d1=0.697, d2=0.699 g=0.696\n",
            "Epoch>106, Batch  30%, d1=0.699, d2=0.693 g=0.701\n",
            "Epoch>106, Batch  40%, d1=0.693, d2=0.694 g=0.699\n",
            "Epoch>106, Batch  50%, d1=0.696, d2=0.693 g=0.698\n",
            "Epoch>106, Batch  60%, d1=0.694, d2=0.697 g=0.694\n",
            "Epoch>106, Batch  70%, d1=0.697, d2=0.689 g=0.699\n",
            "Epoch>106, Batch  80%, d1=0.696, d2=0.694 g=0.698\n",
            "Epoch>106, Batch  90%, d1=0.696, d2=0.693 g=0.695\n",
            "Epoch>106, Batch 100%, d1=0.697, d2=0.687 g=0.703\n",
            "WARNING:tensorflow:Compiled the loaded model, but the compiled metrics have yet to be built. `model.compile_metrics` will be empty until you train or evaluate the model.\n",
            "Epoch>107, Batch  10%, d1=0.696, d2=0.689 g=0.702\n",
            "Epoch>107, Batch  20%, d1=0.690, d2=0.713 g=0.690\n",
            "Epoch>107, Batch  30%, d1=0.694, d2=0.704 g=0.688\n",
            "Epoch>107, Batch  40%, d1=0.694, d2=0.695 g=0.696\n",
            "Epoch>107, Batch  50%, d1=0.695, d2=0.696 g=0.696\n",
            "Epoch>107, Batch  60%, d1=0.699, d2=0.691 g=0.701\n",
            "Epoch>107, Batch  70%, d1=0.695, d2=0.695 g=0.699\n",
            "Epoch>107, Batch  80%, d1=0.692, d2=0.698 g=0.693\n",
            "Epoch>107, Batch  90%, d1=0.690, d2=0.694 g=0.696\n",
            "Epoch>107, Batch 100%, d1=0.698, d2=0.690 g=0.698\n",
            "WARNING:tensorflow:Compiled the loaded model, but the compiled metrics have yet to be built. `model.compile_metrics` will be empty until you train or evaluate the model.\n",
            "Epoch>108, Batch  10%, d1=0.696, d2=0.697 g=0.697\n",
            "Epoch>108, Batch  20%, d1=0.692, d2=0.689 g=0.701\n",
            "Epoch>108, Batch  30%, d1=0.691, d2=0.692 g=0.698\n",
            "Epoch>108, Batch  40%, d1=0.685, d2=0.710 g=0.695\n",
            "Epoch>108, Batch  50%, d1=0.693, d2=0.693 g=0.698\n",
            "Epoch>108, Batch  60%, d1=0.697, d2=0.691 g=0.701\n",
            "Epoch>108, Batch  70%, d1=0.694, d2=0.691 g=0.701\n",
            "Epoch>108, Batch  80%, d1=0.696, d2=0.691 g=0.704\n",
            "Epoch>108, Batch  90%, d1=0.694, d2=0.695 g=0.695\n",
            "Epoch>108, Batch 100%, d1=0.696, d2=0.694 g=0.701\n",
            "WARNING:tensorflow:Compiled the loaded model, but the compiled metrics have yet to be built. `model.compile_metrics` will be empty until you train or evaluate the model.\n",
            "Epoch>109, Batch  10%, d1=0.695, d2=0.696 g=0.697\n",
            "Epoch>109, Batch  20%, d1=0.696, d2=0.698 g=0.694\n",
            "Epoch>109, Batch  30%, d1=0.694, d2=0.694 g=0.702\n",
            "Epoch>109, Batch  40%, d1=0.694, d2=0.697 g=0.693\n",
            "Epoch>109, Batch  50%, d1=0.696, d2=0.690 g=0.701\n",
            "Epoch>109, Batch  60%, d1=0.694, d2=0.697 g=0.694\n",
            "Epoch>109, Batch  70%, d1=0.696, d2=0.697 g=0.695\n",
            "Epoch>109, Batch  80%, d1=0.692, d2=0.696 g=0.692\n",
            "Epoch>109, Batch  90%, d1=0.694, d2=0.693 g=0.699\n",
            "Epoch>109, Batch 100%, d1=0.700, d2=0.697 g=0.697\n",
            "WARNING:tensorflow:Compiled the loaded model, but the compiled metrics have yet to be built. `model.compile_metrics` will be empty until you train or evaluate the model.\n",
            "Epoch>110, Batch  10%, d1=0.693, d2=0.692 g=0.697\n",
            "Epoch>110, Batch  20%, d1=0.693, d2=0.691 g=0.700\n",
            "Epoch>110, Batch  30%, d1=0.692, d2=0.689 g=0.704\n",
            "Epoch>110, Batch  40%, d1=0.692, d2=0.696 g=0.701\n",
            "Epoch>110, Batch  50%, d1=0.694, d2=0.694 g=0.699\n",
            "Epoch>110, Batch  60%, d1=0.693, d2=0.701 g=0.702\n",
            "Epoch>110, Batch  70%, d1=0.690, d2=0.696 g=0.698\n",
            "Epoch>110, Batch  80%, d1=0.696, d2=0.698 g=0.695\n",
            "Epoch>110, Batch  90%, d1=0.693, d2=0.693 g=0.696\n",
            "Epoch>110, Batch 100%, d1=0.693, d2=0.695 g=0.691\n",
            ">Accuracy real: 33.3%, fake: 49.3%\n"
          ]
        },
        {
          "output_type": "display_data",
          "data": {
            "application/javascript": [
              "\n",
              "    async function download(id, filename, size) {\n",
              "      if (!google.colab.kernel.accessAllowed) {\n",
              "        return;\n",
              "      }\n",
              "      const div = document.createElement('div');\n",
              "      const label = document.createElement('label');\n",
              "      label.textContent = `Downloading \"${filename}\": `;\n",
              "      div.appendChild(label);\n",
              "      const progress = document.createElement('progress');\n",
              "      progress.max = size;\n",
              "      div.appendChild(progress);\n",
              "      document.body.appendChild(div);\n",
              "\n",
              "      const buffers = [];\n",
              "      let downloaded = 0;\n",
              "\n",
              "      const channel = await google.colab.kernel.comms.open(id);\n",
              "      // Send a message to notify the kernel that we're ready.\n",
              "      channel.send({})\n",
              "\n",
              "      for await (const message of channel.messages) {\n",
              "        // Send a message to notify the kernel that we're ready.\n",
              "        channel.send({})\n",
              "        if (message.buffers) {\n",
              "          for (const buffer of message.buffers) {\n",
              "            buffers.push(buffer);\n",
              "            downloaded += buffer.byteLength;\n",
              "            progress.value = downloaded;\n",
              "          }\n",
              "        }\n",
              "      }\n",
              "      const blob = new Blob(buffers, {type: 'application/binary'});\n",
              "      const a = document.createElement('a');\n",
              "      a.href = window.URL.createObjectURL(blob);\n",
              "      a.download = filename;\n",
              "      div.appendChild(a);\n",
              "      a.click();\n",
              "      div.remove();\n",
              "    }\n",
              "  "
            ],
            "text/plain": [
              "<IPython.core.display.Javascript object>"
            ]
          },
          "metadata": {}
        },
        {
          "output_type": "display_data",
          "data": {
            "application/javascript": [
              "download(\"download_4d24d9e3-ff2f-415e-b48b-68ee701936c1\", \"generated_plot_e110.png\", 220326)"
            ],
            "text/plain": [
              "<IPython.core.display.Javascript object>"
            ]
          },
          "metadata": {}
        },
        {
          "output_type": "stream",
          "name": "stdout",
          "text": [
            "WARNING:tensorflow:Compiled the loaded model, but the compiled metrics have yet to be built. `model.compile_metrics` will be empty until you train or evaluate the model.\n"
          ]
        },
        {
          "output_type": "display_data",
          "data": {
            "application/javascript": [
              "\n",
              "    async function download(id, filename, size) {\n",
              "      if (!google.colab.kernel.accessAllowed) {\n",
              "        return;\n",
              "      }\n",
              "      const div = document.createElement('div');\n",
              "      const label = document.createElement('label');\n",
              "      label.textContent = `Downloading \"${filename}\": `;\n",
              "      div.appendChild(label);\n",
              "      const progress = document.createElement('progress');\n",
              "      progress.max = size;\n",
              "      div.appendChild(progress);\n",
              "      document.body.appendChild(div);\n",
              "\n",
              "      const buffers = [];\n",
              "      let downloaded = 0;\n",
              "\n",
              "      const channel = await google.colab.kernel.comms.open(id);\n",
              "      // Send a message to notify the kernel that we're ready.\n",
              "      channel.send({})\n",
              "\n",
              "      for await (const message of channel.messages) {\n",
              "        // Send a message to notify the kernel that we're ready.\n",
              "        channel.send({})\n",
              "        if (message.buffers) {\n",
              "          for (const buffer of message.buffers) {\n",
              "            buffers.push(buffer);\n",
              "            downloaded += buffer.byteLength;\n",
              "            progress.value = downloaded;\n",
              "          }\n",
              "        }\n",
              "      }\n",
              "      const blob = new Blob(buffers, {type: 'application/binary'});\n",
              "      const a = document.createElement('a');\n",
              "      a.href = window.URL.createObjectURL(blob);\n",
              "      a.download = filename;\n",
              "      div.appendChild(a);\n",
              "      a.click();\n",
              "      div.remove();\n",
              "    }\n",
              "  "
            ],
            "text/plain": [
              "<IPython.core.display.Javascript object>"
            ]
          },
          "metadata": {}
        },
        {
          "output_type": "display_data",
          "data": {
            "application/javascript": [
              "download(\"download_912c18e8-2759-4489-8460-4ba8760fbe1f\", \"generator_model_110.h5\", 5529776)"
            ],
            "text/plain": [
              "<IPython.core.display.Javascript object>"
            ]
          },
          "metadata": {}
        },
        {
          "output_type": "display_data",
          "data": {
            "application/javascript": [
              "\n",
              "    async function download(id, filename, size) {\n",
              "      if (!google.colab.kernel.accessAllowed) {\n",
              "        return;\n",
              "      }\n",
              "      const div = document.createElement('div');\n",
              "      const label = document.createElement('label');\n",
              "      label.textContent = `Downloading \"${filename}\": `;\n",
              "      div.appendChild(label);\n",
              "      const progress = document.createElement('progress');\n",
              "      progress.max = size;\n",
              "      div.appendChild(progress);\n",
              "      document.body.appendChild(div);\n",
              "\n",
              "      const buffers = [];\n",
              "      let downloaded = 0;\n",
              "\n",
              "      const channel = await google.colab.kernel.comms.open(id);\n",
              "      // Send a message to notify the kernel that we're ready.\n",
              "      channel.send({})\n",
              "\n",
              "      for await (const message of channel.messages) {\n",
              "        // Send a message to notify the kernel that we're ready.\n",
              "        channel.send({})\n",
              "        if (message.buffers) {\n",
              "          for (const buffer of message.buffers) {\n",
              "            buffers.push(buffer);\n",
              "            downloaded += buffer.byteLength;\n",
              "            progress.value = downloaded;\n",
              "          }\n",
              "        }\n",
              "      }\n",
              "      const blob = new Blob(buffers, {type: 'application/binary'});\n",
              "      const a = document.createElement('a');\n",
              "      a.href = window.URL.createObjectURL(blob);\n",
              "      a.download = filename;\n",
              "      div.appendChild(a);\n",
              "      a.click();\n",
              "      div.remove();\n",
              "    }\n",
              "  "
            ],
            "text/plain": [
              "<IPython.core.display.Javascript object>"
            ]
          },
          "metadata": {}
        },
        {
          "output_type": "display_data",
          "data": {
            "application/javascript": [
              "download(\"download_e1a54e7b-8bc4-4763-8947-7599b86c757a\", \"descriminator_model_110.h5\", 1949824)"
            ],
            "text/plain": [
              "<IPython.core.display.Javascript object>"
            ]
          },
          "metadata": {}
        },
        {
          "output_type": "stream",
          "name": "stdout",
          "text": [
            "WARNING:tensorflow:Compiled the loaded model, but the compiled metrics have yet to be built. `model.compile_metrics` will be empty until you train or evaluate the model.\n",
            "Epoch>111, Batch  10%, d1=0.694, d2=0.696 g=0.698\n",
            "Epoch>111, Batch  20%, d1=0.696, d2=0.698 g=0.699\n",
            "Epoch>111, Batch  30%, d1=0.694, d2=0.693 g=0.699\n",
            "Epoch>111, Batch  40%, d1=0.694, d2=0.690 g=0.698\n",
            "Epoch>111, Batch  50%, d1=0.696, d2=0.698 g=0.696\n",
            "Epoch>111, Batch  60%, d1=0.695, d2=0.694 g=0.698\n",
            "Epoch>111, Batch  70%, d1=0.694, d2=0.692 g=0.701\n",
            "Epoch>111, Batch  80%, d1=0.695, d2=0.695 g=0.698\n",
            "Epoch>111, Batch  90%, d1=0.694, d2=0.694 g=0.698\n",
            "Epoch>111, Batch 100%, d1=0.691, d2=0.696 g=0.693\n",
            "WARNING:tensorflow:Compiled the loaded model, but the compiled metrics have yet to be built. `model.compile_metrics` will be empty until you train or evaluate the model.\n",
            "Epoch>112, Batch  10%, d1=0.696, d2=0.694 g=0.697\n",
            "Epoch>112, Batch  20%, d1=0.691, d2=0.695 g=0.693\n",
            "Epoch>112, Batch  30%, d1=0.692, d2=0.694 g=0.697\n",
            "Epoch>112, Batch  40%, d1=0.691, d2=0.695 g=0.697\n",
            "Epoch>112, Batch  50%, d1=0.693, d2=0.691 g=0.698\n",
            "Epoch>112, Batch  60%, d1=0.698, d2=0.691 g=0.702\n",
            "Epoch>112, Batch  70%, d1=0.692, d2=0.693 g=0.697\n",
            "Epoch>112, Batch  80%, d1=0.693, d2=0.692 g=0.699\n",
            "Epoch>112, Batch  90%, d1=0.693, d2=0.690 g=0.702\n",
            "Epoch>112, Batch 100%, d1=0.697, d2=0.690 g=0.706\n",
            "WARNING:tensorflow:Compiled the loaded model, but the compiled metrics have yet to be built. `model.compile_metrics` will be empty until you train or evaluate the model.\n",
            "Epoch>113, Batch  10%, d1=0.695, d2=0.698 g=0.695\n",
            "Epoch>113, Batch  20%, d1=0.699, d2=0.687 g=0.702\n",
            "Epoch>113, Batch  30%, d1=0.690, d2=0.697 g=0.695\n",
            "Epoch>113, Batch  40%, d1=0.694, d2=0.691 g=0.704\n",
            "Epoch>113, Batch  50%, d1=0.686, d2=0.700 g=0.695\n",
            "Epoch>113, Batch  60%, d1=0.690, d2=0.696 g=0.697\n",
            "Epoch>113, Batch  70%, d1=0.689, d2=0.698 g=0.692\n",
            "Epoch>113, Batch  80%, d1=0.697, d2=0.691 g=0.696\n",
            "Epoch>113, Batch  90%, d1=0.696, d2=0.694 g=0.695\n",
            "Epoch>113, Batch 100%, d1=0.697, d2=0.700 g=0.696\n",
            "WARNING:tensorflow:Compiled the loaded model, but the compiled metrics have yet to be built. `model.compile_metrics` will be empty until you train or evaluate the model.\n",
            "Epoch>114, Batch  10%, d1=0.694, d2=0.686 g=0.705\n",
            "Epoch>114, Batch  20%, d1=0.694, d2=0.690 g=0.702\n",
            "Epoch>114, Batch  30%, d1=0.692, d2=0.699 g=0.693\n",
            "Epoch>114, Batch  40%, d1=0.699, d2=0.692 g=0.701\n",
            "Epoch>114, Batch  50%, d1=0.696, d2=0.695 g=0.695\n",
            "Epoch>114, Batch  60%, d1=0.692, d2=0.699 g=0.694\n",
            "Epoch>114, Batch  70%, d1=0.695, d2=0.699 g=0.697\n",
            "Epoch>114, Batch  80%, d1=0.699, d2=0.695 g=0.700\n",
            "Epoch>114, Batch  90%, d1=0.694, d2=0.698 g=0.694\n",
            "Epoch>114, Batch 100%, d1=0.695, d2=0.695 g=0.698\n",
            "WARNING:tensorflow:Compiled the loaded model, but the compiled metrics have yet to be built. `model.compile_metrics` will be empty until you train or evaluate the model.\n",
            "Epoch>115, Batch  10%, d1=0.696, d2=0.696 g=0.697\n",
            "Epoch>115, Batch  20%, d1=0.692, d2=0.689 g=0.702\n",
            "Epoch>115, Batch  30%, d1=0.692, d2=0.694 g=0.695\n",
            "Epoch>115, Batch  40%, d1=0.693, d2=0.691 g=0.698\n",
            "Epoch>115, Batch  50%, d1=0.694, d2=0.694 g=0.696\n",
            "Epoch>115, Batch  60%, d1=0.694, d2=0.697 g=0.694\n",
            "Epoch>115, Batch  70%, d1=0.699, d2=0.692 g=0.698\n",
            "Epoch>115, Batch  80%, d1=0.694, d2=0.693 g=0.700\n",
            "Epoch>115, Batch  90%, d1=0.694, d2=0.696 g=0.698\n",
            "Epoch>115, Batch 100%, d1=0.697, d2=0.694 g=0.695\n",
            "WARNING:tensorflow:Compiled the loaded model, but the compiled metrics have yet to be built. `model.compile_metrics` will be empty until you train or evaluate the model.\n",
            "Epoch>116, Batch  10%, d1=0.696, d2=0.693 g=0.696\n",
            "Epoch>116, Batch  20%, d1=0.698, d2=0.694 g=0.695\n",
            "Epoch>116, Batch  30%, d1=0.691, d2=0.687 g=0.701\n",
            "Epoch>116, Batch  40%, d1=0.692, d2=0.699 g=0.695\n",
            "Epoch>116, Batch  50%, d1=0.692, d2=0.692 g=0.697\n",
            "Epoch>116, Batch  60%, d1=0.694, d2=0.694 g=0.695\n",
            "Epoch>116, Batch  70%, d1=0.694, d2=0.695 g=0.697\n",
            "Epoch>116, Batch  80%, d1=0.695, d2=0.695 g=0.698\n",
            "Epoch>116, Batch  90%, d1=0.692, d2=0.697 g=0.696\n",
            "Epoch>116, Batch 100%, d1=0.695, d2=0.692 g=0.698\n",
            "WARNING:tensorflow:Compiled the loaded model, but the compiled metrics have yet to be built. `model.compile_metrics` will be empty until you train or evaluate the model.\n",
            "Epoch>117, Batch  10%, d1=0.692, d2=0.695 g=0.696\n",
            "Epoch>117, Batch  20%, d1=0.694, d2=0.698 g=0.693\n",
            "Epoch>117, Batch  30%, d1=0.696, d2=0.695 g=0.700\n",
            "Epoch>117, Batch  40%, d1=0.694, d2=0.695 g=0.701\n",
            "Epoch>117, Batch  50%, d1=0.694, d2=0.685 g=0.705\n",
            "Epoch>117, Batch  60%, d1=0.695, d2=0.699 g=0.696\n",
            "Epoch>117, Batch  70%, d1=0.693, d2=0.692 g=0.699\n",
            "Epoch>117, Batch  80%, d1=0.695, d2=0.694 g=0.698\n",
            "Epoch>117, Batch  90%, d1=0.695, d2=0.694 g=0.697\n",
            "Epoch>117, Batch 100%, d1=0.696, d2=0.695 g=0.695\n",
            "WARNING:tensorflow:Compiled the loaded model, but the compiled metrics have yet to be built. `model.compile_metrics` will be empty until you train or evaluate the model.\n",
            "Epoch>118, Batch  10%, d1=0.694, d2=0.698 g=0.692\n",
            "Epoch>118, Batch  20%, d1=0.691, d2=0.695 g=0.693\n",
            "Epoch>118, Batch  30%, d1=0.696, d2=0.691 g=0.699\n",
            "Epoch>118, Batch  40%, d1=0.691, d2=0.697 g=0.693\n",
            "Epoch>118, Batch  50%, d1=0.691, d2=0.701 g=0.692\n",
            "Epoch>118, Batch  60%, d1=0.697, d2=0.692 g=0.693\n",
            "Epoch>118, Batch  70%, d1=0.694, d2=0.691 g=0.700\n",
            "Epoch>118, Batch  80%, d1=0.695, d2=0.686 g=0.707\n",
            "Epoch>118, Batch  90%, d1=0.696, d2=0.691 g=0.703\n",
            "Epoch>118, Batch 100%, d1=0.693, d2=0.697 g=0.691\n",
            "WARNING:tensorflow:Compiled the loaded model, but the compiled metrics have yet to be built. `model.compile_metrics` will be empty until you train or evaluate the model.\n",
            "Epoch>119, Batch  10%, d1=0.696, d2=0.694 g=0.695\n",
            "Epoch>119, Batch  20%, d1=0.694, d2=0.689 g=0.700\n",
            "Epoch>119, Batch  30%, d1=0.697, d2=0.694 g=0.694\n",
            "Epoch>119, Batch  40%, d1=0.690, d2=0.698 g=0.694\n",
            "Epoch>119, Batch  50%, d1=0.694, d2=0.701 g=0.693\n",
            "Epoch>119, Batch  60%, d1=0.695, d2=0.696 g=0.697\n",
            "Epoch>119, Batch  70%, d1=0.694, d2=0.696 g=0.696\n",
            "Epoch>119, Batch  80%, d1=0.695, d2=0.691 g=0.699\n",
            "Epoch>119, Batch  90%, d1=0.696, d2=0.691 g=0.699\n",
            "Epoch>119, Batch 100%, d1=0.696, d2=0.695 g=0.697\n",
            "WARNING:tensorflow:Compiled the loaded model, but the compiled metrics have yet to be built. `model.compile_metrics` will be empty until you train or evaluate the model.\n",
            "Epoch>120, Batch  10%, d1=0.698, d2=0.692 g=0.698\n",
            "Epoch>120, Batch  20%, d1=0.695, d2=0.694 g=0.693\n",
            "Epoch>120, Batch  30%, d1=0.695, d2=0.693 g=0.698\n",
            "Epoch>120, Batch  40%, d1=0.695, d2=0.694 g=0.696\n",
            "Epoch>120, Batch  50%, d1=0.698, d2=0.695 g=0.696\n",
            "Epoch>120, Batch  60%, d1=0.698, d2=0.696 g=0.697\n",
            "Epoch>120, Batch  70%, d1=0.693, d2=0.700 g=0.692\n",
            "Epoch>120, Batch  80%, d1=0.690, d2=0.697 g=0.696\n",
            "Epoch>120, Batch  90%, d1=0.699, d2=0.692 g=0.700\n",
            "Epoch>120, Batch 100%, d1=0.698, d2=0.692 g=0.704\n",
            ">Accuracy real: 44.7%, fake: 62.7%\n"
          ]
        },
        {
          "output_type": "display_data",
          "data": {
            "application/javascript": [
              "\n",
              "    async function download(id, filename, size) {\n",
              "      if (!google.colab.kernel.accessAllowed) {\n",
              "        return;\n",
              "      }\n",
              "      const div = document.createElement('div');\n",
              "      const label = document.createElement('label');\n",
              "      label.textContent = `Downloading \"${filename}\": `;\n",
              "      div.appendChild(label);\n",
              "      const progress = document.createElement('progress');\n",
              "      progress.max = size;\n",
              "      div.appendChild(progress);\n",
              "      document.body.appendChild(div);\n",
              "\n",
              "      const buffers = [];\n",
              "      let downloaded = 0;\n",
              "\n",
              "      const channel = await google.colab.kernel.comms.open(id);\n",
              "      // Send a message to notify the kernel that we're ready.\n",
              "      channel.send({})\n",
              "\n",
              "      for await (const message of channel.messages) {\n",
              "        // Send a message to notify the kernel that we're ready.\n",
              "        channel.send({})\n",
              "        if (message.buffers) {\n",
              "          for (const buffer of message.buffers) {\n",
              "            buffers.push(buffer);\n",
              "            downloaded += buffer.byteLength;\n",
              "            progress.value = downloaded;\n",
              "          }\n",
              "        }\n",
              "      }\n",
              "      const blob = new Blob(buffers, {type: 'application/binary'});\n",
              "      const a = document.createElement('a');\n",
              "      a.href = window.URL.createObjectURL(blob);\n",
              "      a.download = filename;\n",
              "      div.appendChild(a);\n",
              "      a.click();\n",
              "      div.remove();\n",
              "    }\n",
              "  "
            ],
            "text/plain": [
              "<IPython.core.display.Javascript object>"
            ]
          },
          "metadata": {}
        },
        {
          "output_type": "display_data",
          "data": {
            "application/javascript": [
              "download(\"download_8d37e82a-c5e2-4cfc-b87e-0289ddc4ba57\", \"generated_plot_e120.png\", 213583)"
            ],
            "text/plain": [
              "<IPython.core.display.Javascript object>"
            ]
          },
          "metadata": {}
        },
        {
          "output_type": "stream",
          "name": "stdout",
          "text": [
            "WARNING:tensorflow:Compiled the loaded model, but the compiled metrics have yet to be built. `model.compile_metrics` will be empty until you train or evaluate the model.\n"
          ]
        },
        {
          "output_type": "display_data",
          "data": {
            "application/javascript": [
              "\n",
              "    async function download(id, filename, size) {\n",
              "      if (!google.colab.kernel.accessAllowed) {\n",
              "        return;\n",
              "      }\n",
              "      const div = document.createElement('div');\n",
              "      const label = document.createElement('label');\n",
              "      label.textContent = `Downloading \"${filename}\": `;\n",
              "      div.appendChild(label);\n",
              "      const progress = document.createElement('progress');\n",
              "      progress.max = size;\n",
              "      div.appendChild(progress);\n",
              "      document.body.appendChild(div);\n",
              "\n",
              "      const buffers = [];\n",
              "      let downloaded = 0;\n",
              "\n",
              "      const channel = await google.colab.kernel.comms.open(id);\n",
              "      // Send a message to notify the kernel that we're ready.\n",
              "      channel.send({})\n",
              "\n",
              "      for await (const message of channel.messages) {\n",
              "        // Send a message to notify the kernel that we're ready.\n",
              "        channel.send({})\n",
              "        if (message.buffers) {\n",
              "          for (const buffer of message.buffers) {\n",
              "            buffers.push(buffer);\n",
              "            downloaded += buffer.byteLength;\n",
              "            progress.value = downloaded;\n",
              "          }\n",
              "        }\n",
              "      }\n",
              "      const blob = new Blob(buffers, {type: 'application/binary'});\n",
              "      const a = document.createElement('a');\n",
              "      a.href = window.URL.createObjectURL(blob);\n",
              "      a.download = filename;\n",
              "      div.appendChild(a);\n",
              "      a.click();\n",
              "      div.remove();\n",
              "    }\n",
              "  "
            ],
            "text/plain": [
              "<IPython.core.display.Javascript object>"
            ]
          },
          "metadata": {}
        },
        {
          "output_type": "display_data",
          "data": {
            "application/javascript": [
              "download(\"download_f7a89096-981e-43f6-af90-a6719b13efde\", \"generator_model_120.h5\", 5529776)"
            ],
            "text/plain": [
              "<IPython.core.display.Javascript object>"
            ]
          },
          "metadata": {}
        },
        {
          "output_type": "display_data",
          "data": {
            "application/javascript": [
              "\n",
              "    async function download(id, filename, size) {\n",
              "      if (!google.colab.kernel.accessAllowed) {\n",
              "        return;\n",
              "      }\n",
              "      const div = document.createElement('div');\n",
              "      const label = document.createElement('label');\n",
              "      label.textContent = `Downloading \"${filename}\": `;\n",
              "      div.appendChild(label);\n",
              "      const progress = document.createElement('progress');\n",
              "      progress.max = size;\n",
              "      div.appendChild(progress);\n",
              "      document.body.appendChild(div);\n",
              "\n",
              "      const buffers = [];\n",
              "      let downloaded = 0;\n",
              "\n",
              "      const channel = await google.colab.kernel.comms.open(id);\n",
              "      // Send a message to notify the kernel that we're ready.\n",
              "      channel.send({})\n",
              "\n",
              "      for await (const message of channel.messages) {\n",
              "        // Send a message to notify the kernel that we're ready.\n",
              "        channel.send({})\n",
              "        if (message.buffers) {\n",
              "          for (const buffer of message.buffers) {\n",
              "            buffers.push(buffer);\n",
              "            downloaded += buffer.byteLength;\n",
              "            progress.value = downloaded;\n",
              "          }\n",
              "        }\n",
              "      }\n",
              "      const blob = new Blob(buffers, {type: 'application/binary'});\n",
              "      const a = document.createElement('a');\n",
              "      a.href = window.URL.createObjectURL(blob);\n",
              "      a.download = filename;\n",
              "      div.appendChild(a);\n",
              "      a.click();\n",
              "      div.remove();\n",
              "    }\n",
              "  "
            ],
            "text/plain": [
              "<IPython.core.display.Javascript object>"
            ]
          },
          "metadata": {}
        },
        {
          "output_type": "display_data",
          "data": {
            "application/javascript": [
              "download(\"download_9cf95e10-96b0-4e15-9678-31c19bb4a211\", \"descriminator_model_120.h5\", 1949824)"
            ],
            "text/plain": [
              "<IPython.core.display.Javascript object>"
            ]
          },
          "metadata": {}
        },
        {
          "output_type": "stream",
          "name": "stdout",
          "text": [
            "WARNING:tensorflow:Compiled the loaded model, but the compiled metrics have yet to be built. `model.compile_metrics` will be empty until you train or evaluate the model.\n",
            "Epoch>121, Batch  10%, d1=0.689, d2=0.694 g=0.692\n",
            "Epoch>121, Batch  20%, d1=0.691, d2=0.696 g=0.693\n",
            "Epoch>121, Batch  30%, d1=0.693, d2=0.697 g=0.692\n",
            "Epoch>121, Batch  40%, d1=0.692, d2=0.690 g=0.696\n",
            "Epoch>121, Batch  50%, d1=0.696, d2=0.694 g=0.695\n",
            "Epoch>121, Batch  60%, d1=0.685, d2=0.696 g=0.693\n",
            "Epoch>121, Batch  70%, d1=0.691, d2=0.692 g=0.698\n",
            "Epoch>121, Batch  80%, d1=0.693, d2=0.696 g=0.695\n",
            "Epoch>121, Batch  90%, d1=0.692, d2=0.702 g=0.694\n",
            "Epoch>121, Batch 100%, d1=0.687, d2=0.685 g=0.709\n",
            "WARNING:tensorflow:Compiled the loaded model, but the compiled metrics have yet to be built. `model.compile_metrics` will be empty until you train or evaluate the model.\n",
            "Epoch>122, Batch  10%, d1=0.692, d2=0.702 g=0.690\n",
            "Epoch>122, Batch  20%, d1=0.695, d2=0.696 g=0.694\n",
            "Epoch>122, Batch  30%, d1=0.695, d2=0.690 g=0.702\n",
            "Epoch>122, Batch  40%, d1=0.695, d2=0.699 g=0.696\n",
            "Epoch>122, Batch  50%, d1=0.692, d2=0.699 g=0.695\n",
            "Epoch>122, Batch  60%, d1=0.693, d2=0.695 g=0.694\n",
            "Epoch>122, Batch  70%, d1=0.694, d2=0.697 g=0.693\n",
            "Epoch>122, Batch  80%, d1=0.692, d2=0.694 g=0.698\n",
            "Epoch>122, Batch  90%, d1=0.695, d2=0.693 g=0.697\n",
            "Epoch>122, Batch 100%, d1=0.695, d2=0.694 g=0.695\n",
            "WARNING:tensorflow:Compiled the loaded model, but the compiled metrics have yet to be built. `model.compile_metrics` will be empty until you train or evaluate the model.\n",
            "Epoch>123, Batch  10%, d1=0.694, d2=0.691 g=0.698\n",
            "Epoch>123, Batch  20%, d1=0.693, d2=0.699 g=0.691\n",
            "Epoch>123, Batch  30%, d1=0.692, d2=0.705 g=0.690\n",
            "Epoch>123, Batch  40%, d1=0.695, d2=0.691 g=0.698\n",
            "Epoch>123, Batch  50%, d1=0.698, d2=0.696 g=0.693\n",
            "Epoch>123, Batch  60%, d1=0.693, d2=0.690 g=0.704\n",
            "Epoch>123, Batch  70%, d1=0.689, d2=0.705 g=0.692\n",
            "Epoch>123, Batch  80%, d1=0.692, d2=0.703 g=0.692\n",
            "Epoch>123, Batch  90%, d1=0.692, d2=0.693 g=0.701\n",
            "Epoch>123, Batch 100%, d1=0.693, d2=0.694 g=0.696\n",
            "WARNING:tensorflow:Compiled the loaded model, but the compiled metrics have yet to be built. `model.compile_metrics` will be empty until you train or evaluate the model.\n",
            "Epoch>124, Batch  10%, d1=0.694, d2=0.700 g=0.692\n",
            "Epoch>124, Batch  20%, d1=0.693, d2=0.702 g=0.692\n",
            "Epoch>124, Batch  30%, d1=0.696, d2=0.691 g=0.702\n",
            "Epoch>124, Batch  40%, d1=0.697, d2=0.693 g=0.700\n",
            "Epoch>124, Batch  50%, d1=0.692, d2=0.696 g=0.692\n",
            "Epoch>124, Batch  60%, d1=0.691, d2=0.691 g=0.699\n",
            "Epoch>124, Batch  70%, d1=0.697, d2=0.691 g=0.699\n",
            "Epoch>124, Batch  80%, d1=0.695, d2=0.693 g=0.698\n",
            "Epoch>124, Batch  90%, d1=0.696, d2=0.695 g=0.698\n"
          ]
        }
      ]
    },
    {
      "cell_type": "code",
      "source": [
        "from google.colab import drive\n",
        "drive.mount('/content/drive')"
      ],
      "metadata": {
        "id": "mxyWyVwGkI_Q"
      },
      "execution_count": null,
      "outputs": []
    },
    {
      "cell_type": "markdown",
      "source": [
        "### Note"
      ],
      "metadata": {
        "id": "s1L04hcVoW5n"
      }
    },
    {
      "cell_type": "markdown",
      "source": [
        "* results may vary given the stochastic nature of the algorithm or evaluation procedure, or differences in numerical precision. \n",
        "* In this case, the loss remains stable over the course of training. \n",
        "* The **discriminator loss** on the real and generated examples sits around **0.5**, whereas the loss for the **generator** trained via the discriminator sits around **1.5** for much of the training process."
      ],
      "metadata": {
        "id": "RZ6yeTA8oEJY"
      }
    },
    {
      "cell_type": "markdown",
      "source": [
        "# **7. Image generation** with final generator model "
      ],
      "metadata": {
        "id": "T9xwMpAuc25c"
      }
    },
    {
      "cell_type": "code",
      "source": [
        "import numpy as np\n",
        "from keras.models import load_model\n",
        "from numpy.random import randn\n",
        "from matplotlib import pyplot\n",
        "from matplotlib.pyplot import figure\n",
        "\n",
        "# generate points in latent space as input for the generator\n",
        "def generate_latent_points(latent_dim, n_samples):\n",
        "\t# generate points in the latent space\n",
        "\tx_input = randn(latent_dim * n_samples)\n",
        "\t# reshape into a batch of inputs for the network\n",
        "\tx_input = x_input.reshape(n_samples, latent_dim)\n",
        "\treturn x_input\n",
        "\n",
        "# Plot generated images \n",
        "def show_plot(examples, n):\n",
        "  figure(figsize=FIG_SIZE, dpi=80)\n",
        "  for i in range(n * n):\n",
        "    plt.subplot(n, n, 1 + i)\n",
        "    plt.axis('off')\n",
        "    plt.imshow(examples[i, :, :, :])\n",
        "  plt.show()\n",
        "\n",
        "# plot the generated images\n",
        "def create_plot(examples, n):\n",
        "  figure(figsize=FIG_SIZE, dpi=80)\n",
        "  # plot images\n",
        "  for i in range(n * n):\n",
        "    # define subplot\n",
        "    pyplot.subplot(n, n, 1 + i)\n",
        "    # turn off axis\n",
        "    pyplot.axis('off')\n",
        "    # plot raw pixel data\n",
        "    pyplot.imshow(examples[i, :, :])\n",
        "  pyplot.show()\n",
        " \n",
        "# load model\n",
        "model = load_model('/content/cifar_gan_final.h5') \n",
        "# Model trained for 100 epochs\n",
        "\n",
        "# generate images\n",
        "#latent_points = generate_latent_points(100, 25)  \n",
        "latent_points = generate_latent_points(100, 100)  \n",
        "#Latent dim and n_samples\n",
        "\n",
        "# generate images\n",
        "X = model.predict(latent_points)\n",
        "\n",
        "# scale from [-1,1] to [0,1]\n",
        "X = (X + 1) / 2.0\n",
        "\n",
        "# plot the result\n",
        "create_plot(X, 10)\n",
        "\n",
        "X = (X*255).astype(np.uint8)\n",
        "\n",
        "# plot the result\n",
        "show_plot(X, 5)\n",
        "\n",
        "#Note: CIFAR10 classes are: airplane, automobile, bird, cat, deer, dog, frog, horse,\n",
        "# ship, truck"
      ],
      "metadata": {
        "id": "f2jvNH_IdJWi"
      },
      "execution_count": null,
      "outputs": []
    },
    {
      "cell_type": "code",
      "source": [
        "import os\n",
        "\n",
        "os.getcwd()"
      ],
      "metadata": {
        "id": "kP7hFEiTd1p8"
      },
      "execution_count": null,
      "outputs": []
    }
  ]
}