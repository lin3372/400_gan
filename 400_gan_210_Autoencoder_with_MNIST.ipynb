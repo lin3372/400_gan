{
  "nbformat": 4,
  "nbformat_minor": 0,
  "metadata": {
    "colab": {
      "name": "400_gan.210.Autoencoder with MNIST.ipynb",
      "provenance": [],
      "authorship_tag": "ABX9TyNj0nvB7lJge+Gbdtld9Yla",
      "include_colab_link": true
    },
    "kernelspec": {
      "name": "python3",
      "display_name": "Python 3"
    },
    "language_info": {
      "name": "python"
    }
  },
  "cells": [
    {
      "cell_type": "markdown",
      "metadata": {
        "id": "view-in-github",
        "colab_type": "text"
      },
      "source": [
        "<a href=\"https://colab.research.google.com/github/lin3372/400_gan/blob/main/400_gan_210_Autoencoder_with_MNIST.ipynb\" target=\"_parent\"><img src=\"https://colab.research.google.com/assets/colab-badge.svg\" alt=\"Open In Colab\"/></a>"
      ]
    },
    {
      "cell_type": "markdown",
      "source": [
        "# Machine Learning with AE (Autoencoder) applied to MNIST with Python code\n",
        "* [meidum - datSci](https://towardsdatascience.com/how-to-generate-new-data-in-machine-learning-with-vae-variational-autoencoder-applied-to-mnist-ca68591acdcf)\n",
        "* [github - VAE_Variational_Autoencoders](https://github.com/lbun/VAE_Variational_Autoencoders/blob/master/VAE_Variational_Autoencoders_Part1.ipynb) "
      ],
      "metadata": {
        "id": "B5ImRLTN_yZ-"
      }
    },
    {
      "cell_type": "markdown",
      "source": [
        "The AutoEncoders are Neural Networks used to generate new data (Unsupervised Learning). This model is used for generating new data for the dataset or also in case we want to cancel the noise from our data. The Networks is composed by multiple Neural Networks: an **encoder** and a **decoder** connected by a bottleneck that is the **latent space** as represented in the image below:"
      ],
      "metadata": {
        "id": "WjQsGgIZGU9u"
      }
    },
    {
      "cell_type": "markdown",
      "source": [
        "<img src=\"https://miro.medium.com/max/1500/1*KljH__AWgps488GDaEIH1A.png\" width=\"500\">"
      ],
      "metadata": {
        "id": "A-RaaglCGkXW"
      }
    },
    {
      "cell_type": "markdown",
      "source": [
        "The **Encoder** process the data till the bottleneck (**Latent space**) reducing the size and the **Decoder** take the data and and reconstruct the data structure to give the same output as our original data. We can see the latent space as a representation of our data.\n",
        "\n",
        "In this specific case, we are reading numbers (Mnist Dataset) images of 28x28 pixels (784 elements), we want to reduce them to 32 elements (latent space) recreating than again the image of 28x28 pixels.\n",
        "\n",
        "The MNIST dataset is a large collection of handwritten digits that is commonly used for in image processing."
      ],
      "metadata": {
        "id": "cju1e4_XHVAd"
      }
    },
    {
      "cell_type": "markdown",
      "source": [
        "<img src=\"https://miro.medium.com/max/1050/1*xYSAmgivlMCdYuMGZbiq2Q.png\" width=\"300\" align=\"center\">"
      ],
      "metadata": {
        "id": "rneczM_gHmPV"
      }
    },
    {
      "cell_type": "code",
      "source": [
        "import warnings\n",
        "warnings.filterwarnings('ignore')\n",
        "import numpy as np\n",
        "import pandas as pd\n",
        "import matplotlib.pyplot as plt\n",
        "%matplotlib inline\n",
        "from tensorflow.keras import models,layers\n",
        "from tensorflow.keras import applications\n",
        "import glob2 as glob\n",
        "from numpy import random"
      ],
      "metadata": {
        "id": "YgnbsdA-H5sk"
      },
      "execution_count": 1,
      "outputs": []
    },
    {
      "cell_type": "markdown",
      "source": [
        "To go deeper with Model CLass and API: https://keras.io/models/model/ https://keras.io/getting-started/functional-api-guide/"
      ],
      "metadata": {
        "id": "mtjdkLYKIEdN"
      }
    },
    {
      "cell_type": "code",
      "source": [
        "# dimensionality of the latents space \n",
        "embedding_dim = 32 \n",
        "\n",
        "#Input layer\n",
        "input_img = layers.Input(shape=(784,))  \n",
        "\n",
        "#Encoding layer\n",
        "encoded = layers.Dense(embedding_dim, activation='relu')(input_img)\n",
        "\n",
        "#Decoding layer\n",
        "decoded = layers.Dense(784,activation='sigmoid')(encoded) \n",
        "\n",
        "#Autoencoder --> in this API Model, we define the Input tensor and the output layer\n",
        "#wraps the 2 layers of Encoder e Decoder\n",
        "autoencoder = models.Model(input_img,decoded)\n",
        "autoencoder.summary()\n",
        "\n",
        "#Encoder\n",
        "encoder = models.Model(input_img,encoded)\n",
        "encoder.summary()\n",
        "\n",
        "#Decoder\n",
        "encoded_input = layers.Input(shape=(embedding_dim,))\n",
        "decoder_layers = autoencoder.layers[-1]  #applying the last layer\n",
        "decoder = models.Model(encoded_input,decoder_layers(encoded_input))\n",
        "\n",
        "print(input_img)\n",
        "print(encoded)"
      ],
      "metadata": {
        "colab": {
          "base_uri": "https://localhost:8080/"
        },
        "id": "16q-Cew8IGgc",
        "outputId": "e0834cf7-b7c9-439a-d6d2-4a0cadbd93bd"
      },
      "execution_count": 2,
      "outputs": [
        {
          "output_type": "stream",
          "name": "stdout",
          "text": [
            "Model: \"model\"\n",
            "_________________________________________________________________\n",
            " Layer (type)                Output Shape              Param #   \n",
            "=================================================================\n",
            " input_1 (InputLayer)        [(None, 784)]             0         \n",
            "                                                                 \n",
            " dense (Dense)               (None, 32)                25120     \n",
            "                                                                 \n",
            " dense_1 (Dense)             (None, 784)               25872     \n",
            "                                                                 \n",
            "=================================================================\n",
            "Total params: 50,992\n",
            "Trainable params: 50,992\n",
            "Non-trainable params: 0\n",
            "_________________________________________________________________\n",
            "Model: \"model_1\"\n",
            "_________________________________________________________________\n",
            " Layer (type)                Output Shape              Param #   \n",
            "=================================================================\n",
            " input_1 (InputLayer)        [(None, 784)]             0         \n",
            "                                                                 \n",
            " dense (Dense)               (None, 32)                25120     \n",
            "                                                                 \n",
            "=================================================================\n",
            "Total params: 25,120\n",
            "Trainable params: 25,120\n",
            "Non-trainable params: 0\n",
            "_________________________________________________________________\n",
            "KerasTensor(type_spec=TensorSpec(shape=(None, 784), dtype=tf.float32, name='input_1'), name='input_1', description=\"created by layer 'input_1'\")\n",
            "KerasTensor(type_spec=TensorSpec(shape=(None, 32), dtype=tf.float32, name=None), name='dense/Relu:0', description=\"created by layer 'dense'\")\n"
          ]
        }
      ]
    },
    {
      "cell_type": "code",
      "source": [
        "autoencoder.compile(\n",
        "    optimizer='adadelta',  #backpropagation Gradient Descent\n",
        "    loss='binary_crossentropy'\n",
        ")"
      ],
      "metadata": {
        "id": "uhfA4ee1IQYE"
      },
      "execution_count": 3,
      "outputs": []
    },
    {
      "cell_type": "code",
      "source": [
        "from tensorflow.keras.datasets import mnist\n",
        "import numpy as np\n",
        "\n",
        "(x_train, _), (x_test, _) = mnist.load_data()   #underscore for unanimous label that we don't\n",
        "                                                # want to keep im memory\n",
        "#Normalization\n",
        "\n",
        "x_train = x_train.astype('float32')/255.0\n",
        "x_test = x_test.astype('float32')/255.0\n",
        "\n",
        "x_train = x_train.reshape((-1,784))  #to go from (60000,28,28) to new shape and -1 let\n",
        "                                     #numpy to calculate the number for you\n",
        "x_test = x_test.reshape((-1,784))\n",
        "\n",
        "print(x_train.shape,x_test.shape)"
      ],
      "metadata": {
        "colab": {
          "base_uri": "https://localhost:8080/"
        },
        "id": "vHjhgN9VIUdM",
        "outputId": "54137a6c-899a-47b7-da21-1939a31ef89e"
      },
      "execution_count": 4,
      "outputs": [
        {
          "output_type": "stream",
          "name": "stdout",
          "text": [
            "Downloading data from https://storage.googleapis.com/tensorflow/tf-keras-datasets/mnist.npz\n",
            "11493376/11490434 [==============================] - 0s 0us/step\n",
            "11501568/11490434 [==============================] - 0s 0us/step\n",
            "(60000, 784) (10000, 784)\n"
          ]
        }
      ]
    },
    {
      "cell_type": "code",
      "source": [
        "history = autoencoder.fit(x_train,x_train,epochs=50,batch_size=256,shuffle=True,\n",
        "                validation_data=(x_test,x_test))"
      ],
      "metadata": {
        "colab": {
          "base_uri": "https://localhost:8080/"
        },
        "id": "QURJUpDGIfiU",
        "outputId": "df827450-b43a-417d-cfd3-f898a179f00b"
      },
      "execution_count": 5,
      "outputs": [
        {
          "output_type": "stream",
          "name": "stdout",
          "text": [
            "Epoch 1/50\n",
            "235/235 [==============================] - 3s 11ms/step - loss: 0.6941 - val_loss: 0.6941\n",
            "Epoch 2/50\n",
            "235/235 [==============================] - 3s 11ms/step - loss: 0.6939 - val_loss: 0.6939\n",
            "Epoch 3/50\n",
            "235/235 [==============================] - 2s 11ms/step - loss: 0.6937 - val_loss: 0.6937\n",
            "Epoch 4/50\n",
            "235/235 [==============================] - 3s 11ms/step - loss: 0.6935 - val_loss: 0.6935\n",
            "Epoch 5/50\n",
            "235/235 [==============================] - 3s 11ms/step - loss: 0.6933 - val_loss: 0.6933\n",
            "Epoch 6/50\n",
            "235/235 [==============================] - 3s 11ms/step - loss: 0.6932 - val_loss: 0.6932\n",
            "Epoch 7/50\n",
            "235/235 [==============================] - 3s 11ms/step - loss: 0.6930 - val_loss: 0.6930\n",
            "Epoch 8/50\n",
            "235/235 [==============================] - 2s 11ms/step - loss: 0.6928 - val_loss: 0.6928\n",
            "Epoch 9/50\n",
            "235/235 [==============================] - 3s 11ms/step - loss: 0.6926 - val_loss: 0.6926\n",
            "Epoch 10/50\n",
            "235/235 [==============================] - 3s 11ms/step - loss: 0.6924 - val_loss: 0.6924\n",
            "Epoch 11/50\n",
            "235/235 [==============================] - 3s 11ms/step - loss: 0.6923 - val_loss: 0.6923\n",
            "Epoch 12/50\n",
            "235/235 [==============================] - 3s 11ms/step - loss: 0.6921 - val_loss: 0.6921\n",
            "Epoch 13/50\n",
            "235/235 [==============================] - 2s 11ms/step - loss: 0.6919 - val_loss: 0.6919\n",
            "Epoch 14/50\n",
            "235/235 [==============================] - 2s 10ms/step - loss: 0.6917 - val_loss: 0.6917\n",
            "Epoch 15/50\n",
            "235/235 [==============================] - 3s 11ms/step - loss: 0.6916 - val_loss: 0.6916\n",
            "Epoch 16/50\n",
            "235/235 [==============================] - 3s 11ms/step - loss: 0.6914 - val_loss: 0.6914\n",
            "Epoch 17/50\n",
            "235/235 [==============================] - 3s 11ms/step - loss: 0.6912 - val_loss: 0.6912\n",
            "Epoch 18/50\n",
            "235/235 [==============================] - 3s 11ms/step - loss: 0.6910 - val_loss: 0.6910\n",
            "Epoch 19/50\n",
            "235/235 [==============================] - 3s 11ms/step - loss: 0.6909 - val_loss: 0.6908\n",
            "Epoch 20/50\n",
            "235/235 [==============================] - 3s 11ms/step - loss: 0.6907 - val_loss: 0.6906\n",
            "Epoch 21/50\n",
            "235/235 [==============================] - 3s 11ms/step - loss: 0.6905 - val_loss: 0.6905\n",
            "Epoch 22/50\n",
            "235/235 [==============================] - 3s 11ms/step - loss: 0.6903 - val_loss: 0.6903\n",
            "Epoch 23/50\n",
            "235/235 [==============================] - 3s 11ms/step - loss: 0.6901 - val_loss: 0.6901\n",
            "Epoch 24/50\n",
            "235/235 [==============================] - 3s 11ms/step - loss: 0.6899 - val_loss: 0.6899\n",
            "Epoch 25/50\n",
            "235/235 [==============================] - 3s 11ms/step - loss: 0.6898 - val_loss: 0.6897\n",
            "Epoch 26/50\n",
            "235/235 [==============================] - 3s 11ms/step - loss: 0.6896 - val_loss: 0.6895\n",
            "Epoch 27/50\n",
            "235/235 [==============================] - 3s 11ms/step - loss: 0.6894 - val_loss: 0.6893\n",
            "Epoch 28/50\n",
            "235/235 [==============================] - 3s 11ms/step - loss: 0.6892 - val_loss: 0.6891\n",
            "Epoch 29/50\n",
            "235/235 [==============================] - 3s 11ms/step - loss: 0.6890 - val_loss: 0.6889\n",
            "Epoch 30/50\n",
            "235/235 [==============================] - 3s 11ms/step - loss: 0.6888 - val_loss: 0.6887\n",
            "Epoch 31/50\n",
            "235/235 [==============================] - 3s 11ms/step - loss: 0.6886 - val_loss: 0.6885\n",
            "Epoch 32/50\n",
            "235/235 [==============================] - 3s 11ms/step - loss: 0.6884 - val_loss: 0.6883\n",
            "Epoch 33/50\n",
            "235/235 [==============================] - 3s 11ms/step - loss: 0.6882 - val_loss: 0.6881\n",
            "Epoch 34/50\n",
            "235/235 [==============================] - 3s 11ms/step - loss: 0.6879 - val_loss: 0.6879\n",
            "Epoch 35/50\n",
            "235/235 [==============================] - 3s 11ms/step - loss: 0.6877 - val_loss: 0.6876\n",
            "Epoch 36/50\n",
            "235/235 [==============================] - 2s 11ms/step - loss: 0.6875 - val_loss: 0.6874\n",
            "Epoch 37/50\n",
            "235/235 [==============================] - 3s 11ms/step - loss: 0.6873 - val_loss: 0.6872\n",
            "Epoch 38/50\n",
            "235/235 [==============================] - 3s 11ms/step - loss: 0.6870 - val_loss: 0.6870\n",
            "Epoch 39/50\n",
            "235/235 [==============================] - 3s 11ms/step - loss: 0.6868 - val_loss: 0.6867\n",
            "Epoch 40/50\n",
            "235/235 [==============================] - 3s 11ms/step - loss: 0.6866 - val_loss: 0.6865\n",
            "Epoch 41/50\n",
            "235/235 [==============================] - 3s 11ms/step - loss: 0.6863 - val_loss: 0.6862\n",
            "Epoch 42/50\n",
            "235/235 [==============================] - 3s 11ms/step - loss: 0.6861 - val_loss: 0.6860\n",
            "Epoch 43/50\n",
            "235/235 [==============================] - 3s 11ms/step - loss: 0.6858 - val_loss: 0.6857\n",
            "Epoch 44/50\n",
            "235/235 [==============================] - 3s 11ms/step - loss: 0.6856 - val_loss: 0.6854\n",
            "Epoch 45/50\n",
            "235/235 [==============================] - 3s 11ms/step - loss: 0.6853 - val_loss: 0.6852\n",
            "Epoch 46/50\n",
            "235/235 [==============================] - 3s 11ms/step - loss: 0.6850 - val_loss: 0.6849\n",
            "Epoch 47/50\n",
            "235/235 [==============================] - 3s 11ms/step - loss: 0.6847 - val_loss: 0.6846\n",
            "Epoch 48/50\n",
            "235/235 [==============================] - 3s 11ms/step - loss: 0.6844 - val_loss: 0.6843\n",
            "Epoch 49/50\n",
            "235/235 [==============================] - 3s 11ms/step - loss: 0.6841 - val_loss: 0.6840\n",
            "Epoch 50/50\n",
            "235/235 [==============================] - 3s 11ms/step - loss: 0.6838 - val_loss: 0.6837\n"
          ]
        }
      ]
    },
    {
      "cell_type": "code",
      "source": [
        "plt.plot(history.history['loss'],label='loss')\n",
        "plt.plot(history.history['val_loss'],label='val_loss')\n",
        "plt.legend()\n",
        "plt.show()\n",
        "plt.close()"
      ],
      "metadata": {
        "colab": {
          "base_uri": "https://localhost:8080/",
          "height": 265
        },
        "id": "t0odlQVqIpd8",
        "outputId": "0f80c72c-7fed-4660-f552-b585b061e0a1"
      },
      "execution_count": 6,
      "outputs": [
        {
          "output_type": "display_data",
          "data": {
            "image/png": "[encoded data removed]",
            "text/plain": [
              "<Figure size 432x288 with 1 Axes>"
            ]
          },
          "metadata": {
            "needs_background": "light"
          }
        }
      ]
    },
    {
      "cell_type": "markdown",
      "source": [
        "## Validation tell us how good is the model in generalizing"
      ],
      "metadata": {
        "id": "tMggOuQqIvRT"
      }
    },
    {
      "cell_type": "code",
      "source": [
        "encoded_imgs = encoder.predict(x_test) \n",
        "decoded_imgs = decoder.predict(encoded_imgs)  \n",
        "print(encoded_imgs.shape,decoded_imgs.shape)\n",
        "\n",
        "n = 10\n",
        "plt.figure(figsize=(20,4))\n",
        "for i in range(n):\n",
        "    ax = plt.subplot(2, n, i+1)\n",
        "    plt.imshow(x_test[i].reshape((28,28)),cmap='gray')\n",
        "    ax.get_xaxis().set_visible(False)\n",
        "    ax.get_yaxis().set_visible(False)\n",
        "    \n",
        "    ax = plt.subplot(2,n,i+1+n)\n",
        "    plt.imshow(decoded_imgs[i].reshape((28,28)),cmap='gray')\n",
        "    ax.get_xaxis().set_visible(False)\n",
        "    ax.get_yaxis().set_visible(False)\n",
        "    \n",
        "plt.show()\n",
        "plt.close()"
      ],
      "metadata": {
        "colab": {
          "base_uri": "https://localhost:8080/",
          "height": 265
        },
        "id": "qJGibjoZIz8D",
        "outputId": "c1cb07bc-2908-4a5e-d6a5-21a4b6455539"
      },
      "execution_count": 7,
      "outputs": [
        {
          "output_type": "stream",
          "name": "stdout",
          "text": [
            "(10000, 32) (10000, 784)\n"
          ]
        },
        {
          "output_type": "display_data",
          "data": {
            "image/png": "[encoded data removed]",
            "text/plain": [
              "<Figure size 1440x288 with 20 Axes>"
            ]
          },
          "metadata": {
            "needs_background": "light"
          }
        }
      ]
    }
  ]
}